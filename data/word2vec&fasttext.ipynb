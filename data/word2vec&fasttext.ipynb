{
  "nbformat": 4,
  "nbformat_minor": 0,
  "metadata": {
    "colab": {
      "provenance": [],
      "collapsed_sections": [],
      "toc_visible": true
    },
    "kernelspec": {
      "name": "python3",
      "display_name": "Python 3"
    },
    "language_info": {
      "name": "python"
    }
  },
  "cells": [
    {
      "cell_type": "code",
      "source": [
        "#!pip install konlpy\n",
        "#!git clone https://github.com/SOMJANG/Mecab-ko-for-Google-Colab.git\n",
        "#!bash Mecab-ko-for-Google-Colab/install_mecab-ko_on_colab190912.sh\n",
        "#!install Mecab\n",
        "\n",
        "import pandas as pd\n",
        "import matplotlib.pyplot as plt\n",
        "from gensim.models.word2vec import Word2Vec\n",
        "from konlpy.tag import Mecab"
      ],
      "metadata": {
        "id": "nRv4lQyj8z2x"
      },
      "execution_count": null,
      "outputs": []
    },
    {
      "cell_type": "code",
      "source": [
        "mecab = Mecab()"
      ],
      "metadata": {
        "id": "uwJZclOY9ZK8"
      },
      "execution_count": null,
      "outputs": []
    },
    {
      "cell_type": "code",
      "source": [
        "df = pd.read_table('ratings_test.txt')"
      ],
      "metadata": {
        "id": "m7OwPcZve7KF"
      },
      "execution_count": null,
      "outputs": []
    },
    {
      "cell_type": "code",
      "source": [
        "df"
      ],
      "metadata": {
        "colab": {
          "base_uri": "https://localhost:8080/",
          "height": 352
        },
        "id": "RQ5zsi7ZgAQj",
        "outputId": "6b0af191-815d-456e-d5b5-c618a5994d1c"
      },
      "execution_count": null,
      "outputs": [
        {
          "output_type": "execute_result",
          "data": {
            "text/plain": [
              "            id                                           document  label\n",
              "0      6270596                                                굳 ㅋ      1\n",
              "1      9274899                               GDNTOPCLASSINTHECLUB      0\n",
              "2      8544678             뭐야 이 평점들은.... 나쁘진 않지만 10점 짜리는 더더욱 아니잖아      0\n",
              "3      6825595                   지루하지는 않은데 완전 막장임... 돈주고 보기에는....      0\n",
              "4      6723715  3D만 아니었어도 별 다섯 개 줬을텐데.. 왜 3D로 나와서 제 심기를 불편하게 하죠??      0\n",
              "...        ...                                                ...    ...\n",
              "49995  4608761          오랜만에 평점 로긴했네ㅋㅋ 킹왕짱 쌈뽕한 영화를 만났습니다 강렬하게 육쾌함      1\n",
              "49996  5308387       의지 박약들이나 하는거다 탈영은 일단 주인공 김대희 닮았고 이등병 찐따 OOOO      0\n",
              "49997  9072549                 그림도 좋고 완성도도 높았지만... 보는 내내 불안하게 만든다      0\n",
              "49998  5802125     절대 봐서는 안 될 영화.. 재미도 없고 기분만 잡치고.. 한 세트장에서 다 해먹네      0\n",
              "49999  6070594                                         마무리는 또 왜이래      0\n",
              "\n",
              "[50000 rows x 3 columns]"
            ],
            "text/html": [
              "\n",
              "  <div id=\"df-5f6d6a92-c6d7-415d-99e7-9ea78b615b4e\">\n",
              "    <div class=\"colab-df-container\">\n",
              "      <div>\n",
              "<style scoped>\n",
              "    .dataframe tbody tr th:only-of-type {\n",
              "        vertical-align: middle;\n",
              "    }\n",
              "\n",
              "    .dataframe tbody tr th {\n",
              "        vertical-align: top;\n",
              "    }\n",
              "\n",
              "    .dataframe thead th {\n",
              "        text-align: right;\n",
              "    }\n",
              "</style>\n",
              "<table border=\"1\" class=\"dataframe\">\n",
              "  <thead>\n",
              "    <tr style=\"text-align: right;\">\n",
              "      <th></th>\n",
              "      <th>id</th>\n",
              "      <th>document</th>\n",
              "      <th>label</th>\n",
              "    </tr>\n",
              "  </thead>\n",
              "  <tbody>\n",
              "    <tr>\n",
              "      <th>0</th>\n",
              "      <td>6270596</td>\n",
              "      <td>굳 ㅋ</td>\n",
              "      <td>1</td>\n",
              "    </tr>\n",
              "    <tr>\n",
              "      <th>1</th>\n",
              "      <td>9274899</td>\n",
              "      <td>GDNTOPCLASSINTHECLUB</td>\n",
              "      <td>0</td>\n",
              "    </tr>\n",
              "    <tr>\n",
              "      <th>2</th>\n",
              "      <td>8544678</td>\n",
              "      <td>뭐야 이 평점들은.... 나쁘진 않지만 10점 짜리는 더더욱 아니잖아</td>\n",
              "      <td>0</td>\n",
              "    </tr>\n",
              "    <tr>\n",
              "      <th>3</th>\n",
              "      <td>6825595</td>\n",
              "      <td>지루하지는 않은데 완전 막장임... 돈주고 보기에는....</td>\n",
              "      <td>0</td>\n",
              "    </tr>\n",
              "    <tr>\n",
              "      <th>4</th>\n",
              "      <td>6723715</td>\n",
              "      <td>3D만 아니었어도 별 다섯 개 줬을텐데.. 왜 3D로 나와서 제 심기를 불편하게 하죠??</td>\n",
              "      <td>0</td>\n",
              "    </tr>\n",
              "    <tr>\n",
              "      <th>...</th>\n",
              "      <td>...</td>\n",
              "      <td>...</td>\n",
              "      <td>...</td>\n",
              "    </tr>\n",
              "    <tr>\n",
              "      <th>49995</th>\n",
              "      <td>4608761</td>\n",
              "      <td>오랜만에 평점 로긴했네ㅋㅋ 킹왕짱 쌈뽕한 영화를 만났습니다 강렬하게 육쾌함</td>\n",
              "      <td>1</td>\n",
              "    </tr>\n",
              "    <tr>\n",
              "      <th>49996</th>\n",
              "      <td>5308387</td>\n",
              "      <td>의지 박약들이나 하는거다 탈영은 일단 주인공 김대희 닮았고 이등병 찐따 OOOO</td>\n",
              "      <td>0</td>\n",
              "    </tr>\n",
              "    <tr>\n",
              "      <th>49997</th>\n",
              "      <td>9072549</td>\n",
              "      <td>그림도 좋고 완성도도 높았지만... 보는 내내 불안하게 만든다</td>\n",
              "      <td>0</td>\n",
              "    </tr>\n",
              "    <tr>\n",
              "      <th>49998</th>\n",
              "      <td>5802125</td>\n",
              "      <td>절대 봐서는 안 될 영화.. 재미도 없고 기분만 잡치고.. 한 세트장에서 다 해먹네</td>\n",
              "      <td>0</td>\n",
              "    </tr>\n",
              "    <tr>\n",
              "      <th>49999</th>\n",
              "      <td>6070594</td>\n",
              "      <td>마무리는 또 왜이래</td>\n",
              "      <td>0</td>\n",
              "    </tr>\n",
              "  </tbody>\n",
              "</table>\n",
              "<p>50000 rows × 3 columns</p>\n",
              "</div>\n",
              "      <button class=\"colab-df-convert\" onclick=\"convertToInteractive('df-5f6d6a92-c6d7-415d-99e7-9ea78b615b4e')\"\n",
              "              title=\"Convert this dataframe to an interactive table.\"\n",
              "              style=\"display:none;\">\n",
              "        \n",
              "  <svg xmlns=\"http://www.w3.org/2000/svg\" height=\"24px\"viewBox=\"0 0 24 24\"\n",
              "       width=\"24px\">\n",
              "    <path d=\"M0 0h24v24H0V0z\" fill=\"none\"/>\n",
              "    <path d=\"M18.56 5.44l.94 2.06.94-2.06 2.06-.94-2.06-.94-.94-2.06-.94 2.06-2.06.94zm-11 1L8.5 8.5l.94-2.06 2.06-.94-2.06-.94L8.5 2.5l-.94 2.06-2.06.94zm10 10l.94 2.06.94-2.06 2.06-.94-2.06-.94-.94-2.06-.94 2.06-2.06.94z\"/><path d=\"M17.41 7.96l-1.37-1.37c-.4-.4-.92-.59-1.43-.59-.52 0-1.04.2-1.43.59L10.3 9.45l-7.72 7.72c-.78.78-.78 2.05 0 2.83L4 21.41c.39.39.9.59 1.41.59.51 0 1.02-.2 1.41-.59l7.78-7.78 2.81-2.81c.8-.78.8-2.07 0-2.86zM5.41 20L4 18.59l7.72-7.72 1.47 1.35L5.41 20z\"/>\n",
              "  </svg>\n",
              "      </button>\n",
              "      \n",
              "  <style>\n",
              "    .colab-df-container {\n",
              "      display:flex;\n",
              "      flex-wrap:wrap;\n",
              "      gap: 12px;\n",
              "    }\n",
              "\n",
              "    .colab-df-convert {\n",
              "      background-color: #E8F0FE;\n",
              "      border: none;\n",
              "      border-radius: 50%;\n",
              "      cursor: pointer;\n",
              "      display: none;\n",
              "      fill: #1967D2;\n",
              "      height: 32px;\n",
              "      padding: 0 0 0 0;\n",
              "      width: 32px;\n",
              "    }\n",
              "\n",
              "    .colab-df-convert:hover {\n",
              "      background-color: #E2EBFA;\n",
              "      box-shadow: 0px 1px 2px rgba(60, 64, 67, 0.3), 0px 1px 3px 1px rgba(60, 64, 67, 0.15);\n",
              "      fill: #174EA6;\n",
              "    }\n",
              "\n",
              "    [theme=dark] .colab-df-convert {\n",
              "      background-color: #3B4455;\n",
              "      fill: #D2E3FC;\n",
              "    }\n",
              "\n",
              "    [theme=dark] .colab-df-convert:hover {\n",
              "      background-color: #434B5C;\n",
              "      box-shadow: 0px 1px 3px 1px rgba(0, 0, 0, 0.15);\n",
              "      filter: drop-shadow(0px 1px 2px rgba(0, 0, 0, 0.3));\n",
              "      fill: #FFFFFF;\n",
              "    }\n",
              "  </style>\n",
              "\n",
              "      <script>\n",
              "        const buttonEl =\n",
              "          document.querySelector('#df-5f6d6a92-c6d7-415d-99e7-9ea78b615b4e button.colab-df-convert');\n",
              "        buttonEl.style.display =\n",
              "          google.colab.kernel.accessAllowed ? 'block' : 'none';\n",
              "\n",
              "        async function convertToInteractive(key) {\n",
              "          const element = document.querySelector('#df-5f6d6a92-c6d7-415d-99e7-9ea78b615b4e');\n",
              "          const dataTable =\n",
              "            await google.colab.kernel.invokeFunction('convertToInteractive',\n",
              "                                                     [key], {});\n",
              "          if (!dataTable) return;\n",
              "\n",
              "          const docLinkHtml = 'Like what you see? Visit the ' +\n",
              "            '<a target=\"_blank\" href=https://colab.research.google.com/notebooks/data_table.ipynb>data table notebook</a>'\n",
              "            + ' to learn more about interactive tables.';\n",
              "          element.innerHTML = '';\n",
              "          dataTable['output_type'] = 'display_data';\n",
              "          await google.colab.output.renderOutput(dataTable, element);\n",
              "          const docLink = document.createElement('div');\n",
              "          docLink.innerHTML = docLinkHtml;\n",
              "          element.appendChild(docLink);\n",
              "        }\n",
              "      </script>\n",
              "    </div>\n",
              "  </div>\n",
              "  "
            ]
          },
          "metadata": {},
          "execution_count": 4
        }
      ]
    },
    {
      "cell_type": "code",
      "source": [
        "sents = [mecab.morphs(x) for x in df['document'].dropna()]"
      ],
      "metadata": {
        "id": "6j4OemLff2kD"
      },
      "execution_count": null,
      "outputs": []
    },
    {
      "cell_type": "code",
      "source": [
        "print(len(sents))\n",
        "print(sents[0])"
      ],
      "metadata": {
        "colab": {
          "base_uri": "https://localhost:8080/"
        },
        "id": "9nCFeZeVgBzV",
        "outputId": "42f4b3c1-31aa-4cb5-9a9a-78b79a163fae"
      },
      "execution_count": null,
      "outputs": [
        {
          "output_type": "stream",
          "name": "stdout",
          "text": [
            "49997\n",
            "['굳', 'ㅋ']\n"
          ]
        }
      ]
    },
    {
      "cell_type": "markdown",
      "source": [
        "# Word2Vec\n",
        "\n",
        "Introduction\n",
        "\n",
        "This module implements the word2vec family of algorithms, using highly optimized C routines, data streaming and Pythonic interfaces.\n",
        "\n",
        "The word2vec algorithms include skip-gram and CBOW models, using either hierarchical softmax or negative sampling: Tomas Mikolov et al: Efficient Estimation of Word Representations in Vector Space, Tomas Mikolov et al: Distributed Representations of Words and Phrases and their Compositionality.\n",
        "\n",
        "https://radimrehurek.com/gensim/models/word2vec.html\n",
        "\n",
        "Other embeddings\n",
        "\n",
        "There are more ways to train word vectors in Gensim than just Word2Vec. See also Doc2Vec, FastText.\n",
        "\n",
        "The training algorithms were originally ported from the C package https://code.google.com/p/word2vec/ and extended with additional functionality and optimizations over the years.\n",
        "\n",
        "For a tutorial on Gensim word2vec, with an interactive web app trained on GoogleNews, visit https://rare-technologies.com/word2vec-tutorial/.\n"
      ],
      "metadata": {
        "id": "0xFAtR9Ygyv9"
      }
    },
    {
      "cell_type": "code",
      "source": [
        "from gensim.models import Word2Vec\n",
        "import gensim\n",
        "gensim.__version__"
      ],
      "metadata": {
        "colab": {
          "base_uri": "https://localhost:8080/",
          "height": 34
        },
        "id": "jOFkPWFehm8i",
        "outputId": "a0b98547-7eda-4451-ce63-df6e4434d3eb"
      },
      "execution_count": null,
      "outputs": [
        {
          "output_type": "execute_result",
          "data": {
            "text/plain": [
              "'4.2.0'"
            ],
            "application/vnd.google.colaboratory.intrinsic+json": {
              "type": "string"
            }
          },
          "metadata": {},
          "execution_count": 7
        }
      ]
    },
    {
      "cell_type": "code",
      "source": [
        "#!pip install gensim==4.2.0"
      ],
      "metadata": {
        "id": "UsdksR3CpDg5"
      },
      "execution_count": null,
      "outputs": []
    },
    {
      "cell_type": "code",
      "source": [
        "model = Word2Vec()"
      ],
      "metadata": {
        "id": "XjnqWG2bgWR8"
      },
      "execution_count": null,
      "outputs": []
    },
    {
      "cell_type": "markdown",
      "source": [
        "## 2. Save & Load Word2Vec Embedding (Model)"
      ],
      "metadata": {
        "id": "bOmbSioJhR_p"
      }
    },
    {
      "cell_type": "code",
      "source": [
        "model.wv.save()"
      ],
      "metadata": {
        "id": "prMyFGbkgfIn"
      },
      "execution_count": null,
      "outputs": []
    },
    {
      "cell_type": "code",
      "source": [
        "# Further training\n",
        "#model.train([[LIST]], total_examples=1, epochs=1)"
      ],
      "metadata": {
        "id": "IT9w1nSqgjKK"
      },
      "execution_count": null,
      "outputs": []
    },
    {
      "cell_type": "markdown",
      "source": [
        "## 3. KeyedVector (Where trained word vectors are stored)"
      ],
      "metadata": {
        "id": "1MNqk_nhhpt1"
      }
    },
    {
      "cell_type": "code",
      "source": [
        "vector= \n",
        "print(vector)\n",
        "sims = \n",
        "print(sims)"
      ],
      "metadata": {
        "colab": {
          "base_uri": "https://localhost:8080/"
        },
        "id": "r2R_WLh9hczL",
        "outputId": "31015236-763c-4801-acd8-b30dda090207"
      },
      "execution_count": null,
      "outputs": [
        {
          "output_type": "stream",
          "name": "stdout",
          "text": [
            "[-1.1155932  -0.70970637 -0.2366858   0.42491242 -0.46308544 -0.91035324\n",
            "  1.2594551   0.9461869  -0.6024625  -1.1026995   0.4326417  -0.5343665\n",
            "  0.82175916 -0.02803021  0.34994188  0.5579713   0.28539264  0.24248515\n",
            " -0.96922374 -0.5744504  -0.21420966  0.7447563   0.31686583  0.1602477\n",
            "  0.52732444 -0.5735943   0.16237889 -0.40049514 -1.3918998   0.23628384\n",
            "  0.5417303   0.8712479   0.06632137 -0.5101303  -0.4722727   0.49345782\n",
            " -0.07604497 -0.36521864 -0.31271532 -0.06837091 -0.31423435 -0.01030239\n",
            "  0.2198929   0.06605674  0.97953606  0.3114127  -0.34236896  0.36946446\n",
            " -0.11680178 -0.0940847   0.75415653  0.9596602   0.16928843  0.02265961\n",
            "  0.4097077  -0.43328732  0.21804859  0.38325152 -0.60886294  1.2740191\n",
            " -0.45199898 -0.79647076 -0.41918185  0.35467383 -0.04741724  0.39378607\n",
            "  0.37148106  1.0093029   0.34485418  0.7339447   0.17537823 -0.8138573\n",
            " -0.00813959 -0.6302189   0.53517234  0.43091354  0.8971679   0.09028973\n",
            "  0.0754397  -0.04354802  0.0932226   0.49280608  0.71898896 -0.1964309\n",
            " -0.8696037  -0.26734778  1.3481702  -0.18595123  0.9164545   0.4067112\n",
            "  0.14677843 -0.05698206  0.48299795  0.03681856 -0.43747002  0.07581785\n",
            "  0.02182186 -0.18036008  0.5759911  -0.25261295]\n",
            "[('장르', 0.8597554564476013), ('스릴러', 0.839235246181488), ('코미디', 0.825641393661499), ('SF', 0.7437314987182617), ('삼류', 0.7211703658103943), ('코메디', 0.7209253907203674), ('다큐멘터리', 0.6982764601707458), ('로맨스', 0.6893032789230347), ('저예산', 0.6785881519317627), ('한국', 0.6666229963302612)]\n"
          ]
        }
      ]
    },
    {
      "cell_type": "code",
      "source": [
        "from gensim.models import KeyedVectors\n",
        "\n",
        "wv =  #Load back with memory-mapping = read-only\n"
      ],
      "metadata": {
        "id": "xtXCjKEHh3BU"
      },
      "execution_count": null,
      "outputs": []
    },
    {
      "cell_type": "code",
      "source": [
        "wv['한석규']"
      ],
      "metadata": {
        "colab": {
          "base_uri": "https://localhost:8080/"
        },
        "id": "xlc9YC36iPlG",
        "outputId": "86ddc25d-f013-4bb2-852d-cf9b6f6bd573"
      },
      "execution_count": null,
      "outputs": [
        {
          "output_type": "execute_result",
          "data": {
            "text/plain": [
              "array([-0.05684324,  0.16289896, -0.02002749,  0.04327593,  0.12676084,\n",
              "       -0.16678768,  0.00052738,  0.31100765, -0.19399987, -0.15806496,\n",
              "        0.01742168, -0.18774614,  0.06466386,  0.03345438,  0.12659496,\n",
              "       -0.10672241,  0.04576031, -0.19167238, -0.08644704, -0.24966994,\n",
              "        0.08005018, -0.05614026,  0.11290692, -0.17882192, -0.03541286,\n",
              "        0.02222456, -0.13147897, -0.07787332, -0.03148751,  0.04786981,\n",
              "        0.1244473 ,  0.00661378,  0.04153649, -0.07901417, -0.11940425,\n",
              "        0.13922328, -0.03831917, -0.11351371, -0.0294499 , -0.22824155,\n",
              "       -0.04453702, -0.10387209,  0.00373827,  0.03058875,  0.13495967,\n",
              "       -0.03893755, -0.11387143, -0.01616623,  0.04123282,  0.09078668,\n",
              "        0.10650594, -0.11472388,  0.04298037,  0.01503837, -0.02929131,\n",
              "        0.09076769,  0.08177795,  0.10562227, -0.07991528,  0.08328757,\n",
              "        0.01592611,  0.10844167,  0.0711133 ,  0.01215533, -0.13019434,\n",
              "        0.20799392, -0.04055955,  0.16766596, -0.16942413,  0.03865404,\n",
              "       -0.04334489,  0.06487133,  0.15235777,  0.01381231,  0.0144429 ,\n",
              "       -0.04114271, -0.09557868,  0.00985545, -0.15157449,  0.10036705,\n",
              "       -0.0808995 , -0.0287916 , -0.11391106,  0.16809121,  0.06059413,\n",
              "        0.04805693,  0.15022123,  0.07942113,  0.17325647,  0.08739349,\n",
              "        0.18570815,  0.00502071,  0.07223524, -0.02705798,  0.18588622,\n",
              "        0.16611578,  0.01354275, -0.11119836,  0.03673073, -0.01488538],\n",
              "      dtype=float32)"
            ]
          },
          "metadata": {},
          "execution_count": 21
        }
      ]
    },
    {
      "cell_type": "markdown",
      "source": [
        "# FastText\n",
        "\n",
        "https://radimrehurek.com/gensim/models/fasttext.html\n",
        "\n",
        "Introduction\n",
        "\n",
        "Learn word representations via fastText: Enriching Word Vectors with Subword Information.\n",
        "\n",
        "This module allows training word embeddings from a training corpus with the additional ability to obtain word vectors for out-of-vocabulary words.\n",
        "\n",
        "This module contains a fast native C implementation of fastText with Python interfaces. It is not only a wrapper around Facebook’s implementation.\n",
        "\n",
        "This module supports loading models trained with Facebook’s fastText implementation. It also supports continuing training from such models.\n",
        "\n",
        "For a tutorial see FastText Model."
      ],
      "metadata": {
        "id": "oaaqSaj6ng_a"
      }
    },
    {
      "cell_type": "code",
      "source": [
        "from gensim.models import FastText\n",
        "model2 = FastText()"
      ],
      "metadata": {
        "id": "LKhqTB9HnvdE"
      },
      "execution_count": null,
      "outputs": []
    },
    {
      "cell_type": "code",
      "source": [
        "similarities = \n",
        "most_similar =\n",
        "most_similar"
      ],
      "metadata": {
        "colab": {
          "base_uri": "https://localhost:8080/"
        },
        "id": "iKIsFuKbn2B8",
        "outputId": "71ec155b-135a-4cdb-d024-f8bbede53456"
      },
      "execution_count": null,
      "outputs": [
        {
          "output_type": "execute_result",
          "data": {
            "text/plain": [
              "[('코미', 0.7379522323608398),\n",
              " ('코메디', 0.6741887927055359),\n",
              " ('로맨스', 0.6735770106315613),\n",
              " ('미스터', 0.6541001200675964),\n",
              " ('할리우드', 0.6538435220718384),\n",
              " ('유머', 0.6496292352676392),\n",
              " ('서스펜스', 0.6490228772163391),\n",
              " ('블랙', 0.6414998769760132),\n",
              " ('틱', 0.6356325149536133),\n",
              " ('무비', 0.6298098564147949)]"
            ]
          },
          "metadata": {},
          "execution_count": 65
        }
      ]
    },
    {
      "cell_type": "code",
      "source": [
        "model2.corpus_total_words"
      ],
      "metadata": {
        "colab": {
          "base_uri": "https://localhost:8080/"
        },
        "id": "4Yfmz4FvqDvn",
        "outputId": "a18adab7-a252-4044-c7d9-9f197c760d09"
      },
      "execution_count": null,
      "outputs": [
        {
          "output_type": "execute_result",
          "data": {
            "text/plain": [
              "920809"
            ]
          },
          "metadata": {},
          "execution_count": 66
        }
      ]
    },
    {
      "cell_type": "code",
      "source": [
        "model2.save()\n",
        "model2 = FastText.load()"
      ],
      "metadata": {
        "id": "YqvwtgJ7qaRT"
      },
      "execution_count": null,
      "outputs": []
    },
    {
      "cell_type": "markdown",
      "source": [
        "## Continue training the loaded model"
      ],
      "metadata": {
        "id": "RsgVBtDXq6li"
      }
    },
    {
      "cell_type": "code",
      "source": [
        "'박정민' in model2.wv.key_to_index #New Words"
      ],
      "metadata": {
        "colab": {
          "base_uri": "https://localhost:8080/"
        },
        "id": "hOnvKQT1qzr8",
        "outputId": "3ed17cee-e6e1-4ab6-ae44-dc1221ba95bb"
      },
      "execution_count": null,
      "outputs": [
        {
          "output_type": "execute_result",
          "data": {
            "text/plain": [
              "False"
            ]
          },
          "metadata": {},
          "execution_count": 68
        }
      ]
    },
    {
      "cell_type": "code",
      "source": [
        "import numpy as np\n",
        "old_vector = np.copy() #Grab the existing vector\n",
        "print(old_vector)"
      ],
      "metadata": {
        "colab": {
          "base_uri": "https://localhost:8080/"
        },
        "id": "uSOG3iJJrEU8",
        "outputId": "bfa68716-e9e3-4a33-dc89-a5fc4c8af737"
      },
      "execution_count": null,
      "outputs": [
        {
          "output_type": "stream",
          "name": "stdout",
          "text": [
            "[-2.97090504e-02  5.63356653e-03  1.35486215e-01  4.91865464e-02\n",
            " -2.50162259e-02 -9.69851986e-02  1.42283738e-04  4.13282812e-02\n",
            " -1.30162820e-01 -2.60885786e-02  6.21400774e-03 -6.90746382e-02\n",
            " -1.67378131e-02 -2.11280957e-02 -3.62813659e-02 -2.48496961e-02\n",
            " -1.32531440e-02 -9.68364999e-02 -6.07027002e-02 -1.50739044e-01\n",
            " -5.57659268e-02  2.70503182e-02  6.18698783e-02 -4.68732566e-02\n",
            "  1.11537622e-02 -8.98313522e-03 -1.03036784e-01  1.97781902e-02\n",
            " -3.53103243e-02  1.91867631e-02  3.79736535e-02  2.88705248e-02\n",
            " -1.66503396e-02 -1.60260834e-02 -1.21857331e-03  4.94605862e-02\n",
            " -8.84407684e-02 -8.51172116e-03  5.03179245e-02 -5.78522794e-02\n",
            " -2.01378986e-02 -2.54631471e-02 -3.12215928e-02  3.25362049e-02\n",
            "  6.68250024e-04 -4.94408347e-02 -3.89031060e-02 -4.33457876e-03\n",
            "  1.28021883e-02  4.29024808e-02  5.50039113e-02 -1.40239345e-02\n",
            " -6.38685599e-02 -6.90875426e-02  1.91332493e-02  3.39493412e-03\n",
            " -1.20707201e-02  7.62277422e-03 -1.33725638e-02  3.75604890e-02\n",
            "  8.59922096e-02 -5.35371527e-03  6.12209626e-02 -6.13792473e-03\n",
            " -6.32936805e-02  6.44908026e-02  1.87040549e-02 -1.56616494e-02\n",
            " -6.65361360e-02  1.27681987e-02 -2.01258864e-02 -2.25676652e-02\n",
            " -1.50477365e-02 -4.70590405e-02  1.20956323e-03  1.46784037e-02\n",
            " -2.53700558e-02 -1.87461358e-02 -1.06748618e-01  7.17399940e-02\n",
            " -3.10021248e-02 -1.13672195e-02 -2.34034415e-02  9.31946281e-03\n",
            " -7.96628837e-03 -9.22738016e-03  1.74892582e-02  7.41307950e-03\n",
            "  7.26365745e-02 -7.15200230e-02  7.36479983e-02 -8.06186069e-03\n",
            "  5.27445562e-02 -5.33231087e-02 -5.42846918e-02  2.84475237e-02\n",
            "  1.31112754e-01 -1.13629691e-01 -5.32120317e-02 -1.94418486e-02]\n"
          ]
        }
      ]
    },
    {
      "cell_type": "code",
      "source": [
        "new_sentence = ['박정민의 생활 연기가 장난아님', '박정민 지옥에서 활약 굿굿']\n",
        "new_sentence = [mecab.morphs(x) for x in new_sentence]\n",
        "new_sentence"
      ],
      "metadata": {
        "colab": {
          "base_uri": "https://localhost:8080/"
        },
        "id": "PptTNsIUrJU_",
        "outputId": "ed74472a-b269-4790-b476-46b1fa36b62a"
      },
      "execution_count": null,
      "outputs": [
        {
          "output_type": "execute_result",
          "data": {
            "text/plain": [
              "[['박정민', '의', '생활', '연기', '가', '장난아', '님'],\n",
              " ['박정민', '지옥', '에서', '활약', '굿', '굿']]"
            ]
          },
          "metadata": {},
          "execution_count": 70
        }
      ]
    },
    {
      "cell_type": "code",
      "source": [
        "#Update the vocabulary\n",
        "model2.build_vocab()\n",
        "model2.train()"
      ],
      "metadata": {
        "colab": {
          "base_uri": "https://localhost:8080/"
        },
        "id": "wo4FKW3srL45",
        "outputId": "2f0d4b12-ebe6-406b-f7b0-f6b7843091b4"
      },
      "execution_count": null,
      "outputs": [
        {
          "output_type": "stream",
          "name": "stderr",
          "text": [
            "WARNING:gensim.models.word2vec:Effective 'alpha' higher than previous training cycles\n"
          ]
        },
        {
          "output_type": "execute_result",
          "data": {
            "text/plain": [
              "(91, 130)"
            ]
          },
          "metadata": {},
          "execution_count": 71
        }
      ]
    },
    {
      "cell_type": "code",
      "source": [
        "'박정민' in model2.wv.key_to_index"
      ],
      "metadata": {
        "colab": {
          "base_uri": "https://localhost:8080/"
        },
        "id": "8sshYiMHr3hQ",
        "outputId": "bcc34c69-7a27-447b-f61c-de7b43d7dc81"
      },
      "execution_count": null,
      "outputs": [
        {
          "output_type": "execute_result",
          "data": {
            "text/plain": [
              "True"
            ]
          },
          "metadata": {},
          "execution_count": 63
        }
      ]
    },
    {
      "cell_type": "markdown",
      "source": [
        "# Visualizing Word Embedding Vectors\n",
        "\n",
        "\n",
        "https://towardsdatascience.com/a-one-stop-shop-for-principal-component-analysis-5582fb7e0a9c"
      ],
      "metadata": {
        "id": "2dDD8BF_sily"
      }
    },
    {
      "cell_type": "markdown",
      "source": [
        "## PCE (Principal Component Analysis)"
      ],
      "metadata": {
        "id": "P-Avi4DuQUTV"
      }
    },
    {
      "cell_type": "code",
      "source": [
        "\n",
        "import pickle\n",
        "\n",
        "\n",
        "def append_list(sim_words, words):\n",
        "    \n",
        "    list_of_words = []\n",
        "    \n",
        "    for i in range(len(sim_words)):\n",
        "        \n",
        "        sim_words_list = list(sim_words[i])\n",
        "        sim_words_list.append(words)\n",
        "        sim_words_tuple = tuple(sim_words_list)\n",
        "        list_of_words.append(sim_words_tuple)\n",
        "        \n",
        "    return list_of_words\n"
      ],
      "metadata": {
        "id": "Hh2ql2aVtBNj"
      },
      "execution_count": null,
      "outputs": []
    },
    {
      "cell_type": "code",
      "source": [
        "import plotly\n",
        "import numpy as np\n",
        "import plotly.graph_objs as go\n",
        "from sklearn.decomposition import PCA\n",
        "\n",
        "def display_pca_scatterplot_3D(model, user_input=None, words=None, label=None, color_map=None, topn=5, sample=10):\n",
        "\n",
        "    if words == None:\n",
        "        if sample > 0:\n",
        "            words = np.random.choice(list(model.vocab.keys()), sample)\n",
        "        else:\n",
        "            words = [ word for word in model.vocab ]\n",
        "    \n",
        "    word_vectors = np.array([model[w] for w in words])\n",
        "    \n",
        "    three_dim = PCA(random_state=0).fit_transform(word_vectors)[:,:3]\n",
        "    # For 2D, change the three_dim variable into something like two_dim like the following:\n",
        "    # two_dim = PCA(random_state=0).fit_transform(word_vectors)[:,:2]\n",
        "\n",
        "    data = []\n",
        "    count = 0\n",
        "    \n",
        "    for i in range (len(user_input)):\n",
        "\n",
        "                trace = go.Scatter3d(\n",
        "                    x = three_dim[count:count+topn,0], \n",
        "                    y = three_dim[count:count+topn,1],  \n",
        "                    z = three_dim[count:count+topn,2],\n",
        "                    text = words[count:count+topn],\n",
        "                    name = user_input[i],\n",
        "                    textposition = \"top center\",\n",
        "                    textfont_size = 20,\n",
        "                    mode = 'markers+text',\n",
        "                    marker = {\n",
        "                        'size': 10,\n",
        "                        'opacity': 0.8,\n",
        "                        'color': 2\n",
        "                    }\n",
        "       \n",
        "                )\n",
        "                \n",
        "                # For 2D, instead of using go.Scatter3d, we need to use go.Scatter and delete the z variable. Also, instead of using\n",
        "                # variable three_dim, use the variable that we have declared earlier (e.g two_dim)\n",
        "            \n",
        "                data.append(trace)\n",
        "                count = count+topn\n",
        "\n",
        "    trace_input = go.Scatter3d(\n",
        "                    x = three_dim[count:,0], \n",
        "                    y = three_dim[count:,1],  \n",
        "                    z = three_dim[count:,2],\n",
        "                    text = words[count:],\n",
        "                    name = 'input words',\n",
        "                    textposition = \"top center\",\n",
        "                    textfont_size = 20,\n",
        "                    mode = 'markers+text',\n",
        "                    marker = {\n",
        "                        'size': 10,\n",
        "                        'opacity': 1,\n",
        "                        'color': 'black'\n",
        "                    }\n",
        "                    )\n",
        "\n",
        "    # For 2D, instead of using go.Scatter3d, we need to use go.Scatter and delete the z variable.  Also, instead of using\n",
        "    # variable three_dim, use the variable that we have declared earlier (e.g two_dim)\n",
        "            \n",
        "    data.append(trace_input)\n",
        "    \n",
        "# Configure the layout\n",
        "\n",
        "    layout = go.Layout(\n",
        "        margin = {'l': 0, 'r': 0, 'b': 0, 't': 0},\n",
        "        showlegend=True,\n",
        "        legend=dict(\n",
        "        x=1,\n",
        "        y=0.5,\n",
        "        font=dict(\n",
        "            family=\"Courier New\",\n",
        "            size=25,\n",
        "            color=\"black\"\n",
        "        )),\n",
        "        font = dict(\n",
        "            family = \" Courier New \",\n",
        "            size = 15),\n",
        "        autosize = False,\n",
        "        width = 1000,\n",
        "        height = 1000\n",
        "        )\n",
        "\n",
        "\n",
        "    plot_figure = go.Figure(data = data, layout = layout)\n",
        "    plot_figure.show()\n"
      ],
      "metadata": {
        "id": "4KSUXe1Tr86f"
      },
      "execution_count": null,
      "outputs": []
    },
    {
      "cell_type": "code",
      "source": [
        "def pca_visualize(input_word : str, model): \n",
        "    user_input = [x.strip() for x in input_word.split(',')]\n",
        "    result_word = []\n",
        "        \n",
        "    for words in user_input:\n",
        "        \n",
        "            sim_words = model.most_similar(words, topn = 5)\n",
        "            sim_words = append_list(sim_words, words)\n",
        "                \n",
        "            result_word.extend(sim_words)\n",
        "        \n",
        "    similar_word = [word[0] for word in result_word]\n",
        "    similarity = [word[1] for word in result_word] \n",
        "    similar_word.extend(user_input)\n",
        "    labels = [word[2] for word in result_word]\n",
        "    label_dict = dict([(y,x+1) for x,y in enumerate(set(labels))])\n",
        "    color_map = [label_dict[x] for x in labels]\n",
        "\n",
        "\n",
        "    display_pca_scatterplot_3D(model, user_input, similar_word, labels, color_map, 10)"
      ],
      "metadata": {
        "id": "U7zO8xmTuMHD"
      },
      "execution_count": null,
      "outputs": []
    },
    {
      "cell_type": "code",
      "source": [
        "pca_visualize('공포, 봉준호, 사랑, 총', model2.wv)"
      ],
      "metadata": {
        "colab": {
          "base_uri": "https://localhost:8080/",
          "height": 1000
        },
        "id": "ClWPHlDvuYZB",
        "outputId": "e1d5a679-e40c-4c90-fd17-54805e14bb78"
      },
      "execution_count": null,
      "outputs": [
        {
          "output_type": "display_data",
          "data": {
            "text/html": [
              "<html>\n",
              "<head><meta charset=\"utf-8\" /></head>\n",
              "<body>\n",
              "    <div>            <script src=\"https://cdnjs.cloudflare.com/ajax/libs/mathjax/2.7.5/MathJax.js?config=TeX-AMS-MML_SVG\"></script><script type=\"text/javascript\">if (window.MathJax) {MathJax.Hub.Config({SVG: {font: \"STIX-Web\"}});}</script>                <script type=\"text/javascript\">window.PlotlyConfig = {MathJaxConfig: 'local'};</script>\n",
              "        <script src=\"https://cdn.plot.ly/plotly-2.8.3.min.js\"></script>                <div id=\"bb129c63-f470-4884-9b80-bbfdc2587042\" class=\"plotly-graph-div\" style=\"height:1000px; width:1000px;\"></div>            <script type=\"text/javascript\">                                    window.PLOTLYENV=window.PLOTLYENV || {};                                    if (document.getElementById(\"bb129c63-f470-4884-9b80-bbfdc2587042\")) {                    Plotly.newPlot(                        \"bb129c63-f470-4884-9b80-bbfdc2587042\",                        [{\"marker\":{\"color\":2,\"opacity\":0.8,\"size\":10},\"mode\":\"markers+text\",\"name\":\"\\uacf5\\ud3ec\",\"text\":[\"\\uacf5\\ud3ec\\ubb3c\",\"\\uc2a4\\ub9b4\\ub7ec\",\"\\uc7a5\\ub974\",\"\\ucf54\\ubbf8\\ub514\",\"\\uc2a4\\ub9b4\\ub7ec\\ubb3c\",\"\\ubca0\\uc1a1\",\"\\uc2a4\\ucf67\",\"\\ub958\\uc2b9\\uc644\",\"\\uc0ac\\ubb34\\uc5d8\",\"\\uc870\\uc7ac\\ud604\"],\"textfont\":{\"size\":20},\"textposition\":\"top center\",\"x\":[-1.4912375211715698,-2.8043203353881836,-2.551137685775757,-3.148167848587036,-1.4328036308288574,-0.48524296283721924,-0.48519960045814514,-0.5012444257736206,-0.45930057764053345,-0.510110080242157],\"y\":[0.5055297613143921,2.8508613109588623,2.753990650177002,3.209542751312256,0.2324751764535904,-1.2507526874542236,-1.2085682153701782,-1.293592929840088,-1.2360774278640747,-1.212064504623413],\"z\":[-0.4388081133365631,-0.09174761921167374,0.6600807905197144,0.45913729071617126,-0.5620075464248657,-0.9389113187789917,-0.9536813497543335,-1.0874526500701904,-0.89439857006073,-1.046648621559143],\"type\":\"scatter3d\"},{\"marker\":{\"color\":2,\"opacity\":0.8,\"size\":10},\"mode\":\"markers+text\",\"name\":\"\\ubd09\\uc900\\ud638\",\"text\":[\"\\uc9dd\\uc0ac\\ub791\",\"\\uae40\\uc0ac\\ub791\",\"\\ud589\\ubcf5\",\"\\uc790\\uc5f0\",\"\\uc544\\ub984\\ub2e4\\uc6c0\",\"\\uce7c\",\"\\ubab8\",\"\\uc3f4\",\"\\uc190\",\"\\ubb38\"],\"textfont\":{\"size\":20},\"textposition\":\"top center\",\"x\":[0.9956096410751343,0.7770519256591797,4.524306297302246,1.9527510404586792,1.4050391912460327,-0.5701433420181274,1.0300132036209106,-0.5682604312896729,0.22539271414279938,-0.30709096789360046],\"y\":[-0.6138033270835876,-0.5022556781768799,-0.3646797835826874,1.933553695678711,-0.01938968151807785,-1.5931645631790161,-2.030316114425659,-1.652976632118225,-1.465109944343567,-1.6315665245056152],\"z\":[-0.6876184940338135,-0.7478294372558594,-0.37311163544654846,-1.0053160190582275,-0.45776182413101196,1.1745303869247437,1.435882806777954,-0.3721868395805359,2.5846259593963623,0.11545558273792267],\"type\":\"scatter3d\"},{\"marker\":{\"color\":2,\"opacity\":0.8,\"size\":10},\"mode\":\"markers+text\",\"name\":\"\\uc0ac\\ub791\",\"text\":[\"\\uacf5\\ud3ec\",\"\\ubd09\\uc900\\ud638\",\"\\uc0ac\\ub791\",\"\\ucd1d\"],\"textfont\":{\"size\":20},\"textposition\":\"top center\",\"x\":[-3.0192580223083496,-0.5164251923561096,8.178949356079102,-0.23917019367218018],\"y\":[4.174379348754883,-1.2634509801864624,4.099700450897217,-2.4222631454467773],\"z\":[0.7473001480102539,-0.9304108619689941,0.6638208031654358,2.747056245803833],\"type\":\"scatter3d\"},{\"marker\":{\"color\":2,\"opacity\":0.8,\"size\":10},\"mode\":\"markers+text\",\"name\":\"\\ucd1d\",\"text\":[],\"textfont\":{\"size\":20},\"textposition\":\"top center\",\"x\":[],\"y\":[],\"z\":[],\"type\":\"scatter3d\"},{\"marker\":{\"color\":\"black\",\"opacity\":1,\"size\":10},\"mode\":\"markers+text\",\"name\":\"input words\",\"text\":[],\"textfont\":{\"size\":20},\"textposition\":\"top center\",\"x\":[],\"y\":[],\"z\":[],\"type\":\"scatter3d\"}],                        {\"autosize\":false,\"font\":{\"family\":\" Courier New \",\"size\":15},\"height\":1000,\"legend\":{\"font\":{\"color\":\"black\",\"family\":\"Courier New\",\"size\":25},\"x\":1,\"y\":0.5},\"margin\":{\"b\":0,\"l\":0,\"r\":0,\"t\":0},\"showlegend\":true,\"width\":1000,\"template\":{\"data\":{\"bar\":[{\"error_x\":{\"color\":\"#2a3f5f\"},\"error_y\":{\"color\":\"#2a3f5f\"},\"marker\":{\"line\":{\"color\":\"#E5ECF6\",\"width\":0.5},\"pattern\":{\"fillmode\":\"overlay\",\"size\":10,\"solidity\":0.2}},\"type\":\"bar\"}],\"barpolar\":[{\"marker\":{\"line\":{\"color\":\"#E5ECF6\",\"width\":0.5},\"pattern\":{\"fillmode\":\"overlay\",\"size\":10,\"solidity\":0.2}},\"type\":\"barpolar\"}],\"carpet\":[{\"aaxis\":{\"endlinecolor\":\"#2a3f5f\",\"gridcolor\":\"white\",\"linecolor\":\"white\",\"minorgridcolor\":\"white\",\"startlinecolor\":\"#2a3f5f\"},\"baxis\":{\"endlinecolor\":\"#2a3f5f\",\"gridcolor\":\"white\",\"linecolor\":\"white\",\"minorgridcolor\":\"white\",\"startlinecolor\":\"#2a3f5f\"},\"type\":\"carpet\"}],\"choropleth\":[{\"colorbar\":{\"outlinewidth\":0,\"ticks\":\"\"},\"type\":\"choropleth\"}],\"contour\":[{\"colorbar\":{\"outlinewidth\":0,\"ticks\":\"\"},\"colorscale\":[[0.0,\"#0d0887\"],[0.1111111111111111,\"#46039f\"],[0.2222222222222222,\"#7201a8\"],[0.3333333333333333,\"#9c179e\"],[0.4444444444444444,\"#bd3786\"],[0.5555555555555556,\"#d8576b\"],[0.6666666666666666,\"#ed7953\"],[0.7777777777777778,\"#fb9f3a\"],[0.8888888888888888,\"#fdca26\"],[1.0,\"#f0f921\"]],\"type\":\"contour\"}],\"contourcarpet\":[{\"colorbar\":{\"outlinewidth\":0,\"ticks\":\"\"},\"type\":\"contourcarpet\"}],\"heatmap\":[{\"colorbar\":{\"outlinewidth\":0,\"ticks\":\"\"},\"colorscale\":[[0.0,\"#0d0887\"],[0.1111111111111111,\"#46039f\"],[0.2222222222222222,\"#7201a8\"],[0.3333333333333333,\"#9c179e\"],[0.4444444444444444,\"#bd3786\"],[0.5555555555555556,\"#d8576b\"],[0.6666666666666666,\"#ed7953\"],[0.7777777777777778,\"#fb9f3a\"],[0.8888888888888888,\"#fdca26\"],[1.0,\"#f0f921\"]],\"type\":\"heatmap\"}],\"heatmapgl\":[{\"colorbar\":{\"outlinewidth\":0,\"ticks\":\"\"},\"colorscale\":[[0.0,\"#0d0887\"],[0.1111111111111111,\"#46039f\"],[0.2222222222222222,\"#7201a8\"],[0.3333333333333333,\"#9c179e\"],[0.4444444444444444,\"#bd3786\"],[0.5555555555555556,\"#d8576b\"],[0.6666666666666666,\"#ed7953\"],[0.7777777777777778,\"#fb9f3a\"],[0.8888888888888888,\"#fdca26\"],[1.0,\"#f0f921\"]],\"type\":\"heatmapgl\"}],\"histogram\":[{\"marker\":{\"pattern\":{\"fillmode\":\"overlay\",\"size\":10,\"solidity\":0.2}},\"type\":\"histogram\"}],\"histogram2d\":[{\"colorbar\":{\"outlinewidth\":0,\"ticks\":\"\"},\"colorscale\":[[0.0,\"#0d0887\"],[0.1111111111111111,\"#46039f\"],[0.2222222222222222,\"#7201a8\"],[0.3333333333333333,\"#9c179e\"],[0.4444444444444444,\"#bd3786\"],[0.5555555555555556,\"#d8576b\"],[0.6666666666666666,\"#ed7953\"],[0.7777777777777778,\"#fb9f3a\"],[0.8888888888888888,\"#fdca26\"],[1.0,\"#f0f921\"]],\"type\":\"histogram2d\"}],\"histogram2dcontour\":[{\"colorbar\":{\"outlinewidth\":0,\"ticks\":\"\"},\"colorscale\":[[0.0,\"#0d0887\"],[0.1111111111111111,\"#46039f\"],[0.2222222222222222,\"#7201a8\"],[0.3333333333333333,\"#9c179e\"],[0.4444444444444444,\"#bd3786\"],[0.5555555555555556,\"#d8576b\"],[0.6666666666666666,\"#ed7953\"],[0.7777777777777778,\"#fb9f3a\"],[0.8888888888888888,\"#fdca26\"],[1.0,\"#f0f921\"]],\"type\":\"histogram2dcontour\"}],\"mesh3d\":[{\"colorbar\":{\"outlinewidth\":0,\"ticks\":\"\"},\"type\":\"mesh3d\"}],\"parcoords\":[{\"line\":{\"colorbar\":{\"outlinewidth\":0,\"ticks\":\"\"}},\"type\":\"parcoords\"}],\"pie\":[{\"automargin\":true,\"type\":\"pie\"}],\"scatter\":[{\"marker\":{\"colorbar\":{\"outlinewidth\":0,\"ticks\":\"\"}},\"type\":\"scatter\"}],\"scatter3d\":[{\"line\":{\"colorbar\":{\"outlinewidth\":0,\"ticks\":\"\"}},\"marker\":{\"colorbar\":{\"outlinewidth\":0,\"ticks\":\"\"}},\"type\":\"scatter3d\"}],\"scattercarpet\":[{\"marker\":{\"colorbar\":{\"outlinewidth\":0,\"ticks\":\"\"}},\"type\":\"scattercarpet\"}],\"scattergeo\":[{\"marker\":{\"colorbar\":{\"outlinewidth\":0,\"ticks\":\"\"}},\"type\":\"scattergeo\"}],\"scattergl\":[{\"marker\":{\"colorbar\":{\"outlinewidth\":0,\"ticks\":\"\"}},\"type\":\"scattergl\"}],\"scattermapbox\":[{\"marker\":{\"colorbar\":{\"outlinewidth\":0,\"ticks\":\"\"}},\"type\":\"scattermapbox\"}],\"scatterpolar\":[{\"marker\":{\"colorbar\":{\"outlinewidth\":0,\"ticks\":\"\"}},\"type\":\"scatterpolar\"}],\"scatterpolargl\":[{\"marker\":{\"colorbar\":{\"outlinewidth\":0,\"ticks\":\"\"}},\"type\":\"scatterpolargl\"}],\"scatterternary\":[{\"marker\":{\"colorbar\":{\"outlinewidth\":0,\"ticks\":\"\"}},\"type\":\"scatterternary\"}],\"surface\":[{\"colorbar\":{\"outlinewidth\":0,\"ticks\":\"\"},\"colorscale\":[[0.0,\"#0d0887\"],[0.1111111111111111,\"#46039f\"],[0.2222222222222222,\"#7201a8\"],[0.3333333333333333,\"#9c179e\"],[0.4444444444444444,\"#bd3786\"],[0.5555555555555556,\"#d8576b\"],[0.6666666666666666,\"#ed7953\"],[0.7777777777777778,\"#fb9f3a\"],[0.8888888888888888,\"#fdca26\"],[1.0,\"#f0f921\"]],\"type\":\"surface\"}],\"table\":[{\"cells\":{\"fill\":{\"color\":\"#EBF0F8\"},\"line\":{\"color\":\"white\"}},\"header\":{\"fill\":{\"color\":\"#C8D4E3\"},\"line\":{\"color\":\"white\"}},\"type\":\"table\"}]},\"layout\":{\"annotationdefaults\":{\"arrowcolor\":\"#2a3f5f\",\"arrowhead\":0,\"arrowwidth\":1},\"autotypenumbers\":\"strict\",\"coloraxis\":{\"colorbar\":{\"outlinewidth\":0,\"ticks\":\"\"}},\"colorscale\":{\"diverging\":[[0,\"#8e0152\"],[0.1,\"#c51b7d\"],[0.2,\"#de77ae\"],[0.3,\"#f1b6da\"],[0.4,\"#fde0ef\"],[0.5,\"#f7f7f7\"],[0.6,\"#e6f5d0\"],[0.7,\"#b8e186\"],[0.8,\"#7fbc41\"],[0.9,\"#4d9221\"],[1,\"#276419\"]],\"sequential\":[[0.0,\"#0d0887\"],[0.1111111111111111,\"#46039f\"],[0.2222222222222222,\"#7201a8\"],[0.3333333333333333,\"#9c179e\"],[0.4444444444444444,\"#bd3786\"],[0.5555555555555556,\"#d8576b\"],[0.6666666666666666,\"#ed7953\"],[0.7777777777777778,\"#fb9f3a\"],[0.8888888888888888,\"#fdca26\"],[1.0,\"#f0f921\"]],\"sequentialminus\":[[0.0,\"#0d0887\"],[0.1111111111111111,\"#46039f\"],[0.2222222222222222,\"#7201a8\"],[0.3333333333333333,\"#9c179e\"],[0.4444444444444444,\"#bd3786\"],[0.5555555555555556,\"#d8576b\"],[0.6666666666666666,\"#ed7953\"],[0.7777777777777778,\"#fb9f3a\"],[0.8888888888888888,\"#fdca26\"],[1.0,\"#f0f921\"]]},\"colorway\":[\"#636efa\",\"#EF553B\",\"#00cc96\",\"#ab63fa\",\"#FFA15A\",\"#19d3f3\",\"#FF6692\",\"#B6E880\",\"#FF97FF\",\"#FECB52\"],\"font\":{\"color\":\"#2a3f5f\"},\"geo\":{\"bgcolor\":\"white\",\"lakecolor\":\"white\",\"landcolor\":\"#E5ECF6\",\"showlakes\":true,\"showland\":true,\"subunitcolor\":\"white\"},\"hoverlabel\":{\"align\":\"left\"},\"hovermode\":\"closest\",\"mapbox\":{\"style\":\"light\"},\"paper_bgcolor\":\"white\",\"plot_bgcolor\":\"#E5ECF6\",\"polar\":{\"angularaxis\":{\"gridcolor\":\"white\",\"linecolor\":\"white\",\"ticks\":\"\"},\"bgcolor\":\"#E5ECF6\",\"radialaxis\":{\"gridcolor\":\"white\",\"linecolor\":\"white\",\"ticks\":\"\"}},\"scene\":{\"xaxis\":{\"backgroundcolor\":\"#E5ECF6\",\"gridcolor\":\"white\",\"gridwidth\":2,\"linecolor\":\"white\",\"showbackground\":true,\"ticks\":\"\",\"zerolinecolor\":\"white\"},\"yaxis\":{\"backgroundcolor\":\"#E5ECF6\",\"gridcolor\":\"white\",\"gridwidth\":2,\"linecolor\":\"white\",\"showbackground\":true,\"ticks\":\"\",\"zerolinecolor\":\"white\"},\"zaxis\":{\"backgroundcolor\":\"#E5ECF6\",\"gridcolor\":\"white\",\"gridwidth\":2,\"linecolor\":\"white\",\"showbackground\":true,\"ticks\":\"\",\"zerolinecolor\":\"white\"}},\"shapedefaults\":{\"line\":{\"color\":\"#2a3f5f\"}},\"ternary\":{\"aaxis\":{\"gridcolor\":\"white\",\"linecolor\":\"white\",\"ticks\":\"\"},\"baxis\":{\"gridcolor\":\"white\",\"linecolor\":\"white\",\"ticks\":\"\"},\"bgcolor\":\"#E5ECF6\",\"caxis\":{\"gridcolor\":\"white\",\"linecolor\":\"white\",\"ticks\":\"\"}},\"title\":{\"x\":0.05},\"xaxis\":{\"automargin\":true,\"gridcolor\":\"white\",\"linecolor\":\"white\",\"ticks\":\"\",\"title\":{\"standoff\":15},\"zerolinecolor\":\"white\",\"zerolinewidth\":2},\"yaxis\":{\"automargin\":true,\"gridcolor\":\"white\",\"linecolor\":\"white\",\"ticks\":\"\",\"title\":{\"standoff\":15},\"zerolinecolor\":\"white\",\"zerolinewidth\":2}}}},                        {\"responsive\": true}                    ).then(function(){\n",
              "                            \n",
              "var gd = document.getElementById('bb129c63-f470-4884-9b80-bbfdc2587042');\n",
              "var x = new MutationObserver(function (mutations, observer) {{\n",
              "        var display = window.getComputedStyle(gd).display;\n",
              "        if (!display || display === 'none') {{\n",
              "            console.log([gd, 'removed!']);\n",
              "            Plotly.purge(gd);\n",
              "            observer.disconnect();\n",
              "        }}\n",
              "}});\n",
              "\n",
              "// Listen for the removal of the full notebook cells\n",
              "var notebookContainer = gd.closest('#notebook-container');\n",
              "if (notebookContainer) {{\n",
              "    x.observe(notebookContainer, {childList: true});\n",
              "}}\n",
              "\n",
              "// Listen for the clearing of the current output cell\n",
              "var outputEl = gd.closest('.output');\n",
              "if (outputEl) {{\n",
              "    x.observe(outputEl, {childList: true});\n",
              "}}\n",
              "\n",
              "                        })                };                            </script>        </div>\n",
              "</body>\n",
              "</html>"
            ]
          },
          "metadata": {}
        }
      ]
    },
    {
      "cell_type": "code",
      "source": [
        "pca_visualize('공포, 봉준호, 사랑, 총', model.wv)"
      ],
      "metadata": {
        "colab": {
          "base_uri": "https://localhost:8080/",
          "height": 1000
        },
        "id": "lr-pDj0MvylX",
        "outputId": "8f5403cc-d601-4621-c9e5-9ef256c5a65c"
      },
      "execution_count": null,
      "outputs": [
        {
          "output_type": "display_data",
          "data": {
            "text/html": [
              "<html>\n",
              "<head><meta charset=\"utf-8\" /></head>\n",
              "<body>\n",
              "    <div>            <script src=\"https://cdnjs.cloudflare.com/ajax/libs/mathjax/2.7.5/MathJax.js?config=TeX-AMS-MML_SVG\"></script><script type=\"text/javascript\">if (window.MathJax) {MathJax.Hub.Config({SVG: {font: \"STIX-Web\"}});}</script>                <script type=\"text/javascript\">window.PlotlyConfig = {MathJaxConfig: 'local'};</script>\n",
              "        <script src=\"https://cdn.plot.ly/plotly-2.8.3.min.js\"></script>                <div id=\"fcf07e41-a88b-4427-b928-aba00940fd01\" class=\"plotly-graph-div\" style=\"height:1000px; width:1000px;\"></div>            <script type=\"text/javascript\">                                    window.PLOTLYENV=window.PLOTLYENV || {};                                    if (document.getElementById(\"fcf07e41-a88b-4427-b928-aba00940fd01\")) {                    Plotly.newPlot(                        \"fcf07e41-a88b-4427-b928-aba00940fd01\",                        [{\"marker\":{\"color\":2,\"opacity\":0.8,\"size\":10},\"mode\":\"markers+text\",\"name\":\"\\uacf5\\ud3ec\",\"text\":[\"\\uc7a5\\ub974\",\"\\uc2a4\\ub9b4\\ub7ec\",\"\\ucf54\\ubbf8\\ub514\",\"SF\",\"\\uc0bc\\ub958\",\"\\ubcf8\\ub4dc\",\"\\uc7ad\",\"\\uc7a5\\uc9c4\",\"\\ud638\",\"\\ud589\"],\"textfont\":{\"size\":20},\"textposition\":\"top center\",\"x\":[-2.0431525707244873,-1.8731958866119385,-2.87050724029541,-1.5281777381896973,-2.671225070953369,-1.0404601097106934,-0.9109337329864502,-1.019578456878662,-1.084962010383606,-1.116394281387329],\"y\":[1.868635892868042,2.17830753326416,3.261847496032715,0.5343199372291565,0.7338709235191345,-1.0301440954208374,-0.9275699257850647,-1.0538734197616577,-1.121715784072876,-1.232298731803894],\"z\":[0.12229321151971817,0.21308587491512299,-0.02431093528866768,-0.2265898585319519,0.1321435421705246,-0.039386361837387085,-0.1801866739988327,-0.023408953100442886,-0.09356112033128738,0.05786086618900299],\"type\":\"scatter3d\"},{\"marker\":{\"color\":2,\"opacity\":0.8,\"size\":10},\"mode\":\"markers+text\",\"name\":\"\\ubd09\\uc900\\ud638\",\"text\":[\"\\uc0b6\",\"\\ubaa8\\uc2b5\",\"\\ub9c8\\uc74c\",\"\\uc9c4\\uc2e4\",\"\\ud589\\ubcf5\",\"\\uc637\",\"\\uce7c\",\"\\uc3f4\",\"\\ubc94\\uc778\",\"\\ubb38\"],\"textfont\":{\"size\":20},\"textposition\":\"top center\",\"x\":[3.996734380722046,4.491938591003418,6.092576503753662,0.5575161576271057,2.563413143157959,-0.6894733309745789,-0.9487649202346802,-1.0786586999893188,-0.581393837928772,-0.9250785708427429],\"y\":[1.6796000003814697,0.019261132925748825,-0.18890155851840973,-0.3395005166530609,-1.1220756769180298,-1.245378851890564,-1.04599928855896,-1.307694673538208,-1.3676220178604126,-1.2955199480056763],\"z\":[-2.3877811431884766,-0.5559441447257996,3.7200653553009033,-0.5847057700157166,0.6622794270515442,-0.5341863632202148,-0.0743446797132492,0.17334099113941193,-0.3022027313709259,-0.09960798174142838],\"type\":\"scatter3d\"},{\"marker\":{\"color\":2,\"opacity\":0.8,\"size\":10},\"mode\":\"markers+text\",\"name\":\"\\uc0ac\\ub791\",\"text\":[\"\\uacf5\\ud3ec\",\"\\ubd09\\uc900\\ud638\",\"\\uc0ac\\ub791\",\"\\ucd1d\"],\"textfont\":{\"size\":20},\"textposition\":\"top center\",\"x\":[-2.690275192260742,-1.0531079769134521,7.294652938842773,-0.8714918494224548],\"y\":[3.5820083618164062,-1.1623010635375977,1.902562141418457,-1.319817066192627],\"z\":[1.4610142707824707,0.003553366055712104,-1.1631323099136353,-0.25628647208213806],\"type\":\"scatter3d\"},{\"marker\":{\"color\":2,\"opacity\":0.8,\"size\":10},\"mode\":\"markers+text\",\"name\":\"\\ucd1d\",\"text\":[],\"textfont\":{\"size\":20},\"textposition\":\"top center\",\"x\":[],\"y\":[],\"z\":[],\"type\":\"scatter3d\"},{\"marker\":{\"color\":\"black\",\"opacity\":1,\"size\":10},\"mode\":\"markers+text\",\"name\":\"input words\",\"text\":[],\"textfont\":{\"size\":20},\"textposition\":\"top center\",\"x\":[],\"y\":[],\"z\":[],\"type\":\"scatter3d\"}],                        {\"autosize\":false,\"font\":{\"family\":\" Courier New \",\"size\":15},\"height\":1000,\"legend\":{\"font\":{\"color\":\"black\",\"family\":\"Courier New\",\"size\":25},\"x\":1,\"y\":0.5},\"margin\":{\"b\":0,\"l\":0,\"r\":0,\"t\":0},\"showlegend\":true,\"width\":1000,\"template\":{\"data\":{\"bar\":[{\"error_x\":{\"color\":\"#2a3f5f\"},\"error_y\":{\"color\":\"#2a3f5f\"},\"marker\":{\"line\":{\"color\":\"#E5ECF6\",\"width\":0.5},\"pattern\":{\"fillmode\":\"overlay\",\"size\":10,\"solidity\":0.2}},\"type\":\"bar\"}],\"barpolar\":[{\"marker\":{\"line\":{\"color\":\"#E5ECF6\",\"width\":0.5},\"pattern\":{\"fillmode\":\"overlay\",\"size\":10,\"solidity\":0.2}},\"type\":\"barpolar\"}],\"carpet\":[{\"aaxis\":{\"endlinecolor\":\"#2a3f5f\",\"gridcolor\":\"white\",\"linecolor\":\"white\",\"minorgridcolor\":\"white\",\"startlinecolor\":\"#2a3f5f\"},\"baxis\":{\"endlinecolor\":\"#2a3f5f\",\"gridcolor\":\"white\",\"linecolor\":\"white\",\"minorgridcolor\":\"white\",\"startlinecolor\":\"#2a3f5f\"},\"type\":\"carpet\"}],\"choropleth\":[{\"colorbar\":{\"outlinewidth\":0,\"ticks\":\"\"},\"type\":\"choropleth\"}],\"contour\":[{\"colorbar\":{\"outlinewidth\":0,\"ticks\":\"\"},\"colorscale\":[[0.0,\"#0d0887\"],[0.1111111111111111,\"#46039f\"],[0.2222222222222222,\"#7201a8\"],[0.3333333333333333,\"#9c179e\"],[0.4444444444444444,\"#bd3786\"],[0.5555555555555556,\"#d8576b\"],[0.6666666666666666,\"#ed7953\"],[0.7777777777777778,\"#fb9f3a\"],[0.8888888888888888,\"#fdca26\"],[1.0,\"#f0f921\"]],\"type\":\"contour\"}],\"contourcarpet\":[{\"colorbar\":{\"outlinewidth\":0,\"ticks\":\"\"},\"type\":\"contourcarpet\"}],\"heatmap\":[{\"colorbar\":{\"outlinewidth\":0,\"ticks\":\"\"},\"colorscale\":[[0.0,\"#0d0887\"],[0.1111111111111111,\"#46039f\"],[0.2222222222222222,\"#7201a8\"],[0.3333333333333333,\"#9c179e\"],[0.4444444444444444,\"#bd3786\"],[0.5555555555555556,\"#d8576b\"],[0.6666666666666666,\"#ed7953\"],[0.7777777777777778,\"#fb9f3a\"],[0.8888888888888888,\"#fdca26\"],[1.0,\"#f0f921\"]],\"type\":\"heatmap\"}],\"heatmapgl\":[{\"colorbar\":{\"outlinewidth\":0,\"ticks\":\"\"},\"colorscale\":[[0.0,\"#0d0887\"],[0.1111111111111111,\"#46039f\"],[0.2222222222222222,\"#7201a8\"],[0.3333333333333333,\"#9c179e\"],[0.4444444444444444,\"#bd3786\"],[0.5555555555555556,\"#d8576b\"],[0.6666666666666666,\"#ed7953\"],[0.7777777777777778,\"#fb9f3a\"],[0.8888888888888888,\"#fdca26\"],[1.0,\"#f0f921\"]],\"type\":\"heatmapgl\"}],\"histogram\":[{\"marker\":{\"pattern\":{\"fillmode\":\"overlay\",\"size\":10,\"solidity\":0.2}},\"type\":\"histogram\"}],\"histogram2d\":[{\"colorbar\":{\"outlinewidth\":0,\"ticks\":\"\"},\"colorscale\":[[0.0,\"#0d0887\"],[0.1111111111111111,\"#46039f\"],[0.2222222222222222,\"#7201a8\"],[0.3333333333333333,\"#9c179e\"],[0.4444444444444444,\"#bd3786\"],[0.5555555555555556,\"#d8576b\"],[0.6666666666666666,\"#ed7953\"],[0.7777777777777778,\"#fb9f3a\"],[0.8888888888888888,\"#fdca26\"],[1.0,\"#f0f921\"]],\"type\":\"histogram2d\"}],\"histogram2dcontour\":[{\"colorbar\":{\"outlinewidth\":0,\"ticks\":\"\"},\"colorscale\":[[0.0,\"#0d0887\"],[0.1111111111111111,\"#46039f\"],[0.2222222222222222,\"#7201a8\"],[0.3333333333333333,\"#9c179e\"],[0.4444444444444444,\"#bd3786\"],[0.5555555555555556,\"#d8576b\"],[0.6666666666666666,\"#ed7953\"],[0.7777777777777778,\"#fb9f3a\"],[0.8888888888888888,\"#fdca26\"],[1.0,\"#f0f921\"]],\"type\":\"histogram2dcontour\"}],\"mesh3d\":[{\"colorbar\":{\"outlinewidth\":0,\"ticks\":\"\"},\"type\":\"mesh3d\"}],\"parcoords\":[{\"line\":{\"colorbar\":{\"outlinewidth\":0,\"ticks\":\"\"}},\"type\":\"parcoords\"}],\"pie\":[{\"automargin\":true,\"type\":\"pie\"}],\"scatter\":[{\"marker\":{\"colorbar\":{\"outlinewidth\":0,\"ticks\":\"\"}},\"type\":\"scatter\"}],\"scatter3d\":[{\"line\":{\"colorbar\":{\"outlinewidth\":0,\"ticks\":\"\"}},\"marker\":{\"colorbar\":{\"outlinewidth\":0,\"ticks\":\"\"}},\"type\":\"scatter3d\"}],\"scattercarpet\":[{\"marker\":{\"colorbar\":{\"outlinewidth\":0,\"ticks\":\"\"}},\"type\":\"scattercarpet\"}],\"scattergeo\":[{\"marker\":{\"colorbar\":{\"outlinewidth\":0,\"ticks\":\"\"}},\"type\":\"scattergeo\"}],\"scattergl\":[{\"marker\":{\"colorbar\":{\"outlinewidth\":0,\"ticks\":\"\"}},\"type\":\"scattergl\"}],\"scattermapbox\":[{\"marker\":{\"colorbar\":{\"outlinewidth\":0,\"ticks\":\"\"}},\"type\":\"scattermapbox\"}],\"scatterpolar\":[{\"marker\":{\"colorbar\":{\"outlinewidth\":0,\"ticks\":\"\"}},\"type\":\"scatterpolar\"}],\"scatterpolargl\":[{\"marker\":{\"colorbar\":{\"outlinewidth\":0,\"ticks\":\"\"}},\"type\":\"scatterpolargl\"}],\"scatterternary\":[{\"marker\":{\"colorbar\":{\"outlinewidth\":0,\"ticks\":\"\"}},\"type\":\"scatterternary\"}],\"surface\":[{\"colorbar\":{\"outlinewidth\":0,\"ticks\":\"\"},\"colorscale\":[[0.0,\"#0d0887\"],[0.1111111111111111,\"#46039f\"],[0.2222222222222222,\"#7201a8\"],[0.3333333333333333,\"#9c179e\"],[0.4444444444444444,\"#bd3786\"],[0.5555555555555556,\"#d8576b\"],[0.6666666666666666,\"#ed7953\"],[0.7777777777777778,\"#fb9f3a\"],[0.8888888888888888,\"#fdca26\"],[1.0,\"#f0f921\"]],\"type\":\"surface\"}],\"table\":[{\"cells\":{\"fill\":{\"color\":\"#EBF0F8\"},\"line\":{\"color\":\"white\"}},\"header\":{\"fill\":{\"color\":\"#C8D4E3\"},\"line\":{\"color\":\"white\"}},\"type\":\"table\"}]},\"layout\":{\"annotationdefaults\":{\"arrowcolor\":\"#2a3f5f\",\"arrowhead\":0,\"arrowwidth\":1},\"autotypenumbers\":\"strict\",\"coloraxis\":{\"colorbar\":{\"outlinewidth\":0,\"ticks\":\"\"}},\"colorscale\":{\"diverging\":[[0,\"#8e0152\"],[0.1,\"#c51b7d\"],[0.2,\"#de77ae\"],[0.3,\"#f1b6da\"],[0.4,\"#fde0ef\"],[0.5,\"#f7f7f7\"],[0.6,\"#e6f5d0\"],[0.7,\"#b8e186\"],[0.8,\"#7fbc41\"],[0.9,\"#4d9221\"],[1,\"#276419\"]],\"sequential\":[[0.0,\"#0d0887\"],[0.1111111111111111,\"#46039f\"],[0.2222222222222222,\"#7201a8\"],[0.3333333333333333,\"#9c179e\"],[0.4444444444444444,\"#bd3786\"],[0.5555555555555556,\"#d8576b\"],[0.6666666666666666,\"#ed7953\"],[0.7777777777777778,\"#fb9f3a\"],[0.8888888888888888,\"#fdca26\"],[1.0,\"#f0f921\"]],\"sequentialminus\":[[0.0,\"#0d0887\"],[0.1111111111111111,\"#46039f\"],[0.2222222222222222,\"#7201a8\"],[0.3333333333333333,\"#9c179e\"],[0.4444444444444444,\"#bd3786\"],[0.5555555555555556,\"#d8576b\"],[0.6666666666666666,\"#ed7953\"],[0.7777777777777778,\"#fb9f3a\"],[0.8888888888888888,\"#fdca26\"],[1.0,\"#f0f921\"]]},\"colorway\":[\"#636efa\",\"#EF553B\",\"#00cc96\",\"#ab63fa\",\"#FFA15A\",\"#19d3f3\",\"#FF6692\",\"#B6E880\",\"#FF97FF\",\"#FECB52\"],\"font\":{\"color\":\"#2a3f5f\"},\"geo\":{\"bgcolor\":\"white\",\"lakecolor\":\"white\",\"landcolor\":\"#E5ECF6\",\"showlakes\":true,\"showland\":true,\"subunitcolor\":\"white\"},\"hoverlabel\":{\"align\":\"left\"},\"hovermode\":\"closest\",\"mapbox\":{\"style\":\"light\"},\"paper_bgcolor\":\"white\",\"plot_bgcolor\":\"#E5ECF6\",\"polar\":{\"angularaxis\":{\"gridcolor\":\"white\",\"linecolor\":\"white\",\"ticks\":\"\"},\"bgcolor\":\"#E5ECF6\",\"radialaxis\":{\"gridcolor\":\"white\",\"linecolor\":\"white\",\"ticks\":\"\"}},\"scene\":{\"xaxis\":{\"backgroundcolor\":\"#E5ECF6\",\"gridcolor\":\"white\",\"gridwidth\":2,\"linecolor\":\"white\",\"showbackground\":true,\"ticks\":\"\",\"zerolinecolor\":\"white\"},\"yaxis\":{\"backgroundcolor\":\"#E5ECF6\",\"gridcolor\":\"white\",\"gridwidth\":2,\"linecolor\":\"white\",\"showbackground\":true,\"ticks\":\"\",\"zerolinecolor\":\"white\"},\"zaxis\":{\"backgroundcolor\":\"#E5ECF6\",\"gridcolor\":\"white\",\"gridwidth\":2,\"linecolor\":\"white\",\"showbackground\":true,\"ticks\":\"\",\"zerolinecolor\":\"white\"}},\"shapedefaults\":{\"line\":{\"color\":\"#2a3f5f\"}},\"ternary\":{\"aaxis\":{\"gridcolor\":\"white\",\"linecolor\":\"white\",\"ticks\":\"\"},\"baxis\":{\"gridcolor\":\"white\",\"linecolor\":\"white\",\"ticks\":\"\"},\"bgcolor\":\"#E5ECF6\",\"caxis\":{\"gridcolor\":\"white\",\"linecolor\":\"white\",\"ticks\":\"\"}},\"title\":{\"x\":0.05},\"xaxis\":{\"automargin\":true,\"gridcolor\":\"white\",\"linecolor\":\"white\",\"ticks\":\"\",\"title\":{\"standoff\":15},\"zerolinecolor\":\"white\",\"zerolinewidth\":2},\"yaxis\":{\"automargin\":true,\"gridcolor\":\"white\",\"linecolor\":\"white\",\"ticks\":\"\",\"title\":{\"standoff\":15},\"zerolinecolor\":\"white\",\"zerolinewidth\":2}}}},                        {\"responsive\": true}                    ).then(function(){\n",
              "                            \n",
              "var gd = document.getElementById('fcf07e41-a88b-4427-b928-aba00940fd01');\n",
              "var x = new MutationObserver(function (mutations, observer) {{\n",
              "        var display = window.getComputedStyle(gd).display;\n",
              "        if (!display || display === 'none') {{\n",
              "            console.log([gd, 'removed!']);\n",
              "            Plotly.purge(gd);\n",
              "            observer.disconnect();\n",
              "        }}\n",
              "}});\n",
              "\n",
              "// Listen for the removal of the full notebook cells\n",
              "var notebookContainer = gd.closest('#notebook-container');\n",
              "if (notebookContainer) {{\n",
              "    x.observe(notebookContainer, {childList: true});\n",
              "}}\n",
              "\n",
              "// Listen for the clearing of the current output cell\n",
              "var outputEl = gd.closest('.output');\n",
              "if (outputEl) {{\n",
              "    x.observe(outputEl, {childList: true});\n",
              "}}\n",
              "\n",
              "                        })                };                            </script>        </div>\n",
              "</body>\n",
              "</html>"
            ]
          },
          "metadata": {}
        }
      ]
    },
    {
      "cell_type": "markdown",
      "source": [
        "## t-SNE\n",
        "\n",
        "\n",
        "Abstract\n",
        "\n",
        "We present a new technique called “t-SNE” that visualizes high-dimensional data by giving each datapoint a location in a two or three-dimensional map. The technique is a variation of Stochastic Neighbor Embedding (Hinton and Roweis, 2002) that is much easier to optimize, and produces significantly better visualizations by reducing the tendency to crowd points together in the center of the map. t-SNE is better than existing techniques at creating a single map that reveals structure at many different scales. This is particularly important for high-dimensional data that lie on several different, but related, low-dimensional manifolds, such as images of objects from multiple classes seen from multiple viewpoints. For visualizing the structure of very large data sets, we show how t-SNE can use random walks on neighborhood graphs to allow the implicit structure of all of the data to influence the way in which a subset of the data is displayed. We illustrate the performance of t-SNE on a wide variety of data sets and compare it with many other non-parametric visualization techniques, including Sammon mapping, Isomap, and Locally Linear Embedding. The visualiza- tions produced by t-SNE are significantly better than those produced by the other techniques on almost all of the data sets.\n",
        "\n",
        "\n",
        "\n",
        "Original Paper https://www.jmlr.org/papers/volume9/vandermaaten08a/vandermaaten08a.pdf"
      ],
      "metadata": {
        "id": "LdB4dtpLwadE"
      }
    },
    {
      "cell_type": "code",
      "source": [
        "\n",
        "import plotly\n",
        "import numpy as np\n",
        "import plotly.graph_objs as go\n",
        "from sklearn.manifold import TSNE\n",
        "\n",
        "def display_tsne_scatterplot_3D(model, user_input=None, words=None, label=None, color_map=None, perplexity = 0, learning_rate = 0, iteration = 0, topn=5, sample=10):\n",
        "\n",
        "    if words == None:\n",
        "        if sample > 0:\n",
        "            words = np.random.choice(list(model.vocab.keys()), sample)\n",
        "        else:\n",
        "            words = [ word for word in model.vocab ]\n",
        "    \n",
        "    word_vectors = np.array([model[w] for w in words])\n",
        "    \n",
        "    three_dim = TSNE(n_components = 3, random_state=0, perplexity = perplexity, learning_rate = learning_rate, n_iter = iteration).fit_transform(word_vectors)[:,:3]\n",
        "\n",
        "\n",
        "    # For 2D, change the three_dim variable into something like two_dim like the following:\n",
        "    # two_dim = TSNE(n_components = 2, random_state=0, perplexity = perplexity, learning_rate = learning_rate, n_iter = iteration).fit_transform(word_vectors)[:,:2]\n",
        "\n",
        "    data = []\n",
        "\n",
        "\n",
        "    count = 0\n",
        "    for i in range (len(user_input)):\n",
        "\n",
        "                trace = go.Scatter3d(\n",
        "                    x = three_dim[count:count+topn,0], \n",
        "                    y = three_dim[count:count+topn,1],  \n",
        "                    z = three_dim[count:count+topn,2],\n",
        "                    text = words[count:count+topn],\n",
        "                    name = user_input[i],\n",
        "                    textposition = \"top center\",\n",
        "                    textfont_size = 20,\n",
        "                    mode = 'markers+text',\n",
        "                    marker = {\n",
        "                        'size': 10,\n",
        "                        'opacity': 0.8,\n",
        "                        'color': 2\n",
        "                    }\n",
        "       \n",
        "                )\n",
        "                \n",
        "                # For 2D, instead of using go.Scatter3d, we need to use go.Scatter and delete the z variable. Also, instead of using\n",
        "                # variable three_dim, use the variable that we have declared earlier (e.g two_dim)\n",
        "            \n",
        "                data.append(trace)\n",
        "                count = count+topn\n",
        "\n",
        "    trace_input = go.Scatter3d(\n",
        "                    x = three_dim[count:,0], \n",
        "                    y = three_dim[count:,1],  \n",
        "                    z = three_dim[count:,2],\n",
        "                    text = words[count:],\n",
        "                    name = 'input words',\n",
        "                    textposition = \"top center\",\n",
        "                    textfont_size = 20,\n",
        "                    mode = 'markers+text',\n",
        "                    marker = {\n",
        "                        'size': 10,\n",
        "                        'opacity': 1,\n",
        "                        'color': 'black'\n",
        "                    }\n",
        "                    )\n",
        "\n",
        "    # For 2D, instead of using go.Scatter3d, we need to use go.Scatter and delete the z variable.  Also, instead of using\n",
        "    # variable three_dim, use the variable that we have declared earlier (e.g two_dim)\n",
        "            \n",
        "    data.append(trace_input)\n",
        "    \n",
        "# Configure the layout\n",
        "\n",
        "    layout = go.Layout(\n",
        "        margin = {'l': 0, 'r': 0, 'b': 0, 't': 0},\n",
        "        showlegend=True,\n",
        "        legend=dict(\n",
        "        x=1,\n",
        "        y=0.5,\n",
        "        font=dict(\n",
        "            family=\"Courier New\",\n",
        "            size=25,\n",
        "            color=\"black\"\n",
        "        )),\n",
        "        font = dict(\n",
        "            family = \" Courier New \",\n",
        "            size = 15),\n",
        "        autosize = False,\n",
        "        width = 750,\n",
        "        height = 750\n",
        "        )\n",
        "\n",
        "\n",
        "    plot_figure = go.Figure(data = data, layout = layout)\n",
        "    plot_figure.show()\n"
      ],
      "metadata": {
        "id": "rCdhu0v9wFX8"
      },
      "execution_count": null,
      "outputs": []
    },
    {
      "cell_type": "code",
      "source": [
        "display_tsne_scatterplot_3D(model.wv, user_input, similar_word, labels, color_map, 5, 500, 10000)"
      ],
      "metadata": {
        "colab": {
          "base_uri": "https://localhost:8080/",
          "height": 1000
        },
        "id": "BsEOyCNpwcmU",
        "outputId": "863fb3c3-7759-4930-cf2d-438229cc8926"
      },
      "execution_count": null,
      "outputs": [
        {
          "output_type": "stream",
          "name": "stderr",
          "text": [
            "/usr/local/lib/python3.7/dist-packages/sklearn/manifold/_t_sne.py:783: FutureWarning:\n",
            "\n",
            "The default initialization in TSNE will change from 'random' to 'pca' in 1.2.\n",
            "\n"
          ]
        },
        {
          "output_type": "display_data",
          "data": {
            "text/html": [
              "<html>\n",
              "<head><meta charset=\"utf-8\" /></head>\n",
              "<body>\n",
              "    <div>            <script src=\"https://cdnjs.cloudflare.com/ajax/libs/mathjax/2.7.5/MathJax.js?config=TeX-AMS-MML_SVG\"></script><script type=\"text/javascript\">if (window.MathJax) {MathJax.Hub.Config({SVG: {font: \"STIX-Web\"}});}</script>                <script type=\"text/javascript\">window.PlotlyConfig = {MathJaxConfig: 'local'};</script>\n",
              "        <script src=\"https://cdn.plot.ly/plotly-2.8.3.min.js\"></script>                <div id=\"e6865b30-ec29-493f-8040-30eb5550076f\" class=\"plotly-graph-div\" style=\"height:1000px; width:1000px;\"></div>            <script type=\"text/javascript\">                                    window.PLOTLYENV=window.PLOTLYENV || {};                                    if (document.getElementById(\"e6865b30-ec29-493f-8040-30eb5550076f\")) {                    Plotly.newPlot(                        \"e6865b30-ec29-493f-8040-30eb5550076f\",                        [{\"marker\":{\"color\":2,\"opacity\":0.8,\"size\":10},\"mode\":\"markers+text\",\"name\":\"\\uacf5\\ud3ec\",\"text\":[\"\\uc7a5\\ub974\",\"\\uc2a4\\ub9b4\\ub7ec\",\"\\ucf54\\ubbf8\\ub514\",\"SF\",\"\\uc0bc\\ub958\"],\"textfont\":{\"size\":20},\"textposition\":\"top center\",\"x\":[-1140.9749755859375,-1752.267578125,478.4084777832031,-655.9017333984375,835.0033569335938],\"y\":[1401.7532958984375,1110.708251953125,-1942.25927734375,590.8029174804688,-1211.272216796875],\"z\":[128.70489501953125,-237.3027801513672,598.9811401367188,701.5748901367188,-392.17559814453125],\"type\":\"scatter3d\"},{\"marker\":{\"color\":2,\"opacity\":0.8,\"size\":10},\"mode\":\"markers+text\",\"name\":\"\\ubd09\\uc900\\ud638\",\"text\":[\"\\ubcf8\\ub4dc\",\"\\uc7ad\",\"\\uc7a5\\uc9c4\",\"\\ud638\",\"\\ud589\"],\"textfont\":{\"size\":20},\"textposition\":\"top center\",\"x\":[110.8235855102539,-305.87432861328125,-359.93267822265625,-1750.69580078125,436.4831848144531],\"y\":[1308.741943359375,-337.1127624511719,-707.65673828125,-899.9515991210938,-162.2678985595703],\"z\":[872.2753295898438,145.77894592285156,1055.490478515625,373.8328552246094,1241.3956298828125],\"type\":\"scatter3d\"},{\"marker\":{\"color\":2,\"opacity\":0.8,\"size\":10},\"mode\":\"markers+text\",\"name\":\"\\uc0ac\\ub791\",\"text\":[\"\\uc0b6\",\"\\ubaa8\\uc2b5\",\"\\ub9c8\\uc74c\",\"\\uc9c4\\uc2e4\",\"\\ud589\\ubcf5\"],\"textfont\":{\"size\":20},\"textposition\":\"top center\",\"x\":[1512.36328125,1646.0606689453125,1376.1458740234375,310.27374267578125,548.9531860351562],\"y\":[-9.445901870727539,545.8707275390625,1018.0401000976562,266.39654541015625,1129.8238525390625],\"z\":[-724.9471435546875,-263.7596435546875,498.4216003417969,-305.2874450683594,-464.9549865722656],\"type\":\"scatter3d\"},{\"marker\":{\"color\":2,\"opacity\":0.8,\"size\":10},\"mode\":\"markers+text\",\"name\":\"\\ucd1d\",\"text\":[\"\\uc637\",\"\\uce7c\",\"\\uc3f4\",\"\\ubc94\\uc778\",\"\\ubb38\"],\"textfont\":{\"size\":20},\"textposition\":\"top center\",\"x\":[-1287.112060546875,-918.8569946289062,-263.06207275390625,71.51570129394531,-141.96974182128906],\"y\":[-81.66188049316406,-372.1577453613281,-66.50939178466797,386.565673828125,-749.2056884765625],\"z\":[-429.750244140625,-1141.1016845703125,1873.6253662109375,-1528.9603271484375,-1230.01123046875],\"type\":\"scatter3d\"},{\"marker\":{\"color\":\"black\",\"opacity\":1,\"size\":10},\"mode\":\"markers+text\",\"name\":\"input words\",\"text\":[\"\\uacf5\\ud3ec\",\"\\ubd09\\uc900\\ud638\",\"\\uc0ac\\ub791\",\"\\ucd1d\"],\"textfont\":{\"size\":20},\"textposition\":\"top center\",\"x\":[-932.1087646484375,2816.5869140625,-833.8280029296875,1707.10498046875],\"y\":[1416.338623046875,1845.5169677734375,-1782.9107666015625,-477.30560302734375],\"z\":[-914.2887573242188,-320.80889892578125,-94.97820281982422,835.5668334960938],\"type\":\"scatter3d\"}],                        {\"autosize\":false,\"font\":{\"family\":\" Courier New \",\"size\":15},\"height\":1000,\"legend\":{\"font\":{\"color\":\"black\",\"family\":\"Courier New\",\"size\":25},\"x\":1,\"y\":0.5},\"margin\":{\"b\":0,\"l\":0,\"r\":0,\"t\":0},\"showlegend\":true,\"width\":1000,\"template\":{\"data\":{\"bar\":[{\"error_x\":{\"color\":\"#2a3f5f\"},\"error_y\":{\"color\":\"#2a3f5f\"},\"marker\":{\"line\":{\"color\":\"#E5ECF6\",\"width\":0.5},\"pattern\":{\"fillmode\":\"overlay\",\"size\":10,\"solidity\":0.2}},\"type\":\"bar\"}],\"barpolar\":[{\"marker\":{\"line\":{\"color\":\"#E5ECF6\",\"width\":0.5},\"pattern\":{\"fillmode\":\"overlay\",\"size\":10,\"solidity\":0.2}},\"type\":\"barpolar\"}],\"carpet\":[{\"aaxis\":{\"endlinecolor\":\"#2a3f5f\",\"gridcolor\":\"white\",\"linecolor\":\"white\",\"minorgridcolor\":\"white\",\"startlinecolor\":\"#2a3f5f\"},\"baxis\":{\"endlinecolor\":\"#2a3f5f\",\"gridcolor\":\"white\",\"linecolor\":\"white\",\"minorgridcolor\":\"white\",\"startlinecolor\":\"#2a3f5f\"},\"type\":\"carpet\"}],\"choropleth\":[{\"colorbar\":{\"outlinewidth\":0,\"ticks\":\"\"},\"type\":\"choropleth\"}],\"contour\":[{\"colorbar\":{\"outlinewidth\":0,\"ticks\":\"\"},\"colorscale\":[[0.0,\"#0d0887\"],[0.1111111111111111,\"#46039f\"],[0.2222222222222222,\"#7201a8\"],[0.3333333333333333,\"#9c179e\"],[0.4444444444444444,\"#bd3786\"],[0.5555555555555556,\"#d8576b\"],[0.6666666666666666,\"#ed7953\"],[0.7777777777777778,\"#fb9f3a\"],[0.8888888888888888,\"#fdca26\"],[1.0,\"#f0f921\"]],\"type\":\"contour\"}],\"contourcarpet\":[{\"colorbar\":{\"outlinewidth\":0,\"ticks\":\"\"},\"type\":\"contourcarpet\"}],\"heatmap\":[{\"colorbar\":{\"outlinewidth\":0,\"ticks\":\"\"},\"colorscale\":[[0.0,\"#0d0887\"],[0.1111111111111111,\"#46039f\"],[0.2222222222222222,\"#7201a8\"],[0.3333333333333333,\"#9c179e\"],[0.4444444444444444,\"#bd3786\"],[0.5555555555555556,\"#d8576b\"],[0.6666666666666666,\"#ed7953\"],[0.7777777777777778,\"#fb9f3a\"],[0.8888888888888888,\"#fdca26\"],[1.0,\"#f0f921\"]],\"type\":\"heatmap\"}],\"heatmapgl\":[{\"colorbar\":{\"outlinewidth\":0,\"ticks\":\"\"},\"colorscale\":[[0.0,\"#0d0887\"],[0.1111111111111111,\"#46039f\"],[0.2222222222222222,\"#7201a8\"],[0.3333333333333333,\"#9c179e\"],[0.4444444444444444,\"#bd3786\"],[0.5555555555555556,\"#d8576b\"],[0.6666666666666666,\"#ed7953\"],[0.7777777777777778,\"#fb9f3a\"],[0.8888888888888888,\"#fdca26\"],[1.0,\"#f0f921\"]],\"type\":\"heatmapgl\"}],\"histogram\":[{\"marker\":{\"pattern\":{\"fillmode\":\"overlay\",\"size\":10,\"solidity\":0.2}},\"type\":\"histogram\"}],\"histogram2d\":[{\"colorbar\":{\"outlinewidth\":0,\"ticks\":\"\"},\"colorscale\":[[0.0,\"#0d0887\"],[0.1111111111111111,\"#46039f\"],[0.2222222222222222,\"#7201a8\"],[0.3333333333333333,\"#9c179e\"],[0.4444444444444444,\"#bd3786\"],[0.5555555555555556,\"#d8576b\"],[0.6666666666666666,\"#ed7953\"],[0.7777777777777778,\"#fb9f3a\"],[0.8888888888888888,\"#fdca26\"],[1.0,\"#f0f921\"]],\"type\":\"histogram2d\"}],\"histogram2dcontour\":[{\"colorbar\":{\"outlinewidth\":0,\"ticks\":\"\"},\"colorscale\":[[0.0,\"#0d0887\"],[0.1111111111111111,\"#46039f\"],[0.2222222222222222,\"#7201a8\"],[0.3333333333333333,\"#9c179e\"],[0.4444444444444444,\"#bd3786\"],[0.5555555555555556,\"#d8576b\"],[0.6666666666666666,\"#ed7953\"],[0.7777777777777778,\"#fb9f3a\"],[0.8888888888888888,\"#fdca26\"],[1.0,\"#f0f921\"]],\"type\":\"histogram2dcontour\"}],\"mesh3d\":[{\"colorbar\":{\"outlinewidth\":0,\"ticks\":\"\"},\"type\":\"mesh3d\"}],\"parcoords\":[{\"line\":{\"colorbar\":{\"outlinewidth\":0,\"ticks\":\"\"}},\"type\":\"parcoords\"}],\"pie\":[{\"automargin\":true,\"type\":\"pie\"}],\"scatter\":[{\"marker\":{\"colorbar\":{\"outlinewidth\":0,\"ticks\":\"\"}},\"type\":\"scatter\"}],\"scatter3d\":[{\"line\":{\"colorbar\":{\"outlinewidth\":0,\"ticks\":\"\"}},\"marker\":{\"colorbar\":{\"outlinewidth\":0,\"ticks\":\"\"}},\"type\":\"scatter3d\"}],\"scattercarpet\":[{\"marker\":{\"colorbar\":{\"outlinewidth\":0,\"ticks\":\"\"}},\"type\":\"scattercarpet\"}],\"scattergeo\":[{\"marker\":{\"colorbar\":{\"outlinewidth\":0,\"ticks\":\"\"}},\"type\":\"scattergeo\"}],\"scattergl\":[{\"marker\":{\"colorbar\":{\"outlinewidth\":0,\"ticks\":\"\"}},\"type\":\"scattergl\"}],\"scattermapbox\":[{\"marker\":{\"colorbar\":{\"outlinewidth\":0,\"ticks\":\"\"}},\"type\":\"scattermapbox\"}],\"scatterpolar\":[{\"marker\":{\"colorbar\":{\"outlinewidth\":0,\"ticks\":\"\"}},\"type\":\"scatterpolar\"}],\"scatterpolargl\":[{\"marker\":{\"colorbar\":{\"outlinewidth\":0,\"ticks\":\"\"}},\"type\":\"scatterpolargl\"}],\"scatterternary\":[{\"marker\":{\"colorbar\":{\"outlinewidth\":0,\"ticks\":\"\"}},\"type\":\"scatterternary\"}],\"surface\":[{\"colorbar\":{\"outlinewidth\":0,\"ticks\":\"\"},\"colorscale\":[[0.0,\"#0d0887\"],[0.1111111111111111,\"#46039f\"],[0.2222222222222222,\"#7201a8\"],[0.3333333333333333,\"#9c179e\"],[0.4444444444444444,\"#bd3786\"],[0.5555555555555556,\"#d8576b\"],[0.6666666666666666,\"#ed7953\"],[0.7777777777777778,\"#fb9f3a\"],[0.8888888888888888,\"#fdca26\"],[1.0,\"#f0f921\"]],\"type\":\"surface\"}],\"table\":[{\"cells\":{\"fill\":{\"color\":\"#EBF0F8\"},\"line\":{\"color\":\"white\"}},\"header\":{\"fill\":{\"color\":\"#C8D4E3\"},\"line\":{\"color\":\"white\"}},\"type\":\"table\"}]},\"layout\":{\"annotationdefaults\":{\"arrowcolor\":\"#2a3f5f\",\"arrowhead\":0,\"arrowwidth\":1},\"autotypenumbers\":\"strict\",\"coloraxis\":{\"colorbar\":{\"outlinewidth\":0,\"ticks\":\"\"}},\"colorscale\":{\"diverging\":[[0,\"#8e0152\"],[0.1,\"#c51b7d\"],[0.2,\"#de77ae\"],[0.3,\"#f1b6da\"],[0.4,\"#fde0ef\"],[0.5,\"#f7f7f7\"],[0.6,\"#e6f5d0\"],[0.7,\"#b8e186\"],[0.8,\"#7fbc41\"],[0.9,\"#4d9221\"],[1,\"#276419\"]],\"sequential\":[[0.0,\"#0d0887\"],[0.1111111111111111,\"#46039f\"],[0.2222222222222222,\"#7201a8\"],[0.3333333333333333,\"#9c179e\"],[0.4444444444444444,\"#bd3786\"],[0.5555555555555556,\"#d8576b\"],[0.6666666666666666,\"#ed7953\"],[0.7777777777777778,\"#fb9f3a\"],[0.8888888888888888,\"#fdca26\"],[1.0,\"#f0f921\"]],\"sequentialminus\":[[0.0,\"#0d0887\"],[0.1111111111111111,\"#46039f\"],[0.2222222222222222,\"#7201a8\"],[0.3333333333333333,\"#9c179e\"],[0.4444444444444444,\"#bd3786\"],[0.5555555555555556,\"#d8576b\"],[0.6666666666666666,\"#ed7953\"],[0.7777777777777778,\"#fb9f3a\"],[0.8888888888888888,\"#fdca26\"],[1.0,\"#f0f921\"]]},\"colorway\":[\"#636efa\",\"#EF553B\",\"#00cc96\",\"#ab63fa\",\"#FFA15A\",\"#19d3f3\",\"#FF6692\",\"#B6E880\",\"#FF97FF\",\"#FECB52\"],\"font\":{\"color\":\"#2a3f5f\"},\"geo\":{\"bgcolor\":\"white\",\"lakecolor\":\"white\",\"landcolor\":\"#E5ECF6\",\"showlakes\":true,\"showland\":true,\"subunitcolor\":\"white\"},\"hoverlabel\":{\"align\":\"left\"},\"hovermode\":\"closest\",\"mapbox\":{\"style\":\"light\"},\"paper_bgcolor\":\"white\",\"plot_bgcolor\":\"#E5ECF6\",\"polar\":{\"angularaxis\":{\"gridcolor\":\"white\",\"linecolor\":\"white\",\"ticks\":\"\"},\"bgcolor\":\"#E5ECF6\",\"radialaxis\":{\"gridcolor\":\"white\",\"linecolor\":\"white\",\"ticks\":\"\"}},\"scene\":{\"xaxis\":{\"backgroundcolor\":\"#E5ECF6\",\"gridcolor\":\"white\",\"gridwidth\":2,\"linecolor\":\"white\",\"showbackground\":true,\"ticks\":\"\",\"zerolinecolor\":\"white\"},\"yaxis\":{\"backgroundcolor\":\"#E5ECF6\",\"gridcolor\":\"white\",\"gridwidth\":2,\"linecolor\":\"white\",\"showbackground\":true,\"ticks\":\"\",\"zerolinecolor\":\"white\"},\"zaxis\":{\"backgroundcolor\":\"#E5ECF6\",\"gridcolor\":\"white\",\"gridwidth\":2,\"linecolor\":\"white\",\"showbackground\":true,\"ticks\":\"\",\"zerolinecolor\":\"white\"}},\"shapedefaults\":{\"line\":{\"color\":\"#2a3f5f\"}},\"ternary\":{\"aaxis\":{\"gridcolor\":\"white\",\"linecolor\":\"white\",\"ticks\":\"\"},\"baxis\":{\"gridcolor\":\"white\",\"linecolor\":\"white\",\"ticks\":\"\"},\"bgcolor\":\"#E5ECF6\",\"caxis\":{\"gridcolor\":\"white\",\"linecolor\":\"white\",\"ticks\":\"\"}},\"title\":{\"x\":0.05},\"xaxis\":{\"automargin\":true,\"gridcolor\":\"white\",\"linecolor\":\"white\",\"ticks\":\"\",\"title\":{\"standoff\":15},\"zerolinecolor\":\"white\",\"zerolinewidth\":2},\"yaxis\":{\"automargin\":true,\"gridcolor\":\"white\",\"linecolor\":\"white\",\"ticks\":\"\",\"title\":{\"standoff\":15},\"zerolinecolor\":\"white\",\"zerolinewidth\":2}}}},                        {\"responsive\": true}                    ).then(function(){\n",
              "                            \n",
              "var gd = document.getElementById('e6865b30-ec29-493f-8040-30eb5550076f');\n",
              "var x = new MutationObserver(function (mutations, observer) {{\n",
              "        var display = window.getComputedStyle(gd).display;\n",
              "        if (!display || display === 'none') {{\n",
              "            console.log([gd, 'removed!']);\n",
              "            Plotly.purge(gd);\n",
              "            observer.disconnect();\n",
              "        }}\n",
              "}});\n",
              "\n",
              "// Listen for the removal of the full notebook cells\n",
              "var notebookContainer = gd.closest('#notebook-container');\n",
              "if (notebookContainer) {{\n",
              "    x.observe(notebookContainer, {childList: true});\n",
              "}}\n",
              "\n",
              "// Listen for the clearing of the current output cell\n",
              "var outputEl = gd.closest('.output');\n",
              "if (outputEl) {{\n",
              "    x.observe(outputEl, {childList: true});\n",
              "}}\n",
              "\n",
              "                        })                };                            </script>        </div>\n",
              "</body>\n",
              "</html>"
            ]
          },
          "metadata": {}
        }
      ]
    }
  ]
}