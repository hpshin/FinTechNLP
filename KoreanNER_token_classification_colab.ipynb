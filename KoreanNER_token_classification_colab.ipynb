{
 "cells": [
  {
   "cell_type": "markdown",
   "metadata": {
    "id": "M42-TEw81fAY"
   },
   "source": [
    "**Init**"
   ]
  },
  {
   "cell_type": "code",
   "execution_count": 1,
   "metadata": {
    "colab": {
     "base_uri": "https://localhost:8080/"
    },
    "id": "Weazh-P41fAZ",
    "outputId": "ed66ae2a-bb19-42da-f879-4766a3aaaa0d",
    "scrolled": true
   },
   "outputs": [
    {
     "name": "stdout",
     "output_type": "stream",
     "text": [
      "Collecting seqeval\n",
      "\u001b[?25l  Downloading https://files.pythonhosted.org/packages/9d/2d/233c79d5b4e5ab1dbf111242299153f3caddddbb691219f363ad55ce783d/seqeval-1.2.2.tar.gz (43kB)\n",
      "\r",
      "\u001b[K     |███████▌                        | 10kB 22.6MB/s eta 0:00:01\r",
      "\u001b[K     |███████████████                 | 20kB 30.2MB/s eta 0:00:01\r",
      "\u001b[K     |██████████████████████▌         | 30kB 25.3MB/s eta 0:00:01\r",
      "\u001b[K     |██████████████████████████████  | 40kB 20.0MB/s eta 0:00:01\r",
      "\u001b[K     |████████████████████████████████| 51kB 5.1MB/s \n",
      "\u001b[?25hRequirement already satisfied: numpy>=1.14.0 in /usr/local/lib/python3.7/dist-packages (from seqeval) (1.19.5)\n",
      "Requirement already satisfied: scikit-learn>=0.21.3 in /usr/local/lib/python3.7/dist-packages (from seqeval) (0.22.2.post1)\n",
      "Requirement already satisfied: scipy>=0.17.0 in /usr/local/lib/python3.7/dist-packages (from scikit-learn>=0.21.3->seqeval) (1.4.1)\n",
      "Requirement already satisfied: joblib>=0.11 in /usr/local/lib/python3.7/dist-packages (from scikit-learn>=0.21.3->seqeval) (1.0.1)\n",
      "Building wheels for collected packages: seqeval\n",
      "  Building wheel for seqeval (setup.py) ... \u001b[?25l\u001b[?25hdone\n",
      "  Created wheel for seqeval: filename=seqeval-1.2.2-cp37-none-any.whl size=16184 sha256=1d827f1df2d5e3220a00c467dc6f2fe1fa778ec870930ce47351ff3c76f96707\n",
      "  Stored in directory: /root/.cache/pip/wheels/52/df/1b/45d75646c37428f7e626214704a0e35bd3cfc32eda37e59e5f\n",
      "Successfully built seqeval\n",
      "Installing collected packages: seqeval\n",
      "Successfully installed seqeval-1.2.2\n",
      "Collecting transformers\n",
      "\u001b[?25l  Downloading https://files.pythonhosted.org/packages/00/92/6153f4912b84ee1ab53ab45663d23e7cf3704161cb5ef18b0c07e207cef2/transformers-4.7.0-py3-none-any.whl (2.5MB)\n",
      "\u001b[K     |████████████████████████████████| 2.5MB 8.6MB/s \n",
      "\u001b[?25hRequirement already satisfied: numpy>=1.17 in /usr/local/lib/python3.7/dist-packages (from transformers) (1.19.5)\n",
      "Requirement already satisfied: regex!=2019.12.17 in /usr/local/lib/python3.7/dist-packages (from transformers) (2019.12.20)\n",
      "Collecting tokenizers<0.11,>=0.10.1\n",
      "\u001b[?25l  Downloading https://files.pythonhosted.org/packages/d4/e2/df3543e8ffdab68f5acc73f613de9c2b155ac47f162e725dcac87c521c11/tokenizers-0.10.3-cp37-cp37m-manylinux_2_5_x86_64.manylinux1_x86_64.manylinux_2_12_x86_64.manylinux2010_x86_64.whl (3.3MB)\n",
      "\u001b[K     |████████████████████████████████| 3.3MB 37.5MB/s \n",
      "\u001b[?25hRequirement already satisfied: tqdm>=4.27 in /usr/local/lib/python3.7/dist-packages (from transformers) (4.41.1)\n",
      "Requirement already satisfied: packaging in /usr/local/lib/python3.7/dist-packages (from transformers) (20.9)\n",
      "Collecting huggingface-hub==0.0.8\n",
      "  Downloading https://files.pythonhosted.org/packages/a1/88/7b1e45720ecf59c6c6737ff332f41c955963090a18e72acbcbeac6b25e86/huggingface_hub-0.0.8-py3-none-any.whl\n",
      "Requirement already satisfied: filelock in /usr/local/lib/python3.7/dist-packages (from transformers) (3.0.12)\n",
      "Collecting sacremoses\n",
      "\u001b[?25l  Downloading https://files.pythonhosted.org/packages/75/ee/67241dc87f266093c533a2d4d3d69438e57d7a90abb216fa076e7d475d4a/sacremoses-0.0.45-py3-none-any.whl (895kB)\n",
      "\u001b[K     |████████████████████████████████| 901kB 54.3MB/s \n",
      "\u001b[?25hRequirement already satisfied: importlib-metadata; python_version < \"3.8\" in /usr/local/lib/python3.7/dist-packages (from transformers) (4.5.0)\n",
      "Requirement already satisfied: pyyaml in /usr/local/lib/python3.7/dist-packages (from transformers) (3.13)\n",
      "Requirement already satisfied: requests in /usr/local/lib/python3.7/dist-packages (from transformers) (2.23.0)\n",
      "Requirement already satisfied: pyparsing>=2.0.2 in /usr/local/lib/python3.7/dist-packages (from packaging->transformers) (2.4.7)\n",
      "Requirement already satisfied: joblib in /usr/local/lib/python3.7/dist-packages (from sacremoses->transformers) (1.0.1)\n",
      "Requirement already satisfied: click in /usr/local/lib/python3.7/dist-packages (from sacremoses->transformers) (7.1.2)\n",
      "Requirement already satisfied: six in /usr/local/lib/python3.7/dist-packages (from sacremoses->transformers) (1.15.0)\n",
      "Requirement already satisfied: zipp>=0.5 in /usr/local/lib/python3.7/dist-packages (from importlib-metadata; python_version < \"3.8\"->transformers) (3.4.1)\n",
      "Requirement already satisfied: typing-extensions>=3.6.4; python_version < \"3.8\" in /usr/local/lib/python3.7/dist-packages (from importlib-metadata; python_version < \"3.8\"->transformers) (3.7.4.3)\n",
      "Requirement already satisfied: chardet<4,>=3.0.2 in /usr/local/lib/python3.7/dist-packages (from requests->transformers) (3.0.4)\n",
      "Requirement already satisfied: idna<3,>=2.5 in /usr/local/lib/python3.7/dist-packages (from requests->transformers) (2.10)\n",
      "Requirement already satisfied: certifi>=2017.4.17 in /usr/local/lib/python3.7/dist-packages (from requests->transformers) (2021.5.30)\n",
      "Requirement already satisfied: urllib3!=1.25.0,!=1.25.1,<1.26,>=1.21.1 in /usr/local/lib/python3.7/dist-packages (from requests->transformers) (1.24.3)\n",
      "Installing collected packages: tokenizers, huggingface-hub, sacremoses, transformers\n",
      "Successfully installed huggingface-hub-0.0.8 sacremoses-0.0.45 tokenizers-0.10.3 transformers-4.7.0\n",
      "Requirement already up-to-date: keras in /usr/local/lib/python3.7/dist-packages (2.4.3)\n",
      "Requirement already satisfied, skipping upgrade: h5py in /usr/local/lib/python3.7/dist-packages (from keras) (3.1.0)\n",
      "Requirement already satisfied, skipping upgrade: pyyaml in /usr/local/lib/python3.7/dist-packages (from keras) (3.13)\n",
      "Requirement already satisfied, skipping upgrade: scipy>=0.14 in /usr/local/lib/python3.7/dist-packages (from keras) (1.4.1)\n",
      "Requirement already satisfied, skipping upgrade: numpy>=1.9.1 in /usr/local/lib/python3.7/dist-packages (from keras) (1.19.5)\n",
      "Requirement already satisfied, skipping upgrade: cached-property; python_version < \"3.8\" in /usr/local/lib/python3.7/dist-packages (from h5py->keras) (1.5.2)\n",
      "Requirement already up-to-date: tensorflow in /usr/local/lib/python3.7/dist-packages (2.5.0)\n",
      "Requirement already satisfied, skipping upgrade: tensorboard~=2.5 in /usr/local/lib/python3.7/dist-packages (from tensorflow) (2.5.0)\n",
      "Requirement already satisfied, skipping upgrade: wheel~=0.35 in /usr/local/lib/python3.7/dist-packages (from tensorflow) (0.36.2)\n",
      "Requirement already satisfied, skipping upgrade: grpcio~=1.34.0 in /usr/local/lib/python3.7/dist-packages (from tensorflow) (1.34.1)\n",
      "Requirement already satisfied, skipping upgrade: h5py~=3.1.0 in /usr/local/lib/python3.7/dist-packages (from tensorflow) (3.1.0)\n",
      "Requirement already satisfied, skipping upgrade: protobuf>=3.9.2 in /usr/local/lib/python3.7/dist-packages (from tensorflow) (3.12.4)\n",
      "Requirement already satisfied, skipping upgrade: wrapt~=1.12.1 in /usr/local/lib/python3.7/dist-packages (from tensorflow) (1.12.1)\n",
      "Requirement already satisfied, skipping upgrade: astunparse~=1.6.3 in /usr/local/lib/python3.7/dist-packages (from tensorflow) (1.6.3)\n",
      "Requirement already satisfied, skipping upgrade: google-pasta~=0.2 in /usr/local/lib/python3.7/dist-packages (from tensorflow) (0.2.0)\n",
      "Requirement already satisfied, skipping upgrade: flatbuffers~=1.12.0 in /usr/local/lib/python3.7/dist-packages (from tensorflow) (1.12)\n",
      "Requirement already satisfied, skipping upgrade: six~=1.15.0 in /usr/local/lib/python3.7/dist-packages (from tensorflow) (1.15.0)\n",
      "Requirement already satisfied, skipping upgrade: tensorflow-estimator<2.6.0,>=2.5.0rc0 in /usr/local/lib/python3.7/dist-packages (from tensorflow) (2.5.0)\n",
      "Requirement already satisfied, skipping upgrade: absl-py~=0.10 in /usr/local/lib/python3.7/dist-packages (from tensorflow) (0.12.0)\n",
      "Requirement already satisfied, skipping upgrade: opt-einsum~=3.3.0 in /usr/local/lib/python3.7/dist-packages (from tensorflow) (3.3.0)\n",
      "Requirement already satisfied, skipping upgrade: keras-nightly~=2.5.0.dev in /usr/local/lib/python3.7/dist-packages (from tensorflow) (2.5.0.dev2021032900)\n",
      "Requirement already satisfied, skipping upgrade: typing-extensions~=3.7.4 in /usr/local/lib/python3.7/dist-packages (from tensorflow) (3.7.4.3)\n",
      "Requirement already satisfied, skipping upgrade: gast==0.4.0 in /usr/local/lib/python3.7/dist-packages (from tensorflow) (0.4.0)\n",
      "Requirement already satisfied, skipping upgrade: numpy~=1.19.2 in /usr/local/lib/python3.7/dist-packages (from tensorflow) (1.19.5)\n",
      "Requirement already satisfied, skipping upgrade: termcolor~=1.1.0 in /usr/local/lib/python3.7/dist-packages (from tensorflow) (1.1.0)\n",
      "Requirement already satisfied, skipping upgrade: keras-preprocessing~=1.1.2 in /usr/local/lib/python3.7/dist-packages (from tensorflow) (1.1.2)\n",
      "Requirement already satisfied, skipping upgrade: google-auth<2,>=1.6.3 in /usr/local/lib/python3.7/dist-packages (from tensorboard~=2.5->tensorflow) (1.31.0)\n",
      "Requirement already satisfied, skipping upgrade: google-auth-oauthlib<0.5,>=0.4.1 in /usr/local/lib/python3.7/dist-packages (from tensorboard~=2.5->tensorflow) (0.4.4)\n",
      "Requirement already satisfied, skipping upgrade: setuptools>=41.0.0 in /usr/local/lib/python3.7/dist-packages (from tensorboard~=2.5->tensorflow) (57.0.0)\n",
      "Requirement already satisfied, skipping upgrade: tensorboard-data-server<0.7.0,>=0.6.0 in /usr/local/lib/python3.7/dist-packages (from tensorboard~=2.5->tensorflow) (0.6.1)\n",
      "Requirement already satisfied, skipping upgrade: requests<3,>=2.21.0 in /usr/local/lib/python3.7/dist-packages (from tensorboard~=2.5->tensorflow) (2.23.0)\n",
      "Requirement already satisfied, skipping upgrade: tensorboard-plugin-wit>=1.6.0 in /usr/local/lib/python3.7/dist-packages (from tensorboard~=2.5->tensorflow) (1.8.0)\n",
      "Requirement already satisfied, skipping upgrade: markdown>=2.6.8 in /usr/local/lib/python3.7/dist-packages (from tensorboard~=2.5->tensorflow) (3.3.4)\n",
      "Requirement already satisfied, skipping upgrade: werkzeug>=0.11.15 in /usr/local/lib/python3.7/dist-packages (from tensorboard~=2.5->tensorflow) (1.0.1)\n",
      "Requirement already satisfied, skipping upgrade: cached-property; python_version < \"3.8\" in /usr/local/lib/python3.7/dist-packages (from h5py~=3.1.0->tensorflow) (1.5.2)\n",
      "Requirement already satisfied, skipping upgrade: pyasn1-modules>=0.2.1 in /usr/local/lib/python3.7/dist-packages (from google-auth<2,>=1.6.3->tensorboard~=2.5->tensorflow) (0.2.8)\n",
      "Requirement already satisfied, skipping upgrade: rsa<5,>=3.1.4; python_version >= \"3.6\" in /usr/local/lib/python3.7/dist-packages (from google-auth<2,>=1.6.3->tensorboard~=2.5->tensorflow) (4.7.2)\n",
      "Requirement already satisfied, skipping upgrade: cachetools<5.0,>=2.0.0 in /usr/local/lib/python3.7/dist-packages (from google-auth<2,>=1.6.3->tensorboard~=2.5->tensorflow) (4.2.2)\n",
      "Requirement already satisfied, skipping upgrade: requests-oauthlib>=0.7.0 in /usr/local/lib/python3.7/dist-packages (from google-auth-oauthlib<0.5,>=0.4.1->tensorboard~=2.5->tensorflow) (1.3.0)\n",
      "Requirement already satisfied, skipping upgrade: certifi>=2017.4.17 in /usr/local/lib/python3.7/dist-packages (from requests<3,>=2.21.0->tensorboard~=2.5->tensorflow) (2021.5.30)\n",
      "Requirement already satisfied, skipping upgrade: urllib3!=1.25.0,!=1.25.1,<1.26,>=1.21.1 in /usr/local/lib/python3.7/dist-packages (from requests<3,>=2.21.0->tensorboard~=2.5->tensorflow) (1.24.3)\n",
      "Requirement already satisfied, skipping upgrade: chardet<4,>=3.0.2 in /usr/local/lib/python3.7/dist-packages (from requests<3,>=2.21.0->tensorboard~=2.5->tensorflow) (3.0.4)\n",
      "Requirement already satisfied, skipping upgrade: idna<3,>=2.5 in /usr/local/lib/python3.7/dist-packages (from requests<3,>=2.21.0->tensorboard~=2.5->tensorflow) (2.10)\n",
      "Requirement already satisfied, skipping upgrade: importlib-metadata; python_version < \"3.8\" in /usr/local/lib/python3.7/dist-packages (from markdown>=2.6.8->tensorboard~=2.5->tensorflow) (4.5.0)\n",
      "Requirement already satisfied, skipping upgrade: pyasn1<0.5.0,>=0.4.6 in /usr/local/lib/python3.7/dist-packages (from pyasn1-modules>=0.2.1->google-auth<2,>=1.6.3->tensorboard~=2.5->tensorflow) (0.4.8)\n",
      "Requirement already satisfied, skipping upgrade: oauthlib>=3.0.0 in /usr/local/lib/python3.7/dist-packages (from requests-oauthlib>=0.7.0->google-auth-oauthlib<0.5,>=0.4.1->tensorboard~=2.5->tensorflow) (3.1.1)\n",
      "Requirement already satisfied, skipping upgrade: zipp>=0.5 in /usr/local/lib/python3.7/dist-packages (from importlib-metadata; python_version < \"3.8\"->markdown>=2.6.8->tensorboard~=2.5->tensorflow) (3.4.1)\n"
     ]
    }
   ],
   "source": [
    "!pip install seqeval\n",
    "!pip install transformers\n",
    "!pip install --upgrade keras\n",
    "!pip install --upgrade tensorflow"
   ]
  },
  {
   "cell_type": "code",
   "execution_count": 1,
   "metadata": {
    "id": "PREUQxF71fAZ"
   },
   "outputs": [],
   "source": [
    "# Adapted from https://github.com/huggingface/transformers/tree/master/examples/token-classification\n",
    "\n",
    "import logging\n",
    "import os\n",
    "import sys\n",
    "import pandas as pd \n",
    "import torch\n",
    "from dataclasses import dataclass, field\n",
    "from typing import Dict, List, Optional, Tuple\n",
    "import math\n",
    "\n",
    "import numpy as np\n",
    "from seqeval.metrics import f1_score, precision_score, recall_score, accuracy_score\n",
    "from torch import nn\n",
    "\n",
    "from transformers import (\n",
    "    AutoConfig,\n",
    "    AutoModelForTokenClassification,\n",
    "    AutoTokenizer,\n",
    "    EvalPrediction,\n",
    "    Trainer,\n",
    "    TrainingArguments\n",
    ")\n",
    "\n",
    "logger = logging.getLogger(__name__)"
   ]
  },
  {
   "cell_type": "markdown",
   "metadata": {
    "id": "IE9UkPVY1fAa"
   },
   "source": [
    "**What is a Data Class?**\n",
    "\n",
    "This function is a decorator that is used to add generated special methods to classes, as described below.\n",
    "\n",
    "The `dataclass()` decorator examines the class to find fields. A field is defined as class variable that has a type annotation. With two exceptions described below, nothing in `dataclass()` examines the type specified in the variable annotation.\n",
    "\n",
    "The parameters to `dataclass()` are:\n",
    "\n",
    "- `init`: If true (the default), a `__init__()` method will be generated.\n",
    "\n",
    "- `repr`: If true (the default), a `__repr__()` method will be generated. The generated repr string will have the class name and the name and repr of each field, in the order they are defined in the class. Fields that are marked as being excluded from the repr are not included. For example: InventoryItem(name='widget', unit_price=3.0, quantity_on_hand=10).\n",
    "\n",
    "- `eq`: If true (the default), an `__eq__()` method will be generated. This method compares the class as if it were a tuple of its fields, in order. Both instances in the comparison must be of the identical type.\n",
    "\n",
    "- `order`: If true (the default is False), `__lt__(), __le__(), __gt__(), and __ge__()` methods will be generated. These compare the class as if it were a tuple of its fields, in order. Both instances in the comparison must be of the identical type. If order is true and eq is false, a ValueError is raised.\n",
    "\n",
    "\n",
    "https://docs.python.org/3/library/dataclasses.html"
   ]
  },
  {
   "cell_type": "code",
   "execution_count": 2,
   "metadata": {
    "id": "QG4RmGpg1fAb"
   },
   "outputs": [],
   "source": [
    "# Define Data Classes\n",
    "@dataclass\n",
    "class InputExample:\n",
    "    \"\"\"\n",
    "    A single training/test example for token classification.\n",
    "    Args:\n",
    "        guid: Unique id for the example.\n",
    "        words: list. The words of the sequence.\n",
    "        labels: (Optional) list. The labels for each word of the sequence. This should be\n",
    "        specified for train and dev examples, but not for test examples.\n",
    "    \"\"\"\n",
    "    guid: str\n",
    "    words: List[str]\n",
    "    labels: Optional[List[str]]\n",
    "\n",
    "@dataclass\n",
    "class InputFeatures:\n",
    "    \"\"\"\n",
    "    A single set of features of data.\n",
    "    Property names are the same names as the corresponding inputs to a model.\n",
    "    \"\"\"\n",
    "    input_ids: List[int]\n",
    "    attention_mask: List[int]\n",
    "    token_type_ids: Optional[List[int]] = None\n",
    "    label_ids: Optional[List[int]] = None"
   ]
  },
  {
   "cell_type": "code",
   "execution_count": 3,
   "metadata": {
    "id": "Z_vS2di_1fAb"
   },
   "outputs": [],
   "source": [
    "# Print debug information to stdout\n",
    "logging.basicConfig(format='%(asctime)s - %(message)s',\n",
    "                    datefmt='%Y-%m-%d %H:%M:%S',\n",
    "                    level=logging.INFO)"
   ]
  },
  {
   "cell_type": "markdown",
   "metadata": {
    "id": "JLTVLgSD1fAc"
   },
   "source": [
    "# Korean Named Entity Recognition (NER) Task"
   ]
  },
  {
   "cell_type": "markdown",
   "metadata": {
    "id": "hmy0tSBH1fAc"
   },
   "source": [
    "https://github.com/machinereading/KoreanNERCorpus\n",
    "\n",
    "## Data Description\n",
    "\n",
    "**BIO Tagging**\n",
    "\n",
    "- 'O': Outside\n",
    "- 'I': Inside\n",
    "- 'B_OG': Organization\n",
    "- 'B_DT': Date\n",
    "- 'B_PS': Person\n",
    "- 'B_LC': Location\n",
    "- 'B_TI': Time\n"
   ]
  },
  {
   "cell_type": "markdown",
   "metadata": {
    "id": "z1Lmi3LL1fAd"
   },
   "source": [
    "<img src=https://miro.medium.com/max/2452/1*cL1kFNiu8ZTQ15bRHludhw.png width=\"400\" align=\"left\">\n"
   ]
  },
  {
   "cell_type": "code",
   "execution_count": 4,
   "metadata": {
    "colab": {
     "base_uri": "https://localhost:8080/"
    },
    "id": "xKOeKr-I8xee",
    "outputId": "68876f9a-efc3-4b7c-dc4d-903876862eae"
   },
   "outputs": [
    {
     "name": "stdout",
     "output_type": "stream",
     "text": [
      "Cloning into 'KoreanNERCorpus'...\n",
      "remote: Enumerating objects: 59, done.\u001b[K\n",
      "remote: Total 59 (delta 0), reused 0 (delta 0), pack-reused 59\u001b[K\n",
      "Unpacking objects: 100% (59/59), done.\n",
      "Checking connectivity... done.\n"
     ]
    }
   ],
   "source": [
    "!git clone https://github.com/machinereading/KoreanNERCorpus.git"
   ]
  },
  {
   "cell_type": "code",
   "execution_count": 5,
   "metadata": {
    "id": "xt1ZFfHy1fAd"
   },
   "outputs": [],
   "source": [
    "# Labels for NER Dataset\n",
    "labels = ['O', 'B_OG', 'I', 'B_DT', 'B_PS', 'B_LC', 'B_TI']\n",
    "label_map: Dict[int, str] = {i: label for i, label in enumerate(labels)}\n",
    "num_labels = len(labels)"
   ]
  },
  {
   "cell_type": "code",
   "execution_count": 6,
   "metadata": {
    "colab": {
     "base_uri": "https://localhost:8080/"
    },
    "id": "RLcw2ibF1fAd",
    "outputId": "167ebc70-e59b-428e-ce17-e66b559b1733"
   },
   "outputs": [
    {
     "name": "stdout",
     "output_type": "stream",
     "text": [
      "; 서호프와 파사노에게 연속 안타를 내주며\r\n",
      "$<서호프:PS>와 <파사노:PS>에게 연속 안타를 내주며\r\n",
      "1\t서호프\tNNP\tB_PS\r\n",
      "1\t와\tJC\tO\r\n",
      "2\t파사노\tNNP\tB_PS\r\n",
      "2\t에게\tJC\tO\r\n",
      "3\t연속\tNNG\tO\r\n",
      "4\t안타\tNNG\tO\r\n",
      "4\t를\tJKO\tO\r\n",
      "5\t내주\tVV\tO\r\n"
     ]
    }
   ],
   "source": [
    "!head KoreanNERCorpus/modified/dev_modified.txt"
   ]
  },
  {
   "cell_type": "markdown",
   "metadata": {
    "id": "kvkaOSM81fAe"
   },
   "source": [
    "# 1. Load Transformer Model and Tokenizer"
   ]
  },
  {
   "cell_type": "markdown",
   "metadata": {
    "id": "LvpPVN_d1fAe"
   },
   "source": [
    "**Automodels**\n",
    "\n",
    "https://huggingface.co/transformers/model_doc/auto.html#"
   ]
  },
  {
   "cell_type": "code",
   "execution_count": 7,
   "metadata": {
    "colab": {
     "base_uri": "https://localhost:8080/",
     "height": 454,
     "referenced_widgets": [
      "73bf393e72b945618430986f9cf03a8d",
      "ff96e108c29f4a579262b47cc37665f9",
      "71eacf0654fa4730b20c2ea1a2c8e395",
      "08413938eac64bde9bac81f3ee557fe5",
      "5312dac9dd3a407090257e2a087b8b18",
      "2f6c880c49564aceafd28fd4e741cfc9",
      "4bc91259f02d43a18e1781d8bc1fae11",
      "4207b4edb11941eab4d1f514bdf3558e",
      "aa883c37abb2405cb1fa1f419db60bde",
      "66d251df25f94a9a9d78674167ce7b63",
      "b9a2c31103ce408fb5444cd934da3113",
      "891dc777066144fc9269ba9ac1b8336a",
      "ce16eafd237d45c9a4231c398eeef6bb",
      "38b7c1c6ce194e8e945986f42d6115f4",
      "0bd17f87eafb4524b7dbc3f45dd08acd",
      "ad53c94d150145739275f1802212de1f",
      "f2151106a696453f99638764add49565",
      "7b4a536a721b473cbf49683a6f3df5ca",
      "87af3fe3573b4b02873eb2f46c69678c",
      "538e37527fc14675859c2e020069d0f2",
      "54214e307a6f457eac53302cdab8cae7",
      "d6e3f30c679f4227b4dd852f22ee64e4",
      "598182570ced4e56a43f4ca8a8ed1a44",
      "e84fd9a07a9547cda229fc2e0308ba47",
      "238d5af5d1f4440bb16b509fb162aa33",
      "d6425fe79c7c4b24ba1a22b976fea4d1",
      "09dc3f684b6d4b8aaa1abb5092515f4f",
      "9803d264f78c44afa9d87fa014e60f6c",
      "f6287ab81b0e4a60828ad05297360d88",
      "08c36fd2d33145f084b397e6a2d24538",
      "51ec4b56c0bd4432aaa391bd01389bdd",
      "e2303169d02049548ff21c4c70fcabae"
     ]
    },
    "id": "y9HFZZH41fAe",
    "outputId": "2c2d8430-97d3-4794-be94-6b50937cfbe2",
    "scrolled": true
   },
   "outputs": [
    {
     "name": "stderr",
     "output_type": "stream",
     "text": [
      "2021-06-22 21:57:49 - Lock 140014958358256 acquired on /home/sana/.cache/huggingface/transformers/87683eb92ea383b0475fecf99970e950a03c9ff5e51648d6eee56fb754612465.ab95cf27f9419a99cce4f19d09e655aba382a2bafe2fe26d0cc24c18cf1a1af6.lock\n"
     ]
    },
    {
     "data": {
      "application/vnd.jupyter.widget-view+json": {
       "model_id": "fac1e3976fed471fb86c90636bcf96a6",
       "version_major": 2,
       "version_minor": 0
      },
      "text/plain": [
       "HBox(children=(IntProgress(value=0, description='Downloading', max=512, style=ProgressStyle(description_width=…"
      ]
     },
     "metadata": {},
     "output_type": "display_data"
    },
    {
     "name": "stderr",
     "output_type": "stream",
     "text": [
      "2021-06-22 21:57:49 - Lock 140014958358256 released on /home/sana/.cache/huggingface/transformers/87683eb92ea383b0475fecf99970e950a03c9ff5e51648d6eee56fb754612465.ab95cf27f9419a99cce4f19d09e655aba382a2bafe2fe26d0cc24c18cf1a1af6.lock\n"
     ]
    },
    {
     "name": "stdout",
     "output_type": "stream",
     "text": [
      "\n"
     ]
    },
    {
     "name": "stderr",
     "output_type": "stream",
     "text": [
      "2021-06-22 21:57:51 - Lock 140014958358032 acquired on /home/sana/.cache/huggingface/transformers/9df9ae4442348b73950203b63d1b8ed2d18eba68921872aee0c3a9d05b9673c6.00628a9eeb8baf4080d44a0abe9fe8057893de20c7cb6e6423cddbf452f7d4d8.lock\n"
     ]
    },
    {
     "data": {
      "application/vnd.jupyter.widget-view+json": {
       "model_id": "c6a13075cd034798b24406ed5e804a70",
       "version_major": 2,
       "version_minor": 0
      },
      "text/plain": [
       "HBox(children=(IntProgress(value=0, description='Downloading', max=5069051, style=ProgressStyle(description_wi…"
      ]
     },
     "metadata": {},
     "output_type": "display_data"
    },
    {
     "name": "stderr",
     "output_type": "stream",
     "text": [
      "2021-06-22 21:57:53 - Lock 140014958358032 released on /home/sana/.cache/huggingface/transformers/9df9ae4442348b73950203b63d1b8ed2d18eba68921872aee0c3a9d05b9673c6.00628a9eeb8baf4080d44a0abe9fe8057893de20c7cb6e6423cddbf452f7d4d8.lock\n"
     ]
    },
    {
     "name": "stdout",
     "output_type": "stream",
     "text": [
      "\n"
     ]
    },
    {
     "name": "stderr",
     "output_type": "stream",
     "text": [
      "2021-06-22 21:57:56 - Lock 140015531537464 acquired on /home/sana/.cache/huggingface/transformers/daeda8d936162ca65fe6dd158ecce1d8cb56c17d89b78ab86be1558eaef1d76a.a984cf52fc87644bd4a2165f1e07e0ac880272c1e82d648b4674907056912bd7.lock\n"
     ]
    },
    {
     "data": {
      "application/vnd.jupyter.widget-view+json": {
       "model_id": "98d2e004fc5f45c5a0a1752e8403496a",
       "version_major": 2,
       "version_minor": 0
      },
      "text/plain": [
       "HBox(children=(IntProgress(value=0, description='Downloading', max=9096718, style=ProgressStyle(description_wi…"
      ]
     },
     "metadata": {},
     "output_type": "display_data"
    },
    {
     "name": "stderr",
     "output_type": "stream",
     "text": [
      "2021-06-22 21:57:58 - Lock 140015531537464 released on /home/sana/.cache/huggingface/transformers/daeda8d936162ca65fe6dd158ecce1d8cb56c17d89b78ab86be1558eaef1d76a.a984cf52fc87644bd4a2165f1e07e0ac880272c1e82d648b4674907056912bd7.lock\n"
     ]
    },
    {
     "name": "stdout",
     "output_type": "stream",
     "text": [
      "\n"
     ]
    },
    {
     "name": "stderr",
     "output_type": "stream",
     "text": [
      "2021-06-22 21:57:59 - Lock 140014958357640 acquired on /home/sana/.cache/huggingface/transformers/97d0ea09f8074264957d062ec20ccb79af7b917d091add8261b26874daf51b5d.f42212747c1c27fcebaa0a89e2a83c38c6d3d4340f21922f892b88d882146ac2.lock\n"
     ]
    },
    {
     "data": {
      "application/vnd.jupyter.widget-view+json": {
       "model_id": "edd1f9edc4ee47509719ac5fa04e75ec",
       "version_major": 2,
       "version_minor": 0
      },
      "text/plain": [
       "HBox(children=(IntProgress(value=0, description='Downloading', max=1115590446, style=ProgressStyle(description…"
      ]
     },
     "metadata": {},
     "output_type": "display_data"
    },
    {
     "name": "stderr",
     "output_type": "stream",
     "text": [
      "2021-06-22 21:58:58 - Lock 140014958357640 released on /home/sana/.cache/huggingface/transformers/97d0ea09f8074264957d062ec20ccb79af7b917d091add8261b26874daf51b5d.f42212747c1c27fcebaa0a89e2a83c38c6d3d4340f21922f892b88d882146ac2.lock\n"
     ]
    },
    {
     "name": "stdout",
     "output_type": "stream",
     "text": [
      "\n"
     ]
    },
    {
     "name": "stderr",
     "output_type": "stream",
     "text": [
      "Some weights of the model checkpoint at xlm-roberta-base were not used when initializing XLMRobertaForTokenClassification: ['lm_head.bias', 'lm_head.dense.weight', 'lm_head.dense.bias', 'lm_head.layer_norm.weight', 'lm_head.layer_norm.bias', 'lm_head.decoder.weight']\n",
      "- This IS expected if you are initializing XLMRobertaForTokenClassification from the checkpoint of a model trained on another task or with another architecture (e.g. initializing a BertForSequenceClassification model from a BertForPreTraining model).\n",
      "- This IS NOT expected if you are initializing XLMRobertaForTokenClassification from the checkpoint of a model that you expect to be exactly identical (initializing a BertForSequenceClassification model from a BertForSequenceClassification model).\n",
      "Some weights of XLMRobertaForTokenClassification were not initialized from the model checkpoint at xlm-roberta-base and are newly initialized: ['classifier.weight', 'classifier.bias']\n",
      "You should probably TRAIN this model on a down-stream task to be able to use it for predictions and inference.\n"
     ]
    }
   ],
   "source": [
    "# Model and Tokenizer\n",
    "\n",
    "model_name = 'xlm-roberta-base'\n",
    "# model_name = \"monologg/koelectra-base-discriminator\"\n",
    "\n",
    "config = AutoConfig.from_pretrained(\n",
    "    model_name,\n",
    "    num_labels=num_labels,\n",
    "    id2label=label_map,\n",
    "    label2id={label: i for i, label in enumerate(labels)}\n",
    ")\n",
    "tokenizer = AutoTokenizer.from_pretrained(\n",
    "    model_name,\n",
    "    use_fast=False,\n",
    ")\n",
    "model = AutoModelForTokenClassification.from_pretrained(\n",
    "    model_name,\n",
    "    config=config\n",
    ")"
   ]
  },
  {
   "cell_type": "markdown",
   "metadata": {
    "id": "GWfJIXkW1fAf"
   },
   "source": [
    "# 2. Load & Convert Dataset"
   ]
  },
  {
   "cell_type": "markdown",
   "metadata": {
    "id": "qfEPpWLk1fAf"
   },
   "source": [
    "## 2.1 Get & Clean Dataset\n",
    "\n",
    "Read data file and convert into Input Example "
   ]
  },
  {
   "cell_type": "code",
   "execution_count": 9,
   "metadata": {
    "id": "7BDMeQb31fAf"
   },
   "outputs": [],
   "source": [
    "def get_data(filepath):\n",
    "    sent_id = -1\n",
    "    examples = []\n",
    "    with open(filepath, 'r') as f:\n",
    "        for l in f:\n",
    "            if l.startswith(';'):\n",
    "                sent_id += 1\n",
    "                if sent_id > 0: examples.append(InputExample(guid=sent_id,words=words,labels=labels))\n",
    "                words = []\n",
    "                labels = []\n",
    "            elif l[0].isdigit():\n",
    "                x = l.strip('0123456789').strip('\\n\\t').strip()\n",
    "                if '\\t' in x:\n",
    "                    s = x.split('\\t')\n",
    "                    if ' ' in s[1]:\n",
    "                        labels.append(s[1].split(' ')[-1])\n",
    "                    else:\n",
    "                        labels.append(s[-1])\n",
    "                    words.append(s[0])\n",
    "                else:\n",
    "                    words.append(x.split(' ')[0])\n",
    "                    labels.append(x.split(' ')[-1])\n",
    "            else: pass\n",
    "    return examples"
   ]
  },
  {
   "cell_type": "markdown",
   "metadata": {
    "id": "g0NGoS0s1fAg"
   },
   "source": [
    "### Details\n",
    "\n",
    "**1. Open and read file line by line.**"
   ]
  },
  {
   "cell_type": "code",
   "execution_count": 10,
   "metadata": {
    "colab": {
     "base_uri": "https://localhost:8080/"
    },
    "id": "8cA-AL9l1fAg",
    "outputId": "1ea9d8da-3afd-4e27-f6cd-bef2dc72b225"
   },
   "outputs": [
    {
     "name": "stdout",
     "output_type": "stream",
     "text": [
      "['; 서호프와 파사노에게 연속 안타를 내주며\\n', '$<서호프:PS>와 <파사노:PS>에게 연속 안타를 내주며\\n', '1\\t서호프\\tNNP\\tB_PS\\n', '1\\t와\\tJC\\tO\\n', '2\\t파사노\\tNNP\\tB_PS\\n', '2\\t에게\\tJC\\tO\\n', '3\\t연속\\tNNG\\tO\\n', '4\\t안타\\tNNG\\tO\\n', '4\\t를\\tJKO\\tO\\n', '5\\t내주\\tVV\\tO\\n', '5\\t며\\tEC\\tO\\n']\n"
     ]
    }
   ],
   "source": [
    "file = open('KoreanNERCorpus/modified/dev_modified.txt')\n",
    "lines = file.readlines()\n",
    "file.close()\n",
    "print(lines[0:11])"
   ]
  },
  {
   "cell_type": "markdown",
   "metadata": {
    "id": "EwuOzYJ_1fAg"
   },
   "source": [
    "Examine data...\n",
    "- ; -> 문장\n",
    "- $ -> 문장 with NER tagging\n",
    "- 숫자 -> Token, POS tagging, NER tag\n",
    "\n",
    "모델에 넣을 데이터는 Sentence ID, Tokens, NER tags for each token (InputExample)"
   ]
  },
  {
   "cell_type": "code",
   "execution_count": 11,
   "metadata": {
    "colab": {
     "base_uri": "https://localhost:8080/",
     "height": 35
    },
    "id": "R3cDRhHm1fAh",
    "outputId": "0c7b4693-6586-48dc-bcaa-9ada561cb27d"
   },
   "outputs": [
    {
     "data": {
      "text/plain": [
       "'1\\t서호프\\tNNP\\tB_PS\\n'"
      ]
     },
     "execution_count": 11,
     "metadata": {},
     "output_type": "execute_result"
    }
   ],
   "source": [
    "lines[2]"
   ]
  },
  {
   "cell_type": "markdown",
   "metadata": {
    "id": "1xx2BcyA1fAh"
   },
   "source": [
    "**2. Strip unnecessary data**"
   ]
  },
  {
   "cell_type": "code",
   "execution_count": 12,
   "metadata": {
    "colab": {
     "base_uri": "https://localhost:8080/",
     "height": 35
    },
    "id": "U3TcSN0y1fAh",
    "outputId": "ea01e795-28f7-4cef-ef5c-1552797720f9"
   },
   "outputs": [
    {
     "data": {
      "text/plain": [
       "'서호프\\tNNP\\tB_PS'"
      ]
     },
     "execution_count": 12,
     "metadata": {},
     "output_type": "execute_result"
    }
   ],
   "source": [
    "x = lines[2].strip('0123456789').strip('\\n\\t').strip()\n",
    "x"
   ]
  },
  {
   "cell_type": "markdown",
   "metadata": {
    "id": "MNuOOHoo1fAi"
   },
   "source": [
    "**3. Split by `\\t` or `' '` or both to get Token, POS tag, NER tag**"
   ]
  },
  {
   "cell_type": "code",
   "execution_count": 13,
   "metadata": {
    "colab": {
     "base_uri": "https://localhost:8080/"
    },
    "id": "B_CtihOO1fAi",
    "outputId": "46c1b8e3-0c3e-4fbe-dd4c-d7b1a29ef4a8"
   },
   "outputs": [
    {
     "data": {
      "text/plain": [
       "['서호프', 'NNP', 'B_PS']"
      ]
     },
     "execution_count": 13,
     "metadata": {},
     "output_type": "execute_result"
    }
   ],
   "source": [
    "s = x.split('\\t')\n",
    "s"
   ]
  },
  {
   "cell_type": "markdown",
   "metadata": {
    "id": "qayO216T1fAi"
   },
   "source": [
    "**4. Save Token and NER tag**"
   ]
  },
  {
   "cell_type": "code",
   "execution_count": 14,
   "metadata": {
    "colab": {
     "base_uri": "https://localhost:8080/"
    },
    "id": "MwfRNTCd1fAi",
    "outputId": "ad7a76ed-5c97-483d-bd08-00a021d5a24e"
   },
   "outputs": [
    {
     "name": "stdout",
     "output_type": "stream",
     "text": [
      "Label: B_PS, Word: 서호프\n"
     ]
    }
   ],
   "source": [
    "label = s[-1]\n",
    "word = s[0]\n",
    "print(f\"Label: {label}, Word: {word}\")"
   ]
  },
  {
   "cell_type": "markdown",
   "metadata": {
    "id": "b1coPbQp1fAj"
   },
   "source": [
    "Try the function:"
   ]
  },
  {
   "cell_type": "code",
   "execution_count": 15,
   "metadata": {
    "id": "UMH9ttwe1fAj"
   },
   "outputs": [],
   "source": [
    "examples = get_data('KoreanNERCorpus/modified/dev_modified.txt')"
   ]
  },
  {
   "cell_type": "code",
   "execution_count": 16,
   "metadata": {
    "colab": {
     "base_uri": "https://localhost:8080/"
    },
    "id": "BduKiNkd1fAj",
    "outputId": "a7c9e4c6-a7af-48a6-a6c3-7d4777ecde84"
   },
   "outputs": [
    {
     "data": {
      "text/plain": [
       "InputExample(guid=2, words=['프로', '야구', '두산', '의', '에이스', '박명환', '이', '19', '일', '잠실구장', '에서', '열리', 'ㄴ', '한화', '와', '의', '홈경기', '에', '양배추', '더미', '를', '모자', '속', '에', '쓰', '고', '투구', '하', '아', '눈길', '을', '끌', '었', '다', '.'], labels=['O', 'O', 'B_OG', 'O', 'O', 'B_PS', 'O', 'B_DT', 'I', 'B_LC', 'O', 'O', 'O', 'B_OG', 'O', 'O', 'O', 'O', 'O', 'O', 'O', 'O', 'O', 'O', 'O', 'O', 'O', 'O', 'O', 'O', 'O', 'O', 'O', 'O', 'O'])"
      ]
     },
     "execution_count": 16,
     "metadata": {},
     "output_type": "execute_result"
    }
   ],
   "source": [
    "examples[1]"
   ]
  },
  {
   "cell_type": "code",
   "execution_count": 17,
   "metadata": {
    "colab": {
     "base_uri": "https://localhost:8080/"
    },
    "id": "Y8XUkkQz1fAj",
    "outputId": "8a57a5c1-af9b-4f98-a7d5-0512bd39cba5"
   },
   "outputs": [
    {
     "name": "stdout",
     "output_type": "stream",
     "text": [
      "['프로', '야구', '두산', '의', '에이스', '박명환', '이', '19', '일', '잠실구장', '에서', '열리', 'ㄴ', '한화', '와', '의', '홈경기', '에', '양배추', '더미', '를', '모자', '속', '에', '쓰', '고', '투구', '하', '아', '눈길', '을', '끌', '었', '다', '.']\n"
     ]
    }
   ],
   "source": [
    "print(examples[1].words)"
   ]
  },
  {
   "cell_type": "markdown",
   "metadata": {
    "id": "o5ZCPqBo1fAj"
   },
   "source": [
    "## 2.2 Convert Example to Features\n",
    "\n",
    "Convert examples to features to input into model."
   ]
  },
  {
   "cell_type": "code",
   "execution_count": 18,
   "metadata": {
    "id": "2IVEIAxt1fAk"
   },
   "outputs": [],
   "source": [
    "def convert_examples_to_features(examples, label_list, tokenizer):\n",
    "    pad_token=tokenizer.pad_token_id\n",
    "    pad_token_label_id=nn.CrossEntropyLoss().ignore_index\n",
    "    cls_token=tokenizer.cls_token\n",
    "    sep_token=tokenizer.sep_token\n",
    "    label_map = {label: i for i, label in enumerate(label_list)}\n",
    "    max_seq_length = 70\n",
    "\n",
    "    features = []\n",
    "    for (ex_index, example) in enumerate(examples):\n",
    "        if ex_index % 250 == 0:\n",
    "            logger.info(\"Writing example %d of %d\", ex_index, len(examples))\n",
    "\n",
    "        tokens = []\n",
    "        label_ids = []\n",
    "        for word, label in zip(example.words, example.labels):\n",
    "            word_tokens = tokenizer.tokenize(word)\n",
    "\n",
    "            tokens.extend(word_tokens)\n",
    "\n",
    "            if '-' in label:\n",
    "              label = label.replace('-', '_')\n",
    "            label_ids.extend([label_map[label]] + [pad_token_label_id] * (len(word_tokens) - 1))\n",
    "        \n",
    "        # Account for [CLS] and [SEP] with \"- 2\" and with \"- 3\" for RoBERTa.\n",
    "        special_tokens_count = tokenizer.num_special_tokens_to_add()\n",
    "        if len(tokens) > max_seq_length - special_tokens_count:\n",
    "            tokens = tokens[: (max_seq_length - special_tokens_count)]\n",
    "            label_ids = label_ids[: (max_seq_length - special_tokens_count)]\n",
    "\n",
    "        tokens += [sep_token]\n",
    "        label_ids += [pad_token_label_id]\n",
    "    \n",
    "        tokens = [cls_token] + tokens\n",
    "        label_ids = [pad_token_label_id] + label_ids\n",
    "\n",
    "        input_ids = tokenizer.convert_tokens_to_ids(tokens)\n",
    "\n",
    "        # The mask has 1 for real tokens and 0 for padding tokens. Only real\n",
    "        # tokens are attended to.\n",
    "        input_mask = [1] * len(input_ids)\n",
    "\n",
    "        # Zero-pad up to the sequence length. (right-padding)\n",
    "        padding_length = max_seq_length - len(input_ids)\n",
    "        input_ids += [pad_token] * padding_length\n",
    "        input_mask += [0] * padding_length\n",
    "        label_ids += [pad_token_label_id] * padding_length\n",
    "\n",
    "        assert len(input_ids) == max_seq_length\n",
    "        assert len(input_mask) == max_seq_length\n",
    "        assert len(label_ids) == max_seq_length\n",
    "        \n",
    "        if ex_index < 1:\n",
    "            logger.info(\"*** Example ***\")\n",
    "            logger.info(\"guid: %s\", example.guid)\n",
    "            logger.info(\"tokens: %s\", \" \".join([str(x) for x in tokens]))\n",
    "            logger.info(\"input_ids: %s\", \" \".join([str(x) for x in input_ids]))\n",
    "            logger.info(\"input_mask: %s\", \" \".join([str(x) for x in input_mask]))\n",
    "            logger.info(\"label_ids: %s\", \" \".join([str(x) for x in label_ids]))\n",
    "\n",
    "        features.append(\n",
    "            InputFeatures(\n",
    "                input_ids=input_ids, attention_mask=input_mask, label_ids=label_ids\n",
    "            )\n",
    "        )\n",
    "    return features"
   ]
  },
  {
   "cell_type": "markdown",
   "metadata": {
    "id": "_Ufa5ezQ1fAk"
   },
   "source": [
    "### Details"
   ]
  },
  {
   "cell_type": "markdown",
   "metadata": {
    "id": "wfLWKCBJ1fAk"
   },
   "source": [
    "**1. Define padding, cls, sep tokens**"
   ]
  },
  {
   "cell_type": "code",
   "execution_count": 19,
   "metadata": {
    "id": "MIOlX-H71fAk"
   },
   "outputs": [],
   "source": [
    "pad_token=tokenizer.pad_token_id\n",
    "pad_token_label_id=nn.CrossEntropyLoss().ignore_index\n",
    "cls_token=tokenizer.cls_token\n",
    "sep_token=tokenizer.sep_token\n",
    "label_map = {label: i for i, label in enumerate(labels)}\n",
    "max_seq_length = 70"
   ]
  },
  {
   "cell_type": "code",
   "execution_count": 20,
   "metadata": {
    "colab": {
     "base_uri": "https://localhost:8080/"
    },
    "id": "nchFVn4e1fAl",
    "outputId": "5f309095-f92b-4c20-9c54-9b99fdbf59f6"
   },
   "outputs": [
    {
     "name": "stdout",
     "output_type": "stream",
     "text": [
      "1\n",
      "-100\n",
      "<s>\n",
      "</s>\n"
     ]
    }
   ],
   "source": [
    "print(pad_token)\n",
    "print(pad_token_label_id)\n",
    "print(cls_token)\n",
    "print(sep_token)"
   ]
  },
  {
   "cell_type": "markdown",
   "metadata": {
    "id": "lZvAZl3b1fAl"
   },
   "source": [
    "**2. Tokenize words and extend label id to tokenized length**"
   ]
  },
  {
   "cell_type": "code",
   "execution_count": 21,
   "metadata": {
    "id": "NgNfB9-p1fAl"
   },
   "outputs": [],
   "source": [
    "word, label = examples[0].words, examples[0].labels"
   ]
  },
  {
   "cell_type": "code",
   "execution_count": 22,
   "metadata": {
    "id": "QoSgVGyJ1fAl"
   },
   "outputs": [],
   "source": [
    "tokens = []\n",
    "label_ids = []"
   ]
  },
  {
   "cell_type": "code",
   "execution_count": 23,
   "metadata": {
    "colab": {
     "base_uri": "https://localhost:8080/"
    },
    "id": "6rlTgn451fAl",
    "outputId": "23afdefe-39cd-41b3-df2a-d78da77a4e7a"
   },
   "outputs": [
    {
     "data": {
      "text/plain": [
       "['▁서', '호', '프']"
      ]
     },
     "execution_count": 23,
     "metadata": {},
     "output_type": "execute_result"
    }
   ],
   "source": [
    "word_tokens = tokenizer.tokenize(word[0])\n",
    "word_tokens"
   ]
  },
  {
   "cell_type": "code",
   "execution_count": 24,
   "metadata": {
    "id": "l_gfVoFi1fAm"
   },
   "outputs": [],
   "source": [
    "tokens.extend(word_tokens)"
   ]
  },
  {
   "cell_type": "code",
   "execution_count": 25,
   "metadata": {
    "id": "KxA-F6nt1fAm"
   },
   "outputs": [],
   "source": [
    "label_ids.extend([label_map[label[0]]] + [pad_token_label_id] * (len(word_tokens) - 1))"
   ]
  },
  {
   "cell_type": "code",
   "execution_count": 26,
   "metadata": {
    "colab": {
     "base_uri": "https://localhost:8080/"
    },
    "id": "7769HG4-1fAm",
    "outputId": "e1e25377-2258-4647-ce8c-5ba724f2c3e8"
   },
   "outputs": [
    {
     "data": {
      "text/plain": [
       "[4, -100, -100]"
      ]
     },
     "execution_count": 26,
     "metadata": {},
     "output_type": "execute_result"
    }
   ],
   "source": [
    "label_ids"
   ]
  },
  {
   "cell_type": "markdown",
   "metadata": {
    "id": "FkevXQD91fAm"
   },
   "source": [
    "**3. Encode tokens. Account for [CLS] and [SEP] with \"- 2\"**"
   ]
  },
  {
   "cell_type": "code",
   "execution_count": 27,
   "metadata": {
    "colab": {
     "base_uri": "https://localhost:8080/"
    },
    "id": "VS25rKBN1fAm",
    "outputId": "e182d2dc-db70-4794-b53f-734d0369ddc2"
   },
   "outputs": [
    {
     "data": {
      "text/plain": [
       "2"
      ]
     },
     "execution_count": 27,
     "metadata": {},
     "output_type": "execute_result"
    }
   ],
   "source": [
    "special_tokens_count = tokenizer.num_special_tokens_to_add()\n",
    "special_tokens_count"
   ]
  },
  {
   "cell_type": "code",
   "execution_count": 28,
   "metadata": {
    "id": "KWzF82W-1fAn"
   },
   "outputs": [],
   "source": [
    "tokens += [sep_token]\n",
    "label_ids += [pad_token_label_id]\n",
    "\n",
    "tokens = [cls_token] + tokens\n",
    "label_ids = [pad_token_label_id] + label_ids\n",
    "\n",
    "input_ids = tokenizer.convert_tokens_to_ids(tokens)"
   ]
  },
  {
   "cell_type": "code",
   "execution_count": 29,
   "metadata": {
    "colab": {
     "base_uri": "https://localhost:8080/"
    },
    "id": "19mYpyCF1fAn",
    "outputId": "bedbe190-84dc-400c-9ac0-3c4f651c16df"
   },
   "outputs": [
    {
     "data": {
      "text/plain": [
       "['<s>', '▁서', '호', '프', '</s>']"
      ]
     },
     "execution_count": 29,
     "metadata": {},
     "output_type": "execute_result"
    }
   ],
   "source": [
    "tokens"
   ]
  },
  {
   "cell_type": "code",
   "execution_count": 30,
   "metadata": {
    "colab": {
     "base_uri": "https://localhost:8080/"
    },
    "id": "ZJ95dy6s1fAn",
    "outputId": "0fc33975-4659-4fcd-bbfe-32bf16c02734"
   },
   "outputs": [
    {
     "data": {
      "text/plain": [
       "[0, 11753, 7346, 10068, 2]"
      ]
     },
     "execution_count": 30,
     "metadata": {},
     "output_type": "execute_result"
    }
   ],
   "source": [
    "input_ids"
   ]
  },
  {
   "cell_type": "code",
   "execution_count": 31,
   "metadata": {
    "colab": {
     "base_uri": "https://localhost:8080/"
    },
    "id": "ZyFKs2ZT1fAn",
    "outputId": "375c685e-7027-4704-e957-47bb9135c1ee"
   },
   "outputs": [
    {
     "data": {
      "text/plain": [
       "[-100, 4, -100, -100, -100]"
      ]
     },
     "execution_count": 31,
     "metadata": {},
     "output_type": "execute_result"
    }
   ],
   "source": [
    "label_ids"
   ]
  },
  {
   "cell_type": "markdown",
   "metadata": {
    "id": "nBfMKes-1fAo"
   },
   "source": [
    "**4. Pad input and create input mask**"
   ]
  },
  {
   "cell_type": "code",
   "execution_count": 32,
   "metadata": {
    "colab": {
     "base_uri": "https://localhost:8080/"
    },
    "id": "moja2kbh1fAo",
    "outputId": "4f694c4d-f1fd-4d53-8f80-1f188b4a5834"
   },
   "outputs": [
    {
     "name": "stdout",
     "output_type": "stream",
     "text": [
      "[1, 1, 1, 1, 1]\n"
     ]
    }
   ],
   "source": [
    "# The mask has 1 for real tokens and 0 for padding tokens. Only real\n",
    "# tokens are attended to.\n",
    "input_mask = [1] * len(input_ids)\n",
    "print(input_mask)"
   ]
  },
  {
   "cell_type": "code",
   "execution_count": 33,
   "metadata": {
    "colab": {
     "base_uri": "https://localhost:8080/"
    },
    "id": "OEYNsBhF1fAo",
    "outputId": "cdc651c0-f780-4666-dbb0-c4d3a0e06c9e"
   },
   "outputs": [
    {
     "name": "stdout",
     "output_type": "stream",
     "text": [
      "[0, 11753, 7346, 10068, 2, 1, 1, 1, 1, 1, 1, 1, 1, 1, 1, 1, 1, 1, 1, 1, 1, 1, 1, 1, 1, 1, 1, 1, 1, 1, 1, 1, 1, 1, 1, 1, 1, 1, 1, 1, 1, 1, 1, 1, 1, 1, 1, 1, 1, 1, 1, 1, 1, 1, 1, 1, 1, 1, 1, 1, 1, 1, 1, 1, 1, 1, 1, 1, 1, 1]\n"
     ]
    }
   ],
   "source": [
    "# Pad input\n",
    "padding_length = max_seq_length - len(input_ids)\n",
    "input_ids += [pad_token] * padding_length\n",
    "print(input_ids)"
   ]
  },
  {
   "cell_type": "code",
   "execution_count": 34,
   "metadata": {
    "colab": {
     "base_uri": "https://localhost:8080/"
    },
    "id": "l8tERmt01fAo",
    "outputId": "c754925e-bc16-4f02-943d-46c5a04763d5"
   },
   "outputs": [
    {
     "name": "stdout",
     "output_type": "stream",
     "text": [
      "[1, 1, 1, 1, 1, 0, 0, 0, 0, 0, 0, 0, 0, 0, 0, 0, 0, 0, 0, 0, 0, 0, 0, 0, 0, 0, 0, 0, 0, 0, 0, 0, 0, 0, 0, 0, 0, 0, 0, 0, 0, 0, 0, 0, 0, 0, 0, 0, 0, 0, 0, 0, 0, 0, 0, 0, 0, 0, 0, 0, 0, 0, 0, 0, 0, 0, 0, 0, 0, 0]\n",
      "[-100, 4, -100, -100, -100, -100, -100, -100, -100, -100, -100, -100, -100, -100, -100, -100, -100, -100, -100, -100, -100, -100, -100, -100, -100, -100, -100, -100, -100, -100, -100, -100, -100, -100, -100, -100, -100, -100, -100, -100, -100, -100, -100, -100, -100, -100, -100, -100, -100, -100, -100, -100, -100, -100, -100, -100, -100, -100, -100, -100, -100, -100, -100, -100, -100, -100, -100, -100, -100, -100]\n"
     ]
    }
   ],
   "source": [
    "# Pad mask and label ids\n",
    "input_mask += [0] * padding_length\n",
    "print(input_mask)\n",
    "label_ids += [pad_token_label_id] * padding_length\n",
    "print(label_ids)"
   ]
  },
  {
   "cell_type": "code",
   "execution_count": 35,
   "metadata": {
    "id": "rLSg_8xJ1fAo"
   },
   "outputs": [],
   "source": [
    "# Check that length is all same\n",
    "assert len(input_ids) == max_seq_length\n",
    "assert len(input_mask) == max_seq_length\n",
    "assert len(label_ids) == max_seq_length"
   ]
  },
  {
   "cell_type": "markdown",
   "metadata": {
    "id": "JgWEpO8-1fAp"
   },
   "source": [
    "**Try the function:**"
   ]
  },
  {
   "cell_type": "code",
   "execution_count": 36,
   "metadata": {
    "colab": {
     "base_uri": "https://localhost:8080/"
    },
    "id": "LLNpBjwo1fAp",
    "outputId": "efad7e77-3b8b-403d-d1f9-16aa11cfac46"
   },
   "outputs": [
    {
     "name": "stderr",
     "output_type": "stream",
     "text": [
      "2021-06-22 21:59:33 - Writing example 0 of 500\n",
      "2021-06-22 21:59:33 - *** Example ***\n",
      "2021-06-22 21:59:33 - guid: 1\n",
      "2021-06-22 21:59:33 - tokens: <s> ▁서 호 프 ▁와 ▁파 사 노 ▁ 에게 ▁연속 ▁ 안타 ▁ 를 ▁내 주 ▁ 며 </s>\n",
      "2021-06-22 21:59:33 - input_ids: 0 11753 7346 10068 113455 14971 2099 15067 6 9913 150813 6 179872 6 688 5920 2688 6 9354 2 1 1 1 1 1 1 1 1 1 1 1 1 1 1 1 1 1 1 1 1 1 1 1 1 1 1 1 1 1 1 1 1 1 1 1 1 1 1 1 1 1 1 1 1 1 1 1 1 1 1\n",
      "2021-06-22 21:59:33 - input_mask: 1 1 1 1 1 1 1 1 1 1 1 1 1 1 1 1 1 1 1 1 0 0 0 0 0 0 0 0 0 0 0 0 0 0 0 0 0 0 0 0 0 0 0 0 0 0 0 0 0 0 0 0 0 0 0 0 0 0 0 0 0 0 0 0 0 0 0 0 0 0\n",
      "2021-06-22 21:59:33 - label_ids: -100 4 -100 -100 0 4 -100 -100 0 -100 0 0 -100 0 -100 0 -100 0 -100 -100 -100 -100 -100 -100 -100 -100 -100 -100 -100 -100 -100 -100 -100 -100 -100 -100 -100 -100 -100 -100 -100 -100 -100 -100 -100 -100 -100 -100 -100 -100 -100 -100 -100 -100 -100 -100 -100 -100 -100 -100 -100 -100 -100 -100 -100 -100 -100 -100 -100 -100\n",
      "2021-06-22 21:59:34 - Writing example 250 of 500\n"
     ]
    }
   ],
   "source": [
    "features = convert_examples_to_features(examples, labels, tokenizer)"
   ]
  },
  {
   "cell_type": "markdown",
   "metadata": {
    "id": "_OeRoC0H1fAp"
   },
   "source": [
    "## 2.3 Define Dataset Class & Convert"
   ]
  },
  {
   "cell_type": "code",
   "execution_count": 37,
   "metadata": {
    "id": "PF5gK4m71fAp"
   },
   "outputs": [],
   "source": [
    "# Labels for NER Dataset\n",
    "labels = ['O', 'B_OG', 'I', 'B_DT', 'B_PS', 'B_LC', 'B_TI']\n",
    "label_map: Dict[int, str] = {i: label for i, label in enumerate(labels)}\n",
    "num_labels = len(labels)"
   ]
  },
  {
   "cell_type": "code",
   "execution_count": 38,
   "metadata": {
    "colab": {
     "base_uri": "https://localhost:8080/"
    },
    "id": "inDOvavC1fAp",
    "outputId": "1d944d0c-827a-4590-fc6e-832232a82b6c",
    "scrolled": true
   },
   "outputs": [
    {
     "name": "stderr",
     "output_type": "stream",
     "text": [
      "2021-06-22 21:59:37 - Read KorNER train dataset\n",
      "2021-06-22 21:59:37 - Writing example 0 of 3554\n",
      "2021-06-22 21:59:37 - *** Example ***\n",
      "2021-06-22 21:59:37 - guid: 1\n",
      "2021-06-22 21:59:37 - tokens: <s> ▁한편 ▁ , ▁A FC ▁ 챔피언 스 ▁ 리그 ▁E ▁조 ▁에 ▁속 하 ▁ ᄂ ▁ 포항 ▁역시 ▁대회 ▁8 강 ▁진출 ▁이 ▁불 투 명 ▁하 ▁다 ▁ . </s>\n",
      "2021-06-22 21:59:37 - input_ids: 0 82285 6 4 62 27529 6 214945 2171 6 88774 241 10524 29064 33116 6395 6 244197 6 148109 65781 94937 382 13899 162956 1504 15996 28218 5576 11164 6685 6 5 2 1 1 1 1 1 1 1 1 1 1 1 1 1 1 1 1 1 1 1 1 1 1 1 1 1 1 1 1 1 1 1 1 1 1 1 1\n",
      "2021-06-22 21:59:37 - input_mask: 1 1 1 1 1 1 1 1 1 1 1 1 1 1 1 1 1 1 1 1 1 1 1 1 1 1 1 1 1 1 1 1 1 1 0 0 0 0 0 0 0 0 0 0 0 0 0 0 0 0 0 0 0 0 0 0 0 0 0 0 0 0 0 0 0 0 0 0 0 0\n",
      "2021-06-22 21:59:37 - label_ids: -100 0 0 -100 0 -100 0 -100 -100 0 -100 1 2 0 0 -100 0 -100 0 -100 0 0 0 -100 0 0 0 -100 -100 0 0 0 -100 -100 -100 -100 -100 -100 -100 -100 -100 -100 -100 -100 -100 -100 -100 -100 -100 -100 -100 -100 -100 -100 -100 -100 -100 -100 -100 -100 -100 -100 -100 -100 -100 -100 -100 -100 -100 -100\n",
      "2021-06-22 21:59:37 - Writing example 250 of 3554\n",
      "2021-06-22 21:59:38 - Writing example 500 of 3554\n",
      "2021-06-22 21:59:38 - Writing example 750 of 3554\n",
      "2021-06-22 21:59:38 - Writing example 1000 of 3554\n",
      "2021-06-22 21:59:38 - Writing example 1250 of 3554\n",
      "2021-06-22 21:59:39 - Writing example 1500 of 3554\n",
      "2021-06-22 21:59:39 - Writing example 1750 of 3554\n",
      "2021-06-22 21:59:39 - Writing example 2000 of 3554\n",
      "2021-06-22 21:59:40 - Writing example 2250 of 3554\n",
      "2021-06-22 21:59:40 - Writing example 2500 of 3554\n",
      "2021-06-22 21:59:40 - Writing example 2750 of 3554\n",
      "2021-06-22 21:59:41 - Writing example 3000 of 3554\n",
      "2021-06-22 21:59:41 - Writing example 3250 of 3554\n",
      "2021-06-22 21:59:41 - Writing example 3500 of 3554\n",
      "2021-06-22 21:59:41 - Read KorNER dev dataset\n",
      "2021-06-22 21:59:42 - Writing example 0 of 500\n",
      "2021-06-22 21:59:42 - *** Example ***\n",
      "2021-06-22 21:59:42 - guid: 1\n",
      "2021-06-22 21:59:42 - tokens: <s> ▁서 호 프 ▁와 ▁파 사 노 ▁ 에게 ▁연속 ▁ 안타 ▁ 를 ▁내 주 ▁ 며 </s>\n",
      "2021-06-22 21:59:42 - input_ids: 0 11753 7346 10068 113455 14971 2099 15067 6 9913 150813 6 179872 6 688 5920 2688 6 9354 2 1 1 1 1 1 1 1 1 1 1 1 1 1 1 1 1 1 1 1 1 1 1 1 1 1 1 1 1 1 1 1 1 1 1 1 1 1 1 1 1 1 1 1 1 1 1 1 1 1 1\n",
      "2021-06-22 21:59:42 - input_mask: 1 1 1 1 1 1 1 1 1 1 1 1 1 1 1 1 1 1 1 1 0 0 0 0 0 0 0 0 0 0 0 0 0 0 0 0 0 0 0 0 0 0 0 0 0 0 0 0 0 0 0 0 0 0 0 0 0 0 0 0 0 0 0 0 0 0 0 0 0 0\n",
      "2021-06-22 21:59:42 - label_ids: -100 4 -100 -100 0 4 -100 -100 0 -100 0 0 -100 0 -100 0 -100 0 -100 -100 -100 -100 -100 -100 -100 -100 -100 -100 -100 -100 -100 -100 -100 -100 -100 -100 -100 -100 -100 -100 -100 -100 -100 -100 -100 -100 -100 -100 -100 -100 -100 -100 -100 -100 -100 -100 -100 -100 -100 -100 -100 -100 -100 -100 -100 -100 -100 -100 -100 -100\n",
      "2021-06-22 21:59:42 - Writing example 250 of 500\n"
     ]
    }
   ],
   "source": [
    "class ner_data(torch.utils.data.Dataset):\n",
    "    def __init__(self, filepath, tokenzier, label_list):\n",
    "        examples = get_data(filepath)\n",
    "        self.features = convert_examples_to_features(examples, label_list, tokenizer)\n",
    "    \n",
    "    def __len__(self):\n",
    "        return len(self.features)\n",
    "\n",
    "    def __getitem__(self, index):\n",
    "        return self.features[index]\n",
    "\n",
    "logging.info(\"Read KorNER train dataset\")\n",
    "train_dataset = ner_data('KoreanNERCorpus/modified/train.txt', tokenizer, labels)\n",
    "\n",
    "\n",
    "logging.info(\"Read KorNER dev dataset\")\n",
    "dev_dataset = ner_data('KoreanNERCorpus/modified/dev_modified.txt',tokenizer,labels)\n",
    "# Dev Dataset 'B-OG', 'B-LC' -> 'B_OG', 'B_LC'"
   ]
  },
  {
   "cell_type": "code",
   "execution_count": 49,
   "metadata": {},
   "outputs": [
    {
     "name": "stdout",
     "output_type": "stream",
     "text": [
      "3554 500\n"
     ]
    }
   ],
   "source": [
    "print(len(train_dataset), len(dev_dataset))"
   ]
  },
  {
   "cell_type": "markdown",
   "metadata": {
    "id": "rD9jcVE41fAq"
   },
   "source": [
    "# 3. Set Parameters"
   ]
  },
  {
   "cell_type": "code",
   "execution_count": 39,
   "metadata": {
    "id": "IVNRL7_K1fAq"
   },
   "outputs": [],
   "source": [
    "def align_predictions(predictions: np.ndarray, label_ids: np.ndarray) -> Tuple[List[int], List[int]]:\n",
    "    preds = np.argmax(predictions, axis=2)\n",
    "\n",
    "    batch_size, seq_len = preds.shape\n",
    "\n",
    "    out_label_list = [[] for _ in range(batch_size)]\n",
    "    preds_list = [[] for _ in range(batch_size)]\n",
    "\n",
    "    for i in range(batch_size):\n",
    "        for j in range(seq_len):\n",
    "            if label_ids[i, j] != nn.CrossEntropyLoss().ignore_index: # pad token 제외하고 처리\n",
    "                out_label_list[i].append(label_map[label_ids[i][j]])\n",
    "                preds_list[i].append(label_map[preds[i][j]])\n",
    "\n",
    "    return preds_list, out_label_list"
   ]
  },
  {
   "cell_type": "code",
   "execution_count": 40,
   "metadata": {
    "id": "yXZopV9n1fAq"
   },
   "outputs": [],
   "source": [
    "def compute_metrics(p: EvalPrediction) -> Dict:\n",
    "    preds_list, out_label_list = align_predictions(p.predictions, p.label_ids)\n",
    "    return {\n",
    "        \"precision\": precision_score(out_label_list, preds_list),\n",
    "        \"recall\": recall_score(out_label_list, preds_list),\n",
    "        \"f1\": f1_score(out_label_list, preds_list),\n",
    "        \"accuracy\": accuracy_score(out_label_list, preds_list)\n",
    "    }"
   ]
  },
  {
   "cell_type": "code",
   "execution_count": 41,
   "metadata": {
    "colab": {
     "base_uri": "https://localhost:8080/"
    },
    "id": "Y2NbDieP1fAq",
    "outputId": "8261d90d-680f-4323-96f3-45002a392192"
   },
   "outputs": [
    {
     "name": "stderr",
     "output_type": "stream",
     "text": [
      "2021-06-22 22:01:36 - Warmup-steps: 28\n"
     ]
    }
   ],
   "source": [
    "# Parameters\n",
    "num_epochs = 5\n",
    "train_batch_size=64\n",
    "warmup_steps = math.ceil(len(train_dataset) * num_epochs / train_batch_size * 0.1) #10% of train data for warm-up\n",
    "logging.info(\"Warmup-steps: {}\".format(warmup_steps))"
   ]
  },
  {
   "cell_type": "code",
   "execution_count": 42,
   "metadata": {
    "id": "zG1bSicX1fAr"
   },
   "outputs": [],
   "source": [
    "# Train and Evaluate\n",
    "training_args = TrainingArguments(\n",
    "    output_dir='./results_ner',\n",
    "    num_train_epochs=num_epochs,\n",
    "    per_device_train_batch_size=train_batch_size,\n",
    "    per_device_eval_batch_size=64,\n",
    "    warmup_steps=warmup_steps,\n",
    "    weight_decay=0.01,\n",
    "    evaluation_strategy=\"no\"\n",
    ")"
   ]
  },
  {
   "cell_type": "markdown",
   "metadata": {
    "id": "8UFQd2P01fAr"
   },
   "source": [
    "# 4. Train Model"
   ]
  },
  {
   "cell_type": "code",
   "execution_count": 51,
   "metadata": {
    "id": "I1riE1tk1fAr"
   },
   "outputs": [],
   "source": [
    "trainer = Trainer(\n",
    "    model=model,\n",
    "    args=training_args,\n",
    "    train_dataset=train_dataset,\n",
    "    eval_dataset=dev_dataset,\n",
    "    compute_metrics=compute_metrics,\n",
    ")"
   ]
  },
  {
   "cell_type": "code",
   "execution_count": 52,
   "metadata": {
    "colab": {
     "base_uri": "https://localhost:8080/",
     "height": 112
    },
    "id": "QfLygW701fAr",
    "outputId": "5db38627-6cbc-4577-e030-cdba0c094eb2"
   },
   "outputs": [
    {
     "data": {
      "text/html": [
       "\n",
       "    <div>\n",
       "        <style>\n",
       "            /* Turns off some styling */\n",
       "            progress {\n",
       "                /* gets rid of default border in Firefox and Opera. */\n",
       "                border: none;\n",
       "                /* Needs to be in here for Safari polyfill so background images work as expected. */\n",
       "                background-size: auto;\n",
       "            }\n",
       "        </style>\n",
       "      \n",
       "      <progress value='70' max='70' style='width:300px; height:20px; vertical-align: middle;'></progress>\n",
       "      [70/70 00:49, Epoch 5/5]\n",
       "    </div>\n",
       "    <table border=\"1\" class=\"dataframe\">\n",
       "  <thead>\n",
       "    <tr style=\"text-align: left;\">\n",
       "      <th>Step</th>\n",
       "      <th>Training Loss</th>\n",
       "    </tr>\n",
       "  </thead>\n",
       "  <tbody>\n",
       "  </tbody>\n",
       "</table><p>"
      ],
      "text/plain": [
       "<IPython.core.display.HTML object>"
      ]
     },
     "metadata": {},
     "output_type": "display_data"
    },
    {
     "data": {
      "text/plain": [
       "TrainOutput(global_step=70, training_loss=0.6364223480224609, metrics={'train_runtime': 50.9212, 'train_samples_per_second': 1.375, 'total_flos': 2070783313632600.0, 'epoch': 5.0, 'init_mem_cpu_alloc_delta': 48686, 'init_mem_gpu_alloc_delta': 0, 'init_mem_cpu_peaked_delta': 18282, 'init_mem_gpu_peaked_delta': 0, 'train_mem_cpu_alloc_delta': 392081, 'train_mem_gpu_alloc_delta': 3354959360, 'train_mem_cpu_peaked_delta': 1522521, 'train_mem_gpu_peaked_delta': 3427022336})"
      ]
     },
     "execution_count": 52,
     "metadata": {},
     "output_type": "execute_result"
    }
   ],
   "source": [
    "trainer.train()"
   ]
  },
  {
   "cell_type": "markdown",
   "metadata": {
    "id": "E47bznAE1fAs"
   },
   "source": [
    "# 5. Evaluate Model"
   ]
  },
  {
   "cell_type": "code",
   "execution_count": 53,
   "metadata": {
    "colab": {
     "base_uri": "https://localhost:8080/",
     "height": 380
    },
    "id": "hdThewho1fAs",
    "outputId": "7141ca05-0071-4565-f117-006135ddff82",
    "scrolled": false
   },
   "outputs": [
    {
     "data": {
      "text/html": [
       "\n",
       "    <div>\n",
       "        <style>\n",
       "            /* Turns off some styling */\n",
       "            progress {\n",
       "                /* gets rid of default border in Firefox and Opera. */\n",
       "                border: none;\n",
       "                /* Needs to be in here for Safari polyfill so background images work as expected. */\n",
       "                background-size: auto;\n",
       "            }\n",
       "        </style>\n",
       "      \n",
       "      <progress value='4' max='2' style='width:300px; height:20px; vertical-align: middle;'></progress>\n",
       "      [2/2 00:16]\n",
       "    </div>\n",
       "    "
      ],
      "text/plain": [
       "<IPython.core.display.HTML object>"
      ]
     },
     "metadata": {},
     "output_type": "display_data"
    },
    {
     "data": {
      "text/plain": [
       "{'eval_loss': 0.14795483648777008,\n",
       " 'eval_precision': 0.7509898812142543,\n",
       " 'eval_recall': 0.8136320305052431,\n",
       " 'eval_f1': 0.7810569663692518,\n",
       " 'eval_accuracy': 0.9502212389380531,\n",
       " 'eval_runtime': 2.1548,\n",
       " 'eval_samples_per_second': 232.038,\n",
       " 'epoch': 5.0,\n",
       " 'eval_mem_cpu_alloc_delta': 1335886,\n",
       " 'eval_mem_gpu_alloc_delta': 0,\n",
       " 'eval_mem_cpu_peaked_delta': 1352120,\n",
       " 'eval_mem_gpu_peaked_delta': 151872000}"
      ]
     },
     "execution_count": 53,
     "metadata": {},
     "output_type": "execute_result"
    }
   ],
   "source": [
    "trainer.evaluate()"
   ]
  },
  {
   "cell_type": "markdown",
   "metadata": {
    "id": "wtVAxyIB1fAs"
   },
   "source": [
    "### Results\n",
    "\n",
    "**XLM-R**\n",
    "\n",
    "    {'eval_loss': 0.10456378012895584,\n",
    "     'eval_precision': 0.8939980638915779,\n",
    "     'eval_recall': 0.8803622497616778,\n",
    "     'eval_f1': 0.8871277617675312,\n",
    "     'eval_accuracy': 0.9744924518479958,\n",
    "     'epoch': 5.0}\n",
    "\n",
    "        \n",
    "**KoElectra**\n",
    "\n",
    "    {'eval_loss': 0.09410082548856735,\n",
    "     'eval_precision': 0.8947128532360985,\n",
    "     'eval_recall': 0.9033594109526001,\n",
    "     'eval_f1': 0.8990153423402794,\n",
    "     'eval_accuracy': 0.977391933441852,\n",
    "     'epoch': 5.0}\n"
   ]
  },
  {
   "cell_type": "markdown",
   "metadata": {
    "id": "RarlstjW1fAs"
   },
   "source": [
    "# Error Analysis\n"
   ]
  },
  {
   "cell_type": "markdown",
   "metadata": {
    "id": "BFPO1BcG1fAs"
   },
   "source": [
    "`predict(test_dataset: tensorflow.python.data.ops.dataset_ops.DatasetV2)` \n",
    "\n",
    "    Run prediction and returns predictions and potential metrics.\n",
    "\n",
    "    Depending on the dataset and your use case, your test dataset may contain labels. In that case, this method will also return metrics, like in evaluate().\n",
    "\n",
    "    Parameters\n",
    "    test_dataset (Dataset) – Dataset to run the predictions on. The dataset should yield tuples of (features, labels) where features is a dict of input features and labels is the labels. If labels is a tensor, the loss is calculated by the model by calling model(features, labels=labels). If labels is a dict, such as when using a QuestionAnswering head model with multiple targets, the loss is instead calculated by calling model(features, **labels)\n",
    "\n",
    "    Returns: NamedTuple A namedtuple with the following keys:\n",
    "\n",
    "    predictions (np.ndarray): The predictions on test_dataset.\n",
    "\n",
    "    label_ids (np.ndarray, optional): The labels (if the dataset contained some).\n",
    "\n",
    "    metrics (Dict[str, float], optional): The potential dictionary of metrics (if the dataset contained labels).`\n",
    "\n",
    "https://huggingface.co/transformers/main_classes/trainer.html#transformers.Trainer.evaluate"
   ]
  },
  {
   "cell_type": "code",
   "execution_count": 54,
   "metadata": {
    "colab": {
     "base_uri": "https://localhost:8080/",
     "height": 1000
    },
    "id": "mDdgqYo11fAt",
    "outputId": "74ab4e4e-7498-472c-d66d-9710de4e4082",
    "scrolled": true
   },
   "outputs": [
    {
     "name": "stdout",
     "output_type": "stream",
     "text": [
      "PredictionOutput(predictions=array([[[ 1.5439906e+00, -2.4628028e-01, -6.6659206e-01, ...,\n",
      "          2.1173719e-01, -8.8341504e-01, -3.7952635e-01],\n",
      "        [-2.7904972e-02,  4.1968793e-01, -5.6894410e-01, ...,\n",
      "          3.9721420e+00, -5.8584440e-01, -1.9661679e+00],\n",
      "        [ 9.6284509e-01, -2.2729063e-01,  2.6569657e+00, ...,\n",
      "          1.1192085e+00, -8.2504511e-01, -1.6123770e+00],\n",
      "        ...,\n",
      "        [ 1.9582608e+00, -2.2530708e-01, -5.8855796e-01, ...,\n",
      "          1.0257243e-01, -9.5380282e-01, -5.0843817e-01],\n",
      "        [ 1.9582608e+00, -2.2530708e-01, -5.8855796e-01, ...,\n",
      "          1.0257243e-01, -9.5380282e-01, -5.0843817e-01],\n",
      "        [ 1.9582608e+00, -2.2530708e-01, -5.8855796e-01, ...,\n",
      "          1.0257243e-01, -9.5380282e-01, -5.0843817e-01]],\n",
      "\n",
      "       [[ 2.3972983e+00, -3.0768034e-01, -5.8559221e-01, ...,\n",
      "         -1.6219565e-01, -1.2323103e+00, -8.2960117e-01],\n",
      "        [ 2.5733695e+00,  2.8466895e+00, -7.4431950e-01, ...,\n",
      "         -1.4130908e+00, -5.7234466e-01, -2.8896928e+00],\n",
      "        [ 2.8567240e+00,  6.4995927e-01,  4.0504050e+00, ...,\n",
      "         -1.4834354e+00, -1.4636126e+00, -2.0401089e+00],\n",
      "        ...,\n",
      "        [ 2.7491062e+00, -2.5989607e-01, -5.0367171e-01, ...,\n",
      "         -2.9406404e-01, -1.2586060e+00, -9.4189006e-01],\n",
      "        [ 2.7491062e+00, -2.5989607e-01, -5.0367171e-01, ...,\n",
      "         -2.9406404e-01, -1.2586060e+00, -9.4189006e-01],\n",
      "        [ 2.7491062e+00, -2.5989607e-01, -5.0367171e-01, ...,\n",
      "         -2.9406404e-01, -1.2586060e+00, -9.4189006e-01]],\n",
      "\n",
      "       [[ 2.1577458e+00, -3.0180773e-01, -7.2818905e-01, ...,\n",
      "         -3.5486975e-01, -1.0272303e+00, -6.3159299e-01],\n",
      "        [ 5.8022122e+00, -2.0567159e-01, -4.9282652e-01, ...,\n",
      "         -1.5928016e+00, -1.6913619e+00, -2.4452062e+00],\n",
      "        [ 6.6855445e+00, -8.4494299e-01,  6.0290164e-01, ...,\n",
      "         -1.5863197e+00, -1.9812965e+00, -2.5258026e+00],\n",
      "        ...,\n",
      "        [ 2.5913572e+00, -2.8042787e-01, -6.4146733e-01, ...,\n",
      "         -5.6946605e-01, -1.0660772e+00, -7.6884848e-01],\n",
      "        [ 2.5913572e+00, -2.8042787e-01, -6.4146733e-01, ...,\n",
      "         -5.6946605e-01, -1.0660772e+00, -7.6884848e-01],\n",
      "        [ 2.5913572e+00, -2.8042787e-01, -6.4146733e-01, ...,\n",
      "         -5.6946605e-01, -1.0660772e+00, -7.6884848e-01]],\n",
      "\n",
      "       ...,\n",
      "\n",
      "       [[ 1.7420253e+00, -4.8498426e-02, -4.9349776e-01, ...,\n",
      "         -2.1040094e-01, -1.2850583e+00, -6.4039475e-01],\n",
      "        [ 8.0701464e-01,  3.5758247e+00, -5.2385384e-01, ...,\n",
      "         -1.1223937e+00, -6.3902092e-01, -2.3510039e+00],\n",
      "        [ 1.6982517e+00,  5.9999496e-01,  4.1618767e+00, ...,\n",
      "         -1.6341133e+00, -1.3730235e+00, -1.7350615e+00],\n",
      "        ...,\n",
      "        [ 2.1754580e+00,  5.3834289e-02, -2.5288934e-01, ...,\n",
      "         -4.8298615e-01, -1.3750756e+00, -8.3143574e-01],\n",
      "        [ 2.1754580e+00,  5.3834289e-02, -2.5288934e-01, ...,\n",
      "         -4.8298615e-01, -1.3750756e+00, -8.3143574e-01],\n",
      "        [ 2.1754580e+00,  5.3834289e-02, -2.5288934e-01, ...,\n",
      "         -4.8298615e-01, -1.3750756e+00, -8.3143574e-01]],\n",
      "\n",
      "       [[ 2.9977763e+00, -5.8520949e-01, -6.2150109e-01, ...,\n",
      "         -4.2342767e-01, -1.3213342e+00, -8.9279002e-01],\n",
      "        [ 4.3952012e+00,  6.2364495e-01, -9.4127423e-01, ...,\n",
      "          4.2824742e-01, -1.5364640e+00, -2.4810162e+00],\n",
      "        [ 5.9513760e+00, -6.5300566e-01,  1.4385736e+00, ...,\n",
      "         -1.0997699e+00, -2.0887451e+00, -2.7140493e+00],\n",
      "        ...,\n",
      "        [ 3.3439693e+00, -5.4879510e-01, -5.2752703e-01, ...,\n",
      "         -5.8190709e-01, -1.3172863e+00, -9.9003386e-01],\n",
      "        [ 3.3439693e+00, -5.4879510e-01, -5.2752703e-01, ...,\n",
      "         -5.8190709e-01, -1.3172863e+00, -9.9003386e-01],\n",
      "        [ 3.3439693e+00, -5.4879510e-01, -5.2752703e-01, ...,\n",
      "         -5.8190709e-01, -1.3172863e+00, -9.9003386e-01]],\n",
      "\n",
      "       [[ 2.4830043e+00, -3.8688138e-01, -7.2739428e-01, ...,\n",
      "         -1.4030619e-01, -1.1687832e+00, -7.4330741e-01],\n",
      "        [ 5.5649238e+00, -3.7690476e-01, -9.0015841e-01, ...,\n",
      "         -1.8327895e-01, -1.6152127e+00, -2.4481645e+00],\n",
      "        [ 5.8051391e+00, -6.3149202e-01, -6.3175345e-03, ...,\n",
      "         -9.3284529e-01, -1.7177143e+00, -2.5201435e+00],\n",
      "        ...,\n",
      "        [ 2.8808908e+00, -3.5709199e-01, -6.6285425e-01, ...,\n",
      "         -2.8372157e-01, -1.2044526e+00, -8.6501116e-01],\n",
      "        [ 2.8808908e+00, -3.5709199e-01, -6.6285425e-01, ...,\n",
      "         -2.8372157e-01, -1.2044526e+00, -8.6501116e-01],\n",
      "        [ 2.8808908e+00, -3.5709199e-01, -6.6285425e-01, ...,\n",
      "         -2.8372157e-01, -1.2044526e+00, -8.6501116e-01]]], dtype=float32), label_ids=array([[-100,    4, -100, ..., -100, -100, -100],\n",
      "       [-100,    0,    0, ..., -100, -100, -100],\n",
      "       [-100,    0,    0, ..., -100, -100, -100],\n",
      "       ...,\n",
      "       [-100,    1,    2, ..., -100, -100, -100],\n",
      "       [-100,    0,    0, ..., -100, -100, -100],\n",
      "       [-100,    0, -100, ..., -100, -100, -100]]), metrics={'eval_loss': 0.14795483648777008, 'eval_precision': 0.7509898812142543, 'eval_recall': 0.8136320305052431, 'eval_f1': 0.7810569663692518, 'eval_accuracy': 0.9502212389380531, 'eval_runtime': 2.062, 'eval_samples_per_second': 242.485, 'test_mem_cpu_alloc_delta': 1328397, 'test_mem_gpu_alloc_delta': 0, 'test_mem_cpu_peaked_delta': 1363846, 'test_mem_gpu_peaked_delta': 151872000})\n"
     ]
    }
   ],
   "source": [
    "#Get Predictions as Array\n",
    "preds = trainer.predict(dev_dataset)\n",
    "print(preds)"
   ]
  },
  {
   "cell_type": "code",
   "execution_count": 67,
   "metadata": {
    "colab": {
     "base_uri": "https://localhost:8080/"
    },
    "id": "9JAEJLy21fAt",
    "outputId": "254990ca-84fe-4113-c135-279a05caab94"
   },
   "outputs": [
    {
     "name": "stdout",
     "output_type": "stream",
     "text": [
      "[[0 4 2 ... 0 0 0]\n",
      " [0 1 2 ... 0 0 0]\n",
      " [0 0 0 ... 0 0 0]\n",
      " ...\n",
      " [0 1 2 ... 0 0 0]\n",
      " [0 0 0 ... 0 0 0]\n",
      " [0 0 0 ... 0 0 0]]\n",
      "[[-100    4 -100 ... -100 -100 -100]\n",
      " [-100    0    0 ... -100 -100 -100]\n",
      " [-100    0    0 ... -100 -100 -100]\n",
      " ...\n",
      " [-100    1    2 ... -100 -100 -100]\n",
      " [-100    0    0 ... -100 -100 -100]\n",
      " [-100    0 -100 ... -100 -100 -100]]\n",
      "500\n",
      "70\n"
     ]
    }
   ],
   "source": [
    "#Argmax Softmax Values\n",
    "predictions = np.argmax(preds[0], axis=2)\n",
    "labels = preds[1]\n",
    "print(predictions)\n",
    "print(labels)\n",
    "\n",
    "print(len(predictions)) # test data size\n",
    "print(len(predictions[0])) # padded sequence length"
   ]
  },
  {
   "cell_type": "markdown",
   "metadata": {
    "id": "1HOglKcB1fAt"
   },
   "source": [
    "NER Dataset is padded.... Get rid of the padded tokens in predictions, labels, and text"
   ]
  },
  {
   "cell_type": "code",
   "execution_count": 68,
   "metadata": {
    "colab": {
     "base_uri": "https://localhost:8080/"
    },
    "id": "Ultil_qv1fAt",
    "outputId": "92a3a042-dfb8-4ac6-c241-015a2997eaa2"
   },
   "outputs": [
    {
     "data": {
      "text/plain": [
       "array([0, 4, 2, 2, 0, 4, 2, 0, 0, 0, 0, 0, 0, 0, 0, 0, 0, 0, 0, 0, 0, 0,\n",
       "       0, 0, 0, 0, 0, 0, 0, 0, 0, 0, 0, 0, 0, 0, 0, 0, 0, 0, 0, 0, 0, 0,\n",
       "       0, 0, 0, 0, 0, 0, 0, 0, 0, 0, 0, 0, 0, 0, 0, 0, 0, 0, 0, 0, 0, 0,\n",
       "       0, 0, 0, 0])"
      ]
     },
     "execution_count": 68,
     "metadata": {},
     "output_type": "execute_result"
    }
   ],
   "source": [
    "predictions[0]"
   ]
  },
  {
   "cell_type": "code",
   "execution_count": 69,
   "metadata": {
    "colab": {
     "base_uri": "https://localhost:8080/"
    },
    "id": "BinzD8al1fAu",
    "outputId": "49d06ddc-d812-400e-f7fe-8c16bd58c0f8"
   },
   "outputs": [
    {
     "data": {
      "text/plain": [
       "array([-100,    4, -100, -100,    0,    4, -100, -100,    0, -100,    0,\n",
       "          0, -100,    0, -100,    0, -100,    0, -100, -100, -100, -100,\n",
       "       -100, -100, -100, -100, -100, -100, -100, -100, -100, -100, -100,\n",
       "       -100, -100, -100, -100, -100, -100, -100, -100, -100, -100, -100,\n",
       "       -100, -100, -100, -100, -100, -100, -100, -100, -100, -100, -100,\n",
       "       -100, -100, -100, -100, -100, -100, -100, -100, -100, -100, -100,\n",
       "       -100, -100, -100, -100])"
      ]
     },
     "execution_count": 69,
     "metadata": {},
     "output_type": "execute_result"
    }
   ],
   "source": [
    "labels[0]"
   ]
  },
  {
   "cell_type": "code",
   "execution_count": 70,
   "metadata": {
    "colab": {
     "base_uri": "https://localhost:8080/"
    },
    "id": "irtmLDfO1fAu",
    "outputId": "ceade924-a7f0-4fcb-f2dc-d934d184792c"
   },
   "outputs": [
    {
     "data": {
      "text/plain": [
       "array([     0,  11753,   7346,  10068, 113455,  14971,   2099,  15067,\n",
       "            6,   9913, 150813,      6, 179872,      6,    688,   5920,\n",
       "         2688,      6,   9354,      2,      1,      1,      1,      1,\n",
       "            1,      1,      1,      1,      1,      1,      1,      1,\n",
       "            1,      1,      1,      1,      1,      1,      1,      1,\n",
       "            1,      1,      1,      1,      1,      1,      1,      1,\n",
       "            1,      1,      1,      1,      1,      1,      1,      1,\n",
       "            1,      1,      1,      1,      1,      1,      1,      1,\n",
       "            1,      1,      1,      1,      1,      1])"
      ]
     },
     "execution_count": 70,
     "metadata": {},
     "output_type": "execute_result"
    }
   ],
   "source": [
    "txt = []\n",
    "for i in range(len(dev_dataset)):\n",
    "    txt.append([word for word in dev_dataset[i].input_ids])\n",
    "txt = np.array(txt)\n",
    "txt[0]\n",
    "\n",
    "# 0: <s>\n",
    "# 1: pad token id\n",
    "# 2: </s>"
   ]
  },
  {
   "cell_type": "code",
   "execution_count": 72,
   "metadata": {
    "colab": {
     "base_uri": "https://localhost:8080/"
    },
    "id": "qgW5NG2e1fAu",
    "outputId": "2cd1ef79-693f-43ea-a05e-34ac0036e2e8"
   },
   "outputs": [
    {
     "name": "stdout",
     "output_type": "stream",
     "text": [
      "[4 0 4 0 0 0 0 0 0]\n",
      "[4 0 4 0 0 0 0 0 0]\n",
      "[ 11753 113455  14971      6 150813      6      6   5920      6]\n"
     ]
    }
   ],
   "source": [
    "print(predictions[0][labels[0] != -100])\n",
    "print(labels[0][labels[0] != -100])\n",
    "print(txt[0][labels[0] != -100])"
   ]
  },
  {
   "cell_type": "code",
   "execution_count": 73,
   "metadata": {
    "id": "spndp54w1fAu"
   },
   "outputs": [],
   "source": [
    "pad_token_label_id = -100\n",
    "\n",
    "unpadded_pred = []\n",
    "unpadded_label = []\n",
    "unpadded_txt = []\n",
    "\n",
    "for i in range(len(predictions)):\n",
    "    unpadded_pred.append(predictions[i][labels[i] != pad_token_label_id])\n",
    "    unpadded_label.append(labels[i][labels[i] != pad_token_label_id])\n",
    "    unpadded_txt.append(txt[i][labels[i] != pad_token_label_id])\n",
    "\n",
    "flatten = lambda t: [item for sublist in t for item in sublist]\n",
    "unpadded_pred = np.array(flatten(unpadded_pred))\n",
    "unpadded_label = np.array(flatten(unpadded_label))\n",
    "unpadded_txt = np.array(flatten(unpadded_txt))"
   ]
  },
  {
   "cell_type": "code",
   "execution_count": 75,
   "metadata": {
    "colab": {
     "base_uri": "https://localhost:8080/",
     "height": 347
    },
    "id": "oURQ2WqV1fAv",
    "outputId": "39dd5d77-0c2b-4403-f48c-26d5b086ba60"
   },
   "outputs": [
    {
     "data": {
      "text/plain": [
       "[Text(32.0938,0.5,'Observed'),\n",
       " Text(0.5,14.0938,'Predicted'),\n",
       " Text(0.5,1,'Confusion Matrix')]"
      ]
     },
     "execution_count": 75,
     "metadata": {},
     "output_type": "execute_result"
    },
    {
     "data": {
      "image/png": "[encoded data removed]",
      "text/plain": [
       "<Figure size 432x288 with 2 Axes>"
      ]
     },
     "metadata": {
      "needs_background": "light"
     },
     "output_type": "display_data"
    }
   ],
   "source": [
    "import seaborn as sn\n",
    "from sklearn.metrics import confusion_matrix\n",
    "\n",
    "ner_labels = ['O', 'B_OG', 'I', 'B_DT', 'B_PS', 'B_LC', 'B_TI']\n",
    "\n",
    "cm = confusion_matrix(unpadded_label,unpadded_pred)\n",
    "df_cm = pd.DataFrame(cm, index = ner_labels,\n",
    "                  columns = ner_labels)\n",
    "sn.heatmap(df_cm, annot=True, fmt=\".0f\").set(title=\"Confusion Matrix\", xlabel=\"Predicted\", ylabel=\"Observed\",)"
   ]
  },
  {
   "cell_type": "markdown",
   "metadata": {
    "id": "rrK0QMwmU7vt"
   },
   "source": [
    "for words in the dev set..."
   ]
  },
  {
   "cell_type": "code",
   "execution_count": 76,
   "metadata": {
    "colab": {
     "base_uri": "https://localhost:8080/"
    },
    "id": "46ybNeea1fAv",
    "outputId": "34946675-a5ec-4f08-8792-d469607756b9",
    "scrolled": true
   },
   "outputs": [
    {
     "name": "stdout",
     "output_type": "stream",
     "text": [
      "올  스타  일 위 차 팀 하   구   설  구 전 만 구  구 주 2 군 구 날 삼성 프로  LG  로 이 ( 차 마 스타 - 신 도시  국제 운동  국제 판 영화  전문 에 일 하 국제 영화 영화 국제 만 내 세 동   Summer TV  마 국제 키 인터넷 방송  환경 영화 공 일 심 심  이 서 가  점   net   2 TV 명 화 심 과 타  앞  만 6   날 나이  2 TV 일 달 전 통신  시 야 여름  구 파    후 박  모  시 미 동안  정도 모 모    전  일 -  - 종합 -   달  FC 축구 축구 만  올해 축구 팀 삼성 트 아시아 일  산업 진 만 축구   스    일\n"
     ]
    }
   ],
   "source": [
    "#Actual O Predicted I\n",
    "print(tokenizer.decode(unpadded_txt[(unpadded_label == 0)&(unpadded_pred == 2)]))"
   ]
  },
  {
   "cell_type": "code",
   "execution_count": 77,
   "metadata": {
    "colab": {
     "base_uri": "https://localhost:8080/"
    },
    "id": "z5WFV2qJ1fAv",
    "outputId": "cc900877-7049-4826-f2ab-241821f09130"
   },
   "outputs": [
    {
     "name": "stdout",
     "output_type": "stream",
     "text": [
      "사 산  잠 리  팔 사 군 군 머 데 레이 산  잠  지구 지구 지구 허 필 회 이 자 폭 3 자 에 시 내 후 14 신 학교 한  야외 자 자  com 의 담 베이 페 공 가족 부  FM 의 황 자 CR 방송 와 아이 들 ? 씨 대 그 스타 모 S -  가 대표 골 대 황 2 의  매 이 골 호 골\n"
     ]
    }
   ],
   "source": [
    "#Actual I Predicted O\n",
    "print(tokenizer.decode(unpadded_txt[(unpadded_label == 2)&(unpadded_pred == 0)]))"
   ]
  },
  {
   "cell_type": "code",
   "execution_count": 78,
   "metadata": {
    "colab": {
     "base_uri": "https://localhost:8080/"
    },
    "id": "rzV5EInZ1fAv",
    "outputId": "91ed5ee1-956e-489a-849a-7389ae92c660"
   },
   "outputs": [
    {
     "name": "stdout",
     "output_type": "stream",
     "text": [
      "분 7 신경 한  소리 회장  카  에  라 만 현 영 해 보 H H 비 비 비 세 자   구 라  신 7  보 풍경 자 MC   신 동 동 더 THE   데 와이 영 의 도 그린 Green 45 비   터 이 천 축구 제 천 천\n"
     ]
    }
   ],
   "source": [
    "#Actual B_PS Predicted 0\n",
    "print(tokenizer.decode(unpadded_txt[(unpadded_label == 4)&(unpadded_pred == 0)]))"
   ]
  },
  {
   "cell_type": "code",
   "execution_count": null,
   "metadata": {},
   "outputs": [],
   "source": []
  }
 ],
 "metadata": {
  "accelerator": "GPU",
  "colab": {
   "collapsed_sections": [
    "wtVAxyIB1fAs"
   ],
   "name": "KoreanNER_token_classification.ipynb",
   "provenance": []
  },
  "kernelspec": {
   "display_name": "Python 3",
   "language": "python",
   "name": "python3"
  },
  "language_info": {
   "codemirror_mode": {
    "name": "ipython",
    "version": 3
   },
   "file_extension": ".py",
   "mimetype": "text/x-python",
   "name": "python",
   "nbconvert_exporter": "python",
   "pygments_lexer": "ipython3",
   "version": "3.6.10"
  },
  "widgets": {
   "application/vnd.jupyter.widget-state+json": {
    "08413938eac64bde9bac81f3ee557fe5": {
     "model_module": "@jupyter-widgets/controls",
     "model_name": "HTMLModel",
     "state": {
      "_dom_classes": [],
      "_model_module": "@jupyter-widgets/controls",
      "_model_module_version": "1.5.0",
      "_model_name": "HTMLModel",
      "_view_count": null,
      "_view_module": "@jupyter-widgets/controls",
      "_view_module_version": "1.5.0",
      "_view_name": "HTMLView",
      "description": "",
      "description_tooltip": null,
      "layout": "IPY_MODEL_4207b4edb11941eab4d1f514bdf3558e",
      "placeholder": "​",
      "style": "IPY_MODEL_4bc91259f02d43a18e1781d8bc1fae11",
      "value": " 512/512 [00:01&lt;00:00, 289B/s]"
     }
    },
    "08c36fd2d33145f084b397e6a2d24538": {
     "model_module": "@jupyter-widgets/base",
     "model_name": "LayoutModel",
     "state": {
      "_model_module": "@jupyter-widgets/base",
      "_model_module_version": "1.2.0",
      "_model_name": "LayoutModel",
      "_view_count": null,
      "_view_module": "@jupyter-widgets/base",
      "_view_module_version": "1.2.0",
      "_view_name": "LayoutView",
      "align_content": null,
      "align_items": null,
      "align_self": null,
      "border": null,
      "bottom": null,
      "display": null,
      "flex": null,
      "flex_flow": null,
      "grid_area": null,
      "grid_auto_columns": null,
      "grid_auto_flow": null,
      "grid_auto_rows": null,
      "grid_column": null,
      "grid_gap": null,
      "grid_row": null,
      "grid_template_areas": null,
      "grid_template_columns": null,
      "grid_template_rows": null,
      "height": null,
      "justify_content": null,
      "justify_items": null,
      "left": null,
      "margin": null,
      "max_height": null,
      "max_width": null,
      "min_height": null,
      "min_width": null,
      "object_fit": null,
      "object_position": null,
      "order": null,
      "overflow": null,
      "overflow_x": null,
      "overflow_y": null,
      "padding": null,
      "right": null,
      "top": null,
      "visibility": null,
      "width": null
     }
    },
    "09dc3f684b6d4b8aaa1abb5092515f4f": {
     "model_module": "@jupyter-widgets/controls",
     "model_name": "FloatProgressModel",
     "state": {
      "_dom_classes": [],
      "_model_module": "@jupyter-widgets/controls",
      "_model_module_version": "1.5.0",
      "_model_name": "FloatProgressModel",
      "_view_count": null,
      "_view_module": "@jupyter-widgets/controls",
      "_view_module_version": "1.5.0",
      "_view_name": "ProgressView",
      "bar_style": "success",
      "description": "Downloading: 100%",
      "description_tooltip": null,
      "layout": "IPY_MODEL_08c36fd2d33145f084b397e6a2d24538",
      "max": 1115590446,
      "min": 0,
      "orientation": "horizontal",
      "style": "IPY_MODEL_f6287ab81b0e4a60828ad05297360d88",
      "value": 1115590446
     }
    },
    "0bd17f87eafb4524b7dbc3f45dd08acd": {
     "model_module": "@jupyter-widgets/controls",
     "model_name": "DescriptionStyleModel",
     "state": {
      "_model_module": "@jupyter-widgets/controls",
      "_model_module_version": "1.5.0",
      "_model_name": "DescriptionStyleModel",
      "_view_count": null,
      "_view_module": "@jupyter-widgets/base",
      "_view_module_version": "1.2.0",
      "_view_name": "StyleView",
      "description_width": ""
     }
    },
    "238d5af5d1f4440bb16b509fb162aa33": {
     "model_module": "@jupyter-widgets/controls",
     "model_name": "HBoxModel",
     "state": {
      "_dom_classes": [],
      "_model_module": "@jupyter-widgets/controls",
      "_model_module_version": "1.5.0",
      "_model_name": "HBoxModel",
      "_view_count": null,
      "_view_module": "@jupyter-widgets/controls",
      "_view_module_version": "1.5.0",
      "_view_name": "HBoxView",
      "box_style": "",
      "children": [
       "IPY_MODEL_09dc3f684b6d4b8aaa1abb5092515f4f",
       "IPY_MODEL_9803d264f78c44afa9d87fa014e60f6c"
      ],
      "layout": "IPY_MODEL_d6425fe79c7c4b24ba1a22b976fea4d1"
     }
    },
    "2f6c880c49564aceafd28fd4e741cfc9": {
     "model_module": "@jupyter-widgets/base",
     "model_name": "LayoutModel",
     "state": {
      "_model_module": "@jupyter-widgets/base",
      "_model_module_version": "1.2.0",
      "_model_name": "LayoutModel",
      "_view_count": null,
      "_view_module": "@jupyter-widgets/base",
      "_view_module_version": "1.2.0",
      "_view_name": "LayoutView",
      "align_content": null,
      "align_items": null,
      "align_self": null,
      "border": null,
      "bottom": null,
      "display": null,
      "flex": null,
      "flex_flow": null,
      "grid_area": null,
      "grid_auto_columns": null,
      "grid_auto_flow": null,
      "grid_auto_rows": null,
      "grid_column": null,
      "grid_gap": null,
      "grid_row": null,
      "grid_template_areas": null,
      "grid_template_columns": null,
      "grid_template_rows": null,
      "height": null,
      "justify_content": null,
      "justify_items": null,
      "left": null,
      "margin": null,
      "max_height": null,
      "max_width": null,
      "min_height": null,
      "min_width": null,
      "object_fit": null,
      "object_position": null,
      "order": null,
      "overflow": null,
      "overflow_x": null,
      "overflow_y": null,
      "padding": null,
      "right": null,
      "top": null,
      "visibility": null,
      "width": null
     }
    },
    "38b7c1c6ce194e8e945986f42d6115f4": {
     "model_module": "@jupyter-widgets/base",
     "model_name": "LayoutModel",
     "state": {
      "_model_module": "@jupyter-widgets/base",
      "_model_module_version": "1.2.0",
      "_model_name": "LayoutModel",
      "_view_count": null,
      "_view_module": "@jupyter-widgets/base",
      "_view_module_version": "1.2.0",
      "_view_name": "LayoutView",
      "align_content": null,
      "align_items": null,
      "align_self": null,
      "border": null,
      "bottom": null,
      "display": null,
      "flex": null,
      "flex_flow": null,
      "grid_area": null,
      "grid_auto_columns": null,
      "grid_auto_flow": null,
      "grid_auto_rows": null,
      "grid_column": null,
      "grid_gap": null,
      "grid_row": null,
      "grid_template_areas": null,
      "grid_template_columns": null,
      "grid_template_rows": null,
      "height": null,
      "justify_content": null,
      "justify_items": null,
      "left": null,
      "margin": null,
      "max_height": null,
      "max_width": null,
      "min_height": null,
      "min_width": null,
      "object_fit": null,
      "object_position": null,
      "order": null,
      "overflow": null,
      "overflow_x": null,
      "overflow_y": null,
      "padding": null,
      "right": null,
      "top": null,
      "visibility": null,
      "width": null
     }
    },
    "4207b4edb11941eab4d1f514bdf3558e": {
     "model_module": "@jupyter-widgets/base",
     "model_name": "LayoutModel",
     "state": {
      "_model_module": "@jupyter-widgets/base",
      "_model_module_version": "1.2.0",
      "_model_name": "LayoutModel",
      "_view_count": null,
      "_view_module": "@jupyter-widgets/base",
      "_view_module_version": "1.2.0",
      "_view_name": "LayoutView",
      "align_content": null,
      "align_items": null,
      "align_self": null,
      "border": null,
      "bottom": null,
      "display": null,
      "flex": null,
      "flex_flow": null,
      "grid_area": null,
      "grid_auto_columns": null,
      "grid_auto_flow": null,
      "grid_auto_rows": null,
      "grid_column": null,
      "grid_gap": null,
      "grid_row": null,
      "grid_template_areas": null,
      "grid_template_columns": null,
      "grid_template_rows": null,
      "height": null,
      "justify_content": null,
      "justify_items": null,
      "left": null,
      "margin": null,
      "max_height": null,
      "max_width": null,
      "min_height": null,
      "min_width": null,
      "object_fit": null,
      "object_position": null,
      "order": null,
      "overflow": null,
      "overflow_x": null,
      "overflow_y": null,
      "padding": null,
      "right": null,
      "top": null,
      "visibility": null,
      "width": null
     }
    },
    "4bc91259f02d43a18e1781d8bc1fae11": {
     "model_module": "@jupyter-widgets/controls",
     "model_name": "DescriptionStyleModel",
     "state": {
      "_model_module": "@jupyter-widgets/controls",
      "_model_module_version": "1.5.0",
      "_model_name": "DescriptionStyleModel",
      "_view_count": null,
      "_view_module": "@jupyter-widgets/base",
      "_view_module_version": "1.2.0",
      "_view_name": "StyleView",
      "description_width": ""
     }
    },
    "51ec4b56c0bd4432aaa391bd01389bdd": {
     "model_module": "@jupyter-widgets/controls",
     "model_name": "DescriptionStyleModel",
     "state": {
      "_model_module": "@jupyter-widgets/controls",
      "_model_module_version": "1.5.0",
      "_model_name": "DescriptionStyleModel",
      "_view_count": null,
      "_view_module": "@jupyter-widgets/base",
      "_view_module_version": "1.2.0",
      "_view_name": "StyleView",
      "description_width": ""
     }
    },
    "5312dac9dd3a407090257e2a087b8b18": {
     "model_module": "@jupyter-widgets/controls",
     "model_name": "ProgressStyleModel",
     "state": {
      "_model_module": "@jupyter-widgets/controls",
      "_model_module_version": "1.5.0",
      "_model_name": "ProgressStyleModel",
      "_view_count": null,
      "_view_module": "@jupyter-widgets/base",
      "_view_module_version": "1.2.0",
      "_view_name": "StyleView",
      "bar_color": null,
      "description_width": "initial"
     }
    },
    "538e37527fc14675859c2e020069d0f2": {
     "model_module": "@jupyter-widgets/controls",
     "model_name": "HTMLModel",
     "state": {
      "_dom_classes": [],
      "_model_module": "@jupyter-widgets/controls",
      "_model_module_version": "1.5.0",
      "_model_name": "HTMLModel",
      "_view_count": null,
      "_view_module": "@jupyter-widgets/controls",
      "_view_module_version": "1.5.0",
      "_view_name": "HTMLView",
      "description": "",
      "description_tooltip": null,
      "layout": "IPY_MODEL_e84fd9a07a9547cda229fc2e0308ba47",
      "placeholder": "​",
      "style": "IPY_MODEL_598182570ced4e56a43f4ca8a8ed1a44",
      "value": " 9.10M/9.10M [00:02&lt;00:00, 3.72MB/s]"
     }
    },
    "54214e307a6f457eac53302cdab8cae7": {
     "model_module": "@jupyter-widgets/controls",
     "model_name": "ProgressStyleModel",
     "state": {
      "_model_module": "@jupyter-widgets/controls",
      "_model_module_version": "1.5.0",
      "_model_name": "ProgressStyleModel",
      "_view_count": null,
      "_view_module": "@jupyter-widgets/base",
      "_view_module_version": "1.2.0",
      "_view_name": "StyleView",
      "bar_color": null,
      "description_width": "initial"
     }
    },
    "598182570ced4e56a43f4ca8a8ed1a44": {
     "model_module": "@jupyter-widgets/controls",
     "model_name": "DescriptionStyleModel",
     "state": {
      "_model_module": "@jupyter-widgets/controls",
      "_model_module_version": "1.5.0",
      "_model_name": "DescriptionStyleModel",
      "_view_count": null,
      "_view_module": "@jupyter-widgets/base",
      "_view_module_version": "1.2.0",
      "_view_name": "StyleView",
      "description_width": ""
     }
    },
    "66d251df25f94a9a9d78674167ce7b63": {
     "model_module": "@jupyter-widgets/base",
     "model_name": "LayoutModel",
     "state": {
      "_model_module": "@jupyter-widgets/base",
      "_model_module_version": "1.2.0",
      "_model_name": "LayoutModel",
      "_view_count": null,
      "_view_module": "@jupyter-widgets/base",
      "_view_module_version": "1.2.0",
      "_view_name": "LayoutView",
      "align_content": null,
      "align_items": null,
      "align_self": null,
      "border": null,
      "bottom": null,
      "display": null,
      "flex": null,
      "flex_flow": null,
      "grid_area": null,
      "grid_auto_columns": null,
      "grid_auto_flow": null,
      "grid_auto_rows": null,
      "grid_column": null,
      "grid_gap": null,
      "grid_row": null,
      "grid_template_areas": null,
      "grid_template_columns": null,
      "grid_template_rows": null,
      "height": null,
      "justify_content": null,
      "justify_items": null,
      "left": null,
      "margin": null,
      "max_height": null,
      "max_width": null,
      "min_height": null,
      "min_width": null,
      "object_fit": null,
      "object_position": null,
      "order": null,
      "overflow": null,
      "overflow_x": null,
      "overflow_y": null,
      "padding": null,
      "right": null,
      "top": null,
      "visibility": null,
      "width": null
     }
    },
    "71eacf0654fa4730b20c2ea1a2c8e395": {
     "model_module": "@jupyter-widgets/controls",
     "model_name": "FloatProgressModel",
     "state": {
      "_dom_classes": [],
      "_model_module": "@jupyter-widgets/controls",
      "_model_module_version": "1.5.0",
      "_model_name": "FloatProgressModel",
      "_view_count": null,
      "_view_module": "@jupyter-widgets/controls",
      "_view_module_version": "1.5.0",
      "_view_name": "ProgressView",
      "bar_style": "success",
      "description": "Downloading: 100%",
      "description_tooltip": null,
      "layout": "IPY_MODEL_2f6c880c49564aceafd28fd4e741cfc9",
      "max": 512,
      "min": 0,
      "orientation": "horizontal",
      "style": "IPY_MODEL_5312dac9dd3a407090257e2a087b8b18",
      "value": 512
     }
    },
    "73bf393e72b945618430986f9cf03a8d": {
     "model_module": "@jupyter-widgets/controls",
     "model_name": "HBoxModel",
     "state": {
      "_dom_classes": [],
      "_model_module": "@jupyter-widgets/controls",
      "_model_module_version": "1.5.0",
      "_model_name": "HBoxModel",
      "_view_count": null,
      "_view_module": "@jupyter-widgets/controls",
      "_view_module_version": "1.5.0",
      "_view_name": "HBoxView",
      "box_style": "",
      "children": [
       "IPY_MODEL_71eacf0654fa4730b20c2ea1a2c8e395",
       "IPY_MODEL_08413938eac64bde9bac81f3ee557fe5"
      ],
      "layout": "IPY_MODEL_ff96e108c29f4a579262b47cc37665f9"
     }
    },
    "7b4a536a721b473cbf49683a6f3df5ca": {
     "model_module": "@jupyter-widgets/base",
     "model_name": "LayoutModel",
     "state": {
      "_model_module": "@jupyter-widgets/base",
      "_model_module_version": "1.2.0",
      "_model_name": "LayoutModel",
      "_view_count": null,
      "_view_module": "@jupyter-widgets/base",
      "_view_module_version": "1.2.0",
      "_view_name": "LayoutView",
      "align_content": null,
      "align_items": null,
      "align_self": null,
      "border": null,
      "bottom": null,
      "display": null,
      "flex": null,
      "flex_flow": null,
      "grid_area": null,
      "grid_auto_columns": null,
      "grid_auto_flow": null,
      "grid_auto_rows": null,
      "grid_column": null,
      "grid_gap": null,
      "grid_row": null,
      "grid_template_areas": null,
      "grid_template_columns": null,
      "grid_template_rows": null,
      "height": null,
      "justify_content": null,
      "justify_items": null,
      "left": null,
      "margin": null,
      "max_height": null,
      "max_width": null,
      "min_height": null,
      "min_width": null,
      "object_fit": null,
      "object_position": null,
      "order": null,
      "overflow": null,
      "overflow_x": null,
      "overflow_y": null,
      "padding": null,
      "right": null,
      "top": null,
      "visibility": null,
      "width": null
     }
    },
    "87af3fe3573b4b02873eb2f46c69678c": {
     "model_module": "@jupyter-widgets/controls",
     "model_name": "FloatProgressModel",
     "state": {
      "_dom_classes": [],
      "_model_module": "@jupyter-widgets/controls",
      "_model_module_version": "1.5.0",
      "_model_name": "FloatProgressModel",
      "_view_count": null,
      "_view_module": "@jupyter-widgets/controls",
      "_view_module_version": "1.5.0",
      "_view_name": "ProgressView",
      "bar_style": "success",
      "description": "Downloading: 100%",
      "description_tooltip": null,
      "layout": "IPY_MODEL_d6e3f30c679f4227b4dd852f22ee64e4",
      "max": 9096718,
      "min": 0,
      "orientation": "horizontal",
      "style": "IPY_MODEL_54214e307a6f457eac53302cdab8cae7",
      "value": 9096718
     }
    },
    "891dc777066144fc9269ba9ac1b8336a": {
     "model_module": "@jupyter-widgets/controls",
     "model_name": "HTMLModel",
     "state": {
      "_dom_classes": [],
      "_model_module": "@jupyter-widgets/controls",
      "_model_module_version": "1.5.0",
      "_model_name": "HTMLModel",
      "_view_count": null,
      "_view_module": "@jupyter-widgets/controls",
      "_view_module_version": "1.5.0",
      "_view_name": "HTMLView",
      "description": "",
      "description_tooltip": null,
      "layout": "IPY_MODEL_ad53c94d150145739275f1802212de1f",
      "placeholder": "​",
      "style": "IPY_MODEL_0bd17f87eafb4524b7dbc3f45dd08acd",
      "value": " 5.07M/5.07M [00:00&lt;00:00, 6.21MB/s]"
     }
    },
    "9803d264f78c44afa9d87fa014e60f6c": {
     "model_module": "@jupyter-widgets/controls",
     "model_name": "HTMLModel",
     "state": {
      "_dom_classes": [],
      "_model_module": "@jupyter-widgets/controls",
      "_model_module_version": "1.5.0",
      "_model_name": "HTMLModel",
      "_view_count": null,
      "_view_module": "@jupyter-widgets/controls",
      "_view_module_version": "1.5.0",
      "_view_name": "HTMLView",
      "description": "",
      "description_tooltip": null,
      "layout": "IPY_MODEL_e2303169d02049548ff21c4c70fcabae",
      "placeholder": "​",
      "style": "IPY_MODEL_51ec4b56c0bd4432aaa391bd01389bdd",
      "value": " 1.12G/1.12G [01:15&lt;00:00, 14.8MB/s]"
     }
    },
    "aa883c37abb2405cb1fa1f419db60bde": {
     "model_module": "@jupyter-widgets/controls",
     "model_name": "HBoxModel",
     "state": {
      "_dom_classes": [],
      "_model_module": "@jupyter-widgets/controls",
      "_model_module_version": "1.5.0",
      "_model_name": "HBoxModel",
      "_view_count": null,
      "_view_module": "@jupyter-widgets/controls",
      "_view_module_version": "1.5.0",
      "_view_name": "HBoxView",
      "box_style": "",
      "children": [
       "IPY_MODEL_b9a2c31103ce408fb5444cd934da3113",
       "IPY_MODEL_891dc777066144fc9269ba9ac1b8336a"
      ],
      "layout": "IPY_MODEL_66d251df25f94a9a9d78674167ce7b63"
     }
    },
    "ad53c94d150145739275f1802212de1f": {
     "model_module": "@jupyter-widgets/base",
     "model_name": "LayoutModel",
     "state": {
      "_model_module": "@jupyter-widgets/base",
      "_model_module_version": "1.2.0",
      "_model_name": "LayoutModel",
      "_view_count": null,
      "_view_module": "@jupyter-widgets/base",
      "_view_module_version": "1.2.0",
      "_view_name": "LayoutView",
      "align_content": null,
      "align_items": null,
      "align_self": null,
      "border": null,
      "bottom": null,
      "display": null,
      "flex": null,
      "flex_flow": null,
      "grid_area": null,
      "grid_auto_columns": null,
      "grid_auto_flow": null,
      "grid_auto_rows": null,
      "grid_column": null,
      "grid_gap": null,
      "grid_row": null,
      "grid_template_areas": null,
      "grid_template_columns": null,
      "grid_template_rows": null,
      "height": null,
      "justify_content": null,
      "justify_items": null,
      "left": null,
      "margin": null,
      "max_height": null,
      "max_width": null,
      "min_height": null,
      "min_width": null,
      "object_fit": null,
      "object_position": null,
      "order": null,
      "overflow": null,
      "overflow_x": null,
      "overflow_y": null,
      "padding": null,
      "right": null,
      "top": null,
      "visibility": null,
      "width": null
     }
    },
    "b9a2c31103ce408fb5444cd934da3113": {
     "model_module": "@jupyter-widgets/controls",
     "model_name": "FloatProgressModel",
     "state": {
      "_dom_classes": [],
      "_model_module": "@jupyter-widgets/controls",
      "_model_module_version": "1.5.0",
      "_model_name": "FloatProgressModel",
      "_view_count": null,
      "_view_module": "@jupyter-widgets/controls",
      "_view_module_version": "1.5.0",
      "_view_name": "ProgressView",
      "bar_style": "success",
      "description": "Downloading: 100%",
      "description_tooltip": null,
      "layout": "IPY_MODEL_38b7c1c6ce194e8e945986f42d6115f4",
      "max": 5069051,
      "min": 0,
      "orientation": "horizontal",
      "style": "IPY_MODEL_ce16eafd237d45c9a4231c398eeef6bb",
      "value": 5069051
     }
    },
    "ce16eafd237d45c9a4231c398eeef6bb": {
     "model_module": "@jupyter-widgets/controls",
     "model_name": "ProgressStyleModel",
     "state": {
      "_model_module": "@jupyter-widgets/controls",
      "_model_module_version": "1.5.0",
      "_model_name": "ProgressStyleModel",
      "_view_count": null,
      "_view_module": "@jupyter-widgets/base",
      "_view_module_version": "1.2.0",
      "_view_name": "StyleView",
      "bar_color": null,
      "description_width": "initial"
     }
    },
    "d6425fe79c7c4b24ba1a22b976fea4d1": {
     "model_module": "@jupyter-widgets/base",
     "model_name": "LayoutModel",
     "state": {
      "_model_module": "@jupyter-widgets/base",
      "_model_module_version": "1.2.0",
      "_model_name": "LayoutModel",
      "_view_count": null,
      "_view_module": "@jupyter-widgets/base",
      "_view_module_version": "1.2.0",
      "_view_name": "LayoutView",
      "align_content": null,
      "align_items": null,
      "align_self": null,
      "border": null,
      "bottom": null,
      "display": null,
      "flex": null,
      "flex_flow": null,
      "grid_area": null,
      "grid_auto_columns": null,
      "grid_auto_flow": null,
      "grid_auto_rows": null,
      "grid_column": null,
      "grid_gap": null,
      "grid_row": null,
      "grid_template_areas": null,
      "grid_template_columns": null,
      "grid_template_rows": null,
      "height": null,
      "justify_content": null,
      "justify_items": null,
      "left": null,
      "margin": null,
      "max_height": null,
      "max_width": null,
      "min_height": null,
      "min_width": null,
      "object_fit": null,
      "object_position": null,
      "order": null,
      "overflow": null,
      "overflow_x": null,
      "overflow_y": null,
      "padding": null,
      "right": null,
      "top": null,
      "visibility": null,
      "width": null
     }
    },
    "d6e3f30c679f4227b4dd852f22ee64e4": {
     "model_module": "@jupyter-widgets/base",
     "model_name": "LayoutModel",
     "state": {
      "_model_module": "@jupyter-widgets/base",
      "_model_module_version": "1.2.0",
      "_model_name": "LayoutModel",
      "_view_count": null,
      "_view_module": "@jupyter-widgets/base",
      "_view_module_version": "1.2.0",
      "_view_name": "LayoutView",
      "align_content": null,
      "align_items": null,
      "align_self": null,
      "border": null,
      "bottom": null,
      "display": null,
      "flex": null,
      "flex_flow": null,
      "grid_area": null,
      "grid_auto_columns": null,
      "grid_auto_flow": null,
      "grid_auto_rows": null,
      "grid_column": null,
      "grid_gap": null,
      "grid_row": null,
      "grid_template_areas": null,
      "grid_template_columns": null,
      "grid_template_rows": null,
      "height": null,
      "justify_content": null,
      "justify_items": null,
      "left": null,
      "margin": null,
      "max_height": null,
      "max_width": null,
      "min_height": null,
      "min_width": null,
      "object_fit": null,
      "object_position": null,
      "order": null,
      "overflow": null,
      "overflow_x": null,
      "overflow_y": null,
      "padding": null,
      "right": null,
      "top": null,
      "visibility": null,
      "width": null
     }
    },
    "e2303169d02049548ff21c4c70fcabae": {
     "model_module": "@jupyter-widgets/base",
     "model_name": "LayoutModel",
     "state": {
      "_model_module": "@jupyter-widgets/base",
      "_model_module_version": "1.2.0",
      "_model_name": "LayoutModel",
      "_view_count": null,
      "_view_module": "@jupyter-widgets/base",
      "_view_module_version": "1.2.0",
      "_view_name": "LayoutView",
      "align_content": null,
      "align_items": null,
      "align_self": null,
      "border": null,
      "bottom": null,
      "display": null,
      "flex": null,
      "flex_flow": null,
      "grid_area": null,
      "grid_auto_columns": null,
      "grid_auto_flow": null,
      "grid_auto_rows": null,
      "grid_column": null,
      "grid_gap": null,
      "grid_row": null,
      "grid_template_areas": null,
      "grid_template_columns": null,
      "grid_template_rows": null,
      "height": null,
      "justify_content": null,
      "justify_items": null,
      "left": null,
      "margin": null,
      "max_height": null,
      "max_width": null,
      "min_height": null,
      "min_width": null,
      "object_fit": null,
      "object_position": null,
      "order": null,
      "overflow": null,
      "overflow_x": null,
      "overflow_y": null,
      "padding": null,
      "right": null,
      "top": null,
      "visibility": null,
      "width": null
     }
    },
    "e84fd9a07a9547cda229fc2e0308ba47": {
     "model_module": "@jupyter-widgets/base",
     "model_name": "LayoutModel",
     "state": {
      "_model_module": "@jupyter-widgets/base",
      "_model_module_version": "1.2.0",
      "_model_name": "LayoutModel",
      "_view_count": null,
      "_view_module": "@jupyter-widgets/base",
      "_view_module_version": "1.2.0",
      "_view_name": "LayoutView",
      "align_content": null,
      "align_items": null,
      "align_self": null,
      "border": null,
      "bottom": null,
      "display": null,
      "flex": null,
      "flex_flow": null,
      "grid_area": null,
      "grid_auto_columns": null,
      "grid_auto_flow": null,
      "grid_auto_rows": null,
      "grid_column": null,
      "grid_gap": null,
      "grid_row": null,
      "grid_template_areas": null,
      "grid_template_columns": null,
      "grid_template_rows": null,
      "height": null,
      "justify_content": null,
      "justify_items": null,
      "left": null,
      "margin": null,
      "max_height": null,
      "max_width": null,
      "min_height": null,
      "min_width": null,
      "object_fit": null,
      "object_position": null,
      "order": null,
      "overflow": null,
      "overflow_x": null,
      "overflow_y": null,
      "padding": null,
      "right": null,
      "top": null,
      "visibility": null,
      "width": null
     }
    },
    "f2151106a696453f99638764add49565": {
     "model_module": "@jupyter-widgets/controls",
     "model_name": "HBoxModel",
     "state": {
      "_dom_classes": [],
      "_model_module": "@jupyter-widgets/controls",
      "_model_module_version": "1.5.0",
      "_model_name": "HBoxModel",
      "_view_count": null,
      "_view_module": "@jupyter-widgets/controls",
      "_view_module_version": "1.5.0",
      "_view_name": "HBoxView",
      "box_style": "",
      "children": [
       "IPY_MODEL_87af3fe3573b4b02873eb2f46c69678c",
       "IPY_MODEL_538e37527fc14675859c2e020069d0f2"
      ],
      "layout": "IPY_MODEL_7b4a536a721b473cbf49683a6f3df5ca"
     }
    },
    "f6287ab81b0e4a60828ad05297360d88": {
     "model_module": "@jupyter-widgets/controls",
     "model_name": "ProgressStyleModel",
     "state": {
      "_model_module": "@jupyter-widgets/controls",
      "_model_module_version": "1.5.0",
      "_model_name": "ProgressStyleModel",
      "_view_count": null,
      "_view_module": "@jupyter-widgets/base",
      "_view_module_version": "1.2.0",
      "_view_name": "StyleView",
      "bar_color": null,
      "description_width": "initial"
     }
    },
    "ff96e108c29f4a579262b47cc37665f9": {
     "model_module": "@jupyter-widgets/base",
     "model_name": "LayoutModel",
     "state": {
      "_model_module": "@jupyter-widgets/base",
      "_model_module_version": "1.2.0",
      "_model_name": "LayoutModel",
      "_view_count": null,
      "_view_module": "@jupyter-widgets/base",
      "_view_module_version": "1.2.0",
      "_view_name": "LayoutView",
      "align_content": null,
      "align_items": null,
      "align_self": null,
      "border": null,
      "bottom": null,
      "display": null,
      "flex": null,
      "flex_flow": null,
      "grid_area": null,
      "grid_auto_columns": null,
      "grid_auto_flow": null,
      "grid_auto_rows": null,
      "grid_column": null,
      "grid_gap": null,
      "grid_row": null,
      "grid_template_areas": null,
      "grid_template_columns": null,
      "grid_template_rows": null,
      "height": null,
      "justify_content": null,
      "justify_items": null,
      "left": null,
      "margin": null,
      "max_height": null,
      "max_width": null,
      "min_height": null,
      "min_width": null,
      "object_fit": null,
      "object_position": null,
      "order": null,
      "overflow": null,
      "overflow_x": null,
      "overflow_y": null,
      "padding": null,
      "right": null,
      "top": null,
      "visibility": null,
      "width": null
     }
    }
   }
  }
 },
 "nbformat": 4,
 "nbformat_minor": 1
}
