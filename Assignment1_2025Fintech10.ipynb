{
 "cells": [
  {
   "cell_type": "markdown",
   "metadata": {},
   "source": [
    "# Assignment 1\n",
    "\n",
    "## 목표: 한국어 신문기사를 가지고 n-gram에 기반한 Language Modeling 구현\n",
    "- File Handling\n",
    "- Preprocessing\n",
    "- Word Count\n",
    "- Efficient한 N-gram 구현 \n"
   ]
  },
  {
   "cell_type": "markdown",
   "metadata": {},
   "source": [
    "## 내용:\n",
    "\n",
    "- NLRW1900000011.json 은 강원일보의 뉴스기사이다. 이 파일만을 가지고 언어 모델링 할 것\n",
    "- 파일에서 신문기사만을 추출하고, 각 기사를 문장단위로 분리한 후 문장 처음과 끝에 각각 < s, /s >표시를 붙일 것\n",
    "- 뉴스기사를 가급적 정리할 것. Regular expression, 한국어 형태소 분석기 사용, translation 등으로 필요없는 글자들을 제거\n",
    "- 정리된 데이터를 가지고 실제 기사에 나오는 **'이제 경기 침체로 예외 없이 영세 상인들이 피해를 입을 것으로 보인다'** 문장의 unigram, Bigram, Trigram 언어모델에 의한 확률을 각각 구하라\n",
    "- **나타나지 않는 N-Gram 구성은 add-1 smoothing을 하라**\n",
    "- 모듈화한 프로그램의 자세한 설명이 필요\n",
    "- 실행결과가 반영된 상태로 주피터 노트북 탑재\n",
    "- 화일 이름은 'Assignment1_이름/group'.ipynb로 할 것\n",
    "- **마감: 2월 17일 월요일 23시 59분 59초까지**\n",
    "- 제출처: 장동준(qwer4107@snu.ac.kr)"
   ]
  },
  {
   "cell_type": "markdown",
   "metadata": {},
   "source": [
    "## Data Loading and Preprocessing\n",
    "\n",
    "#필요에 따라 셀을 더 자세히 나누어 구현 가능. 자세한 설명도 첨부할 필요"
   ]
  },
  {
   "cell_type": "markdown",
   "metadata": {},
   "source": [
    "## Unigram Language Model에 의한 확률\n",
    "### Unigram Model (k=1): $P(w_1 w_2 ... w_n) \\approx \\prod_{i} P(w_i)$\n",
    "\n",
    "\\begin{equation}\n",
    "    P(x_1) \\approx \\frac{count(x_1)}{count(N)}\n",
    "\\end{equation}\n",
    "\n",
    "- P(< s 학생들의 수업에 대한 자신감을 늘리는 실질적인 전략을 내놔야 한다 /s >)\n"
   ]
  },
  {
   "cell_type": "markdown",
   "metadata": {},
   "source": [
    "## Bigram Language Model에 의한 확률\n",
    "### Bigram Model (k=2): $P(w_i|w_1 w_2 ... w_{i-1}) \\approx P(w_i|w_{i-1})$\n",
    "\n",
    "\\begin{equation}\n",
    "    P(x_2|x_1) \\approx \\frac{count(x_1,x_2)}{count(x_1)}\n",
    "\\end{equation}\n",
    "\n",
    "- P(< s 학생들의 수업에 대한 자신감을 늘리는 실질적인 전략을 내놔야 한다 /s >)\n"
   ]
  },
  {
   "cell_type": "markdown",
   "metadata": {},
   "source": []
  },
  {
   "cell_type": "markdown",
   "metadata": {},
   "source": [
    "## Trigram Language Model에 의한 확률\n",
    "\\begin{equation}\n",
    "    P(x_3|x_1,x_2) \\approx \\frac{count(x_1,x_2,x_3)}{count(x_1,x_2)}\n",
    "\\end{equation}\n",
    "\n",
    "- P(< s 학생들의 수업에 대한 자신감을 늘리는 실질적인 전략을 내놔야 한다/s >)"
   ]
  },
  {
   "cell_type": "code",
   "execution_count": null,
   "metadata": {},
   "outputs": [],
   "source": []
  }
 ],
 "metadata": {
  "kernelspec": {
   "display_name": "Python 3 (ipykernel)",
   "language": "python",
   "name": "python3"
  },
  "language_info": {
   "codemirror_mode": {
    "name": "ipython",
    "version": 3
   },
   "file_extension": ".py",
   "mimetype": "text/x-python",
   "name": "python",
   "nbconvert_exporter": "python",
   "pygments_lexer": "ipython3",
   "version": "3.9.13"
  }
 },
 "nbformat": 4,
 "nbformat_minor": 2
}
