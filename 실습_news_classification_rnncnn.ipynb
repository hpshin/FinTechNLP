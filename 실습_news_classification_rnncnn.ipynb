{
 "cells": [
  {
   "cell_type": "markdown",
   "metadata": {},
   "source": [
    "# 한국어 뉴스기사 분류"
   ]
  },
  {
   "cell_type": "markdown",
   "metadata": {},
   "source": [
    "## 한국어 뉴스기사 범주 분류기 만들기\n",
    "\n",
    "- 자료실에 있는 BalancedNewsCorpus_train.csv, BalancedNewsCorpus_test.csv는 국어원 뉴스 자료에서 9개 분야의 신문별 균형을 맞춘 자료로, 학습용 9,000개 시험용 1800 자료가 있는 파일이다.\n",
    "- 이 파일을 가지고 https://github.com/bentrevett/pytorch-sentiment-analysis 에 있는 pytorch sentiment analysis의 방법을 따라 한국어 뉴스기사 분류기를 만들기"
   ]
  },
  {
   "cell_type": "markdown",
   "metadata": {},
   "source": [
    "## 목표\n",
    "\n",
    "- csv 파일을 읽어서 torchtext를 사용하여 데이터를 신경망에 입력가능한 꼴로 바꾸기\n",
    "(Field, Iterator, train,test, evaluation and prediction)\n",
    "- 한국어 데이터 전처리를 위한 함수를 만들고 이를 torchtext에 통합하기 \n",
    "\n",
    "- 외부에서 학습된 한국어 단어 임베딩을 torchtext에 통합하여 사용하기 (word2vec, glove, fasttext 중 골라서 사용)\n",
    "- 제시된 여러 모델을 사용하여(transformers 제외) 성능을 향상 시키기\n",
    "- training, evaluation 한 것을 test 데이터에 적용하여 성능을 보이기.\n",
    "- predict를 사용하여 제시된 기사들의 분류 결과를 보이기\n",
    "\n",
    "- 참고 사이트\n",
    "    - https://pytorch.org/text/\n",
    "    - http://mlexplained.com/2018/02/08/a-comprehensive-tutorial-to-torchtext/\n",
    "    - https://github.com/pytorch/text\n",
    "    - https://mc.ai/using-fine-tuned-gensim-word2vec-embeddings-with-torchtext-and-pytorch/"
   ]
  },
  {
   "cell_type": "markdown",
   "metadata": {},
   "source": [
    "## 이 자료를 위해 사전학습된 임베딩\n",
    "- 필요에 따라 선택하여 사용할 수 있음\n",
    "\n",
    "### Word2vec 모델\n",
    " - 노트 : https://drive.google.com/file/d/1KOv901TPv5gepEdd4cCsJWoCHVaAV-A-/view?usp=sharing\n",
    " - Word2Vec 형태소 모델 : https://drive.google.com/file/d/1DDx6lRSTVULRFP3kslQLZsuoGZJOtoR1/view?usp=sharing\n",
    " - Word2Vec 어절 모델 : https://drive.google.com/file/d/1-RuEk-MhULduAbizgt3wjsMOCL3sM_pl/view?usp=sharing\n",
    "\n",
    "- from gensim.models.keyedvectors import KeyedVectors\n",
    "- Word2Vec_300D_space_model = KeyedVectors.load_word2vec_format(path + 'Word2Vec_300D_space.model', binary=False, encoding='utf-8')\n",
    "\n",
    "\n",
    "### Fasttext 모델\n",
    "\n",
    "- fasttext 형태소 모델: https://drive.google.com/file/d/1-EBaAtFK7chB6qqckKmLdghR62SebEYK/view?usp=sharing\n",
    "- fasttext 어절 모델: https://drive.google.com/file/d/1-0D7Fe5oG_z9pQqOjkewtsuV_uVkh_dF/view?usp=sharing\n",
    "- fasttext 형태소 자모 모델: https://drive.google.com/file/d/1-WW_qWQZ2q3Jj9fXXex82dYHWIMHGVri/view?usp=sharing\n",
    "- fasttext 어절 자모 모델: https://drive.google.com/file/d/1-P2b8Dp09fZYO2Y__wjPNmS77PF7kfqV/view?usp=sharing\n",
    "\n",
    "\n",
    "- from gensim.models.keyedvectors import KeyedVectors\n",
    "- fasttext_model2 = KeyedVectors.load_word2vec_format(path + 'fasttext_morph_300.model', binary=False, encoding='utf-8')\n",
    "\n",
    "### Glove 모델\n",
    "\n",
    "- https://drive.google.com/drive/folders/1pzVO0jwx1Zf8p4hjf4JQn81XWzktsIdg?usp=sharing \n",
    "\n",
    "\n",
    "- from gensim.models.keyedvectors import KeyedVectors\n",
    "- Glove_model = KeyedVectors.load_word2vec_format(# 모델 경로 , binary=False, encoding='utf-8')\n"
   ]
  },
  {
   "cell_type": "markdown",
   "metadata": {},
   "source": [
    "## 코드 개요\n",
    "\n",
    "* 필요한 라이브러리 설치 및 불러오기\n",
    "* 뉴스기사 데이터 불러오기, 데이터 전처리\n",
    "* 분류 모델 구축하기\n",
    "* 분류 모델 학습하기\n",
    "* 학습한 분류 모델 테스트하기"
   ]
  },
  {
   "cell_type": "markdown",
   "metadata": {},
   "source": [
    "## 1. 필요한 라이브러리 준비하기"
   ]
  },
  {
   "cell_type": "code",
   "execution_count": 1,
   "metadata": {},
   "outputs": [
    {
     "name": "stderr",
     "output_type": "stream",
     "text": [
      "/opt/conda/lib/python3.7/site-packages/gensim/similarities/__init__.py:15: UserWarning: The gensim.similarities.levenshtein submodule is disabled, because the optional Levenshtein package <https://pypi.org/project/python-Levenshtein/> is unavailable. Install Levenhstein (e.g. `pip install python-Levenshtein`) to suppress this warning.\n",
      "  warnings.warn(msg)\n"
     ]
    }
   ],
   "source": [
    "# 설치되어 있지 않은 라이브러리 설치\n",
    "# !pip install torchtext\n",
    "# !pip install gensim\n",
    "# !pip install --ignore-installed hanja\n",
    "\n",
    "# !apt-get update\n",
    "# !apt-get install g++ openjdk-8-jdk python-dev python3-dev\n",
    "# !pip install JPype1-py3\n",
    "# !pip install konlpy\n",
    "# !JAVA_HOME=\"/usr/lib/jvm/java-8-openjdk-amd64\"\n",
    "\n",
    "# !sudo apt-get install curl\n",
    "# !bash <(curl -s https://raw.githubusercontent.com/konlpy/konlpy/master/scripts/mecab.sh)\n",
    "\n",
    "# 라이브러리 불러오기\n",
    "import numpy as np\n",
    "import pandas as pd\n",
    "import re, hanja\n",
    "\n",
    "import torch, torchtext\n",
    "from torchtext import data, datasets\n",
    "import konlpy\n",
    "from konlpy.tag import Okt # Kkma, Komoran, Mecab 등 다른 종류의 형태소분석기 사용 가능\n",
    "\n",
    "import random\n",
    "SEED = 1234\n",
    "\n",
    "from torchtext.vocab import Vectors\n",
    "from gensim.models.keyedvectors import KeyedVectors\n",
    "\n",
    "import numpy as np\n",
    "\n",
    "import torch.nn as nn\n",
    "from torch.nn.utils.rnn import pack_padded_sequence, pad_packed_sequence\n",
    "import torch.nn.functional as F\n",
    "import torch.optim as optim\n",
    "from tqdm import tqdm\n",
    "import time"
   ]
  },
  {
   "cell_type": "markdown",
   "metadata": {},
   "source": [
    "## 2. 데이터 전처리 준비"
   ]
  },
  {
   "cell_type": "code",
   "execution_count": 2,
   "metadata": {},
   "outputs": [],
   "source": [
    "# 토큰화 전 텍스트 내 불필요한 문자를 제거하는 함수\n",
    "# 여기서는 정규표현식(regular expression) 이용\n",
    "\n",
    "def cleanse_sentence(sent): \n",
    "    \n",
    "    # 문장 내 한자 제거\n",
    "    if re.search(\"[\\u2E80-\\u2FD5\\u3190-\\u319f\\u3400-\\u4DBF\\u4E00-\\u9FCC\\uF900-\\uFAAD]\", sent) is not None:\n",
    "        sent = hanja.translate(sent, 'substitution')\n",
    "        \n",
    "    # 문장 내 특수기호 제거\n",
    "    sent = (r'\\[[^\\]]+\\]|\\([^\\)]+\\)|\\<[^\\>]+\\>', '', str(sent))\n",
    "    sent = re.sub(\"[.,!?||]\", \" \", str(sent))\n",
    "    sent = re.sub(r'[^가-힣|\\s]', '', str(sent))\n",
    "    sent = re.sub(r'\\s+', ' ', str(sent)) \n",
    "    \n",
    "    return sent.rstrip()\n",
    "\n",
    "\n",
    "# 문장 토큰화 함수\n",
    "def tokenizer(text):\n",
    "    okt = Okt()\n",
    "    morphs_tokenized = []\n",
    "    for string in text:\n",
    "        # 위 함수를 적용하여 불필요한 한자, 특수기호 등 제거\n",
    "        string = cleanse_sentence(string)\n",
    "        # 미처 제거되지 못한 특수기호 마저 제거\n",
    "        string.replace(\"…\",\"\")\n",
    "        string.replace(\"ㆍ\",\"\")\n",
    "        # 형태소 분석기를 적용하여 문장 토큰화\n",
    "        morphs = okt.morphs(string)\n",
    "        # 분석된 토큰들 중 길이가 1보다 긴 것들만을 결과에 포함\n",
    "        morphs = [a for a in morphs if len(a) > 1]\n",
    "        morphs_tokenized += morphs\n",
    "        \n",
    "    return morphs_tokenized\n",
    "        "
   ]
  },
  {
   "cell_type": "markdown",
   "metadata": {},
   "source": [
    "## 3. torchtext를 이용해 데이터 불러오기"
   ]
  },
  {
   "cell_type": "markdown",
   "metadata": {},
   "source": [
    "### torchtext: PyTorch가 제공하는 텍스트 관련 기능들을 모은 라이브러리\n",
    "* from torchtext.legacy import data, datasets\n",
    "* from torchtext.vocab import Vectors 등\n",
    "* 파일 로드하기, 토큰화(tokenization), 사전(vocab) 구성, 단어->정수(integer) 인코딩, 단어 벡터 구성, 배치화(batching) 등\n",
    "* 주로 위에서 import한 'data'에서 하위 메서드를 불러와서 사용할 것임 (TabularDataset, BucketIterator 등)"
   ]
  },
  {
   "cell_type": "code",
   "execution_count": 3,
   "metadata": {},
   "outputs": [
    {
     "data": {
      "text/html": [
       "<div>\n",
       "<style scoped>\n",
       "    .dataframe tbody tr th:only-of-type {\n",
       "        vertical-align: middle;\n",
       "    }\n",
       "\n",
       "    .dataframe tbody tr th {\n",
       "        vertical-align: top;\n",
       "    }\n",
       "\n",
       "    .dataframe thead th {\n",
       "        text-align: right;\n",
       "    }\n",
       "</style>\n",
       "<table border=\"1\" class=\"dataframe\">\n",
       "  <thead>\n",
       "    <tr style=\"text-align: right;\">\n",
       "      <th></th>\n",
       "      <th>filename</th>\n",
       "      <th>date</th>\n",
       "      <th>NewsPaper</th>\n",
       "      <th>Topic</th>\n",
       "      <th>News</th>\n",
       "    </tr>\n",
       "  </thead>\n",
       "  <tbody>\n",
       "    <tr>\n",
       "      <th>0</th>\n",
       "      <td>NLRW1900000024</td>\n",
       "      <td>20120209</td>\n",
       "      <td>경기일보</td>\n",
       "      <td>IT/과학</td>\n",
       "      <td>&lt;p&gt; 인터넷 게임 족쇄에 도내 업체도 ‘덜덜’ &lt;/p&gt; &lt;p&gt; 道ㆍ업체 \"긍정적인...</td>\n",
       "    </tr>\n",
       "    <tr>\n",
       "      <th>1</th>\n",
       "      <td>NLRW1900000029</td>\n",
       "      <td>20171018</td>\n",
       "      <td>경기일보</td>\n",
       "      <td>IT/과학</td>\n",
       "      <td>&lt;p&gt; 삼성전자, UN에 삼성만의 특화된 생태 보전 활동 자랑하다생물다양성 보존활동...</td>\n",
       "    </tr>\n",
       "    <tr>\n",
       "      <th>2</th>\n",
       "      <td>NLRW1900000029</td>\n",
       "      <td>20170920</td>\n",
       "      <td>경기일보</td>\n",
       "      <td>IT/과학</td>\n",
       "      <td>&lt;p&gt; 지자체의 ‘카카오채널’, 도민들 관심 부족으로 폐쇄되거나 운영 부실 &lt;/p&gt;...</td>\n",
       "    </tr>\n",
       "    <tr>\n",
       "      <th>3</th>\n",
       "      <td>NLRW1900000025</td>\n",
       "      <td>20130218</td>\n",
       "      <td>경기일보</td>\n",
       "      <td>IT/과학</td>\n",
       "      <td>&lt;p&gt; 돈만 잡아먹는 홈페이지, 과감하게 ‘로그아웃’ &lt;/p&gt; &lt;p&gt; 경기도가 연간...</td>\n",
       "    </tr>\n",
       "    <tr>\n",
       "      <th>4</th>\n",
       "      <td>NLRW1900000028</td>\n",
       "      <td>20160314</td>\n",
       "      <td>경기일보</td>\n",
       "      <td>IT/과학</td>\n",
       "      <td>&lt;p&gt; 콘텐츠기업 대상 ‘부천 클러스터’ 입주사 모집 &lt;/p&gt; &lt;p&gt; 경기콘텐츠진흥...</td>\n",
       "    </tr>\n",
       "  </tbody>\n",
       "</table>\n",
       "</div>"
      ],
      "text/plain": [
       "         filename      date NewsPaper  Topic  \\\n",
       "0  NLRW1900000024  20120209      경기일보  IT/과학   \n",
       "1  NLRW1900000029  20171018      경기일보  IT/과학   \n",
       "2  NLRW1900000029  20170920      경기일보  IT/과학   \n",
       "3  NLRW1900000025  20130218      경기일보  IT/과학   \n",
       "4  NLRW1900000028  20160314      경기일보  IT/과학   \n",
       "\n",
       "                                                News  \n",
       "0  <p> 인터넷 게임 족쇄에 도내 업체도 ‘덜덜’ </p> <p> 道ㆍ업체 \"긍정적인...  \n",
       "1  <p> 삼성전자, UN에 삼성만의 특화된 생태 보전 활동 자랑하다생물다양성 보존활동...  \n",
       "2  <p> 지자체의 ‘카카오채널’, 도민들 관심 부족으로 폐쇄되거나 운영 부실 </p>...  \n",
       "3  <p> 돈만 잡아먹는 홈페이지, 과감하게 ‘로그아웃’ </p> <p> 경기도가 연간...  \n",
       "4  <p> 콘텐츠기업 대상 ‘부천 클러스터’ 입주사 모집 </p> <p> 경기콘텐츠진흥...  "
      ]
     },
     "execution_count": 3,
     "metadata": {},
     "output_type": "execute_result"
    }
   ],
   "source": [
    "# 데이터 예시\n",
    "temp_df = pd.read_csv('BalancedNewsCorpusShuffled/BalancedNewsCorpus_test.csv', encoding='utf-8')\n",
    "temp_df.head(5)"
   ]
  },
  {
   "cell_type": "code",
   "execution_count": 4,
   "metadata": {},
   "outputs": [
    {
     "name": "stderr",
     "output_type": "stream",
     "text": [
      "/opt/conda/lib/python3.7/site-packages/ipykernel_launcher.py:12: FutureWarning: Possible set union at position 5\n",
      "  if sys.path[0] == '':\n"
     ]
    }
   ],
   "source": [
    "# torchtext 필드 선언\n",
    "# 필드: 데이터에 대해 앞으로 어떤 전처리를 할 것인지 정의하기 위한 도구\n",
    "TEXT = data.Field(preprocessing=tokenizer, include_lengths=True, batch_first=True, sequential=True)\n",
    "LABEL = data.LabelField(dtype=torch.long)\n",
    "\n",
    "data_fields = [(\"filename\", None), (\"date\", None), (\"NewsPaper\", None), ('Topic', LABEL), ('News', TEXT)]\n",
    "\n",
    "# 데이터 불러오기\n",
    "train_data, test_data = data.TabularDataset.splits(path ='BalancedNewsCorpusShuffled', \n",
    "                                                   train='BalancedNewsCorpus_train.csv',\n",
    "                                                   test='BalancedNewsCorpus_test.csv',\n",
    "                                                   format='csv',\n",
    "                                                   fields=data_fields,\n",
    "                                                   skip_header=True\n",
    "                                                  )"
   ]
  },
  {
   "cell_type": "code",
   "execution_count": 5,
   "metadata": {},
   "outputs": [
    {
     "name": "stdout",
     "output_type": "stream",
     "text": [
      "NUMBER of TRAIN data: 9000\n",
      "NUMBER of TEST data: 1800\n"
     ]
    }
   ],
   "source": [
    "print('NUMBER of TRAIN data:', len(train_data))\n",
    "print('NUMBER of TEST data:', len(test_data))"
   ]
  },
  {
   "cell_type": "code",
   "execution_count": 6,
   "metadata": {},
   "outputs": [],
   "source": [
    "# 아래 분류 모델에서 사용할 수 있는 형태로 변환\n",
    "BATCH_SIZE = 64\n",
    "device = torch.device('cuda' if torch.cuda.is_available() else 'cpu')\n",
    "\n",
    "train_iterator, test_iterator = data.BucketIterator.splits((train_data, test_data), \n",
    "                                                           sort_key=lambda x: len(x.News),\n",
    "                                                          sort_within_batch=False,\n",
    "                                                           repeat=False,\n",
    "                                                          batch_size=BATCH_SIZE, \n",
    "                                                           device=device)"
   ]
  },
  {
   "cell_type": "markdown",
   "metadata": {},
   "source": [
    "### 토큰화된 기사 예시"
   ]
  },
  {
   "cell_type": "code",
   "execution_count": 7,
   "metadata": {},
   "outputs": [
    {
     "name": "stdout",
     "output_type": "stream",
     "text": [
      "{'Topic': '스포츠', 'News': ['모처럼', '살아난', '타점', '합작', '진입', '놓고', '혈전', '벌이', '있는', '와의', '나무', '다리', '결투', '먼저', '웃었다', '광주', '구장', '에서', '열린', '프로야구', '와의', '시즌', '차전서', '김상현', '최희섭', '홈런', '포함', '장단', '안타', '퍼부은', '선의', '활약', '입어', '으로', '완승', '연승', '달렸다', '시즌', '전적', '승리', '치고', '위로', '올라섰다', '두산', '꺾은', '롯데', '와는', '기차', '유지', '됐다', '지난', '시즌', '한국', '시리즈', '우승', '원동력', '하나', '였던', '김상현', '최희섭', '쌍포', '가동', '으로', '부활', '알렸다', '김상현', '지난달', '롯데', '복귀전', '홈런', '이후', '경기', '만에', '대포', '가동', '하는', '안타', '타점', '최희섭', '지난달', '롯데', '이후', '경기', '만에', '홈런', '신고', '하는', '안타', '타점', '기록', '둘이서', '타점', '합작', '하며', '승리', '이끌었다', '선발', '등판', '양현종', '이닝', '동안', '안타', '탈삼진', '실점', '으로', '시즌', '승패', '기록', '하며', '역시', '올린', '한화', '류현진', '함께', '동위', '자리', '지켰다', '통쾌한', '선제', '포로', '초반', '기선', '제압', '했다', '회말', '선두', '타자', '최희섭', '볼넷', '골라', '출루', '타석', '나선', '김상현', '상대', '선발', '김광삼', '슬라이더', '통타', '좌측', '담장', '넘기는', '투런아치호', '쏘아', '올리며', '선취', '안겼다', '하지만', '리드', '잠시', '회초', '볼넷', '실책', '으로', '내준', '이택근', '스리', '홈런', '호을', '허용', '역전', '당했다', '순식간', '리드', '뺏긴', '회말', '이용규', '볼넷', '출루', '도루', '성공', '신종길', '루타', '득점', '찬스', '만들었고', '상황', '최희섭', '땅볼', '이용규', '밟아', '승부', '원점', '으로', '되돌렸다', '계속', '찬스', '김상현', '좌전', '적시타', '때려', '다시', '승부', '뒤집었다', '회말', '사후', '최희섭', '솔로', '포호', '회말', '이용규', '타점', '적시타', '점수', '으로', '벌렸고', '회말', '만루', '안치홍', '퀴즈', '번트', '성공', '으로', '보태', '면서', '승부', '쐐기', '박았다', '회말', '에도', '사후', '최희섭', '타점', '루타', '이현곤', '타점', '적시타', '김상훈', '타점', '적시타', '으로', '대거', '득점', '하면서', '승부', '결정', '지었다']}\n"
     ]
    }
   ],
   "source": [
    "# training data의 4번째 데이터 확인\n",
    "print(vars(train_data.examples[3]))"
   ]
  },
  {
   "cell_type": "markdown",
   "metadata": {},
   "source": [
    "### 데이터 본문을 이루는 단어들로 사전 구성"
   ]
  },
  {
   "cell_type": "code",
   "execution_count": 8,
   "metadata": {},
   "outputs": [],
   "source": [
    "MAX_VOCAB_SIZE = 25_000\n",
    "\n",
    "# 본문 사전 구성\n",
    "TEXT.build_vocab(train_data, max_size = MAX_VOCAB_SIZE)\n",
    "\n",
    "# label (뉴스 기사 범주) 사전 구성\n",
    "LABEL.build_vocab(train_data)"
   ]
  },
  {
   "cell_type": "code",
   "execution_count": 9,
   "metadata": {},
   "outputs": [
    {
     "name": "stdout",
     "output_type": "stream",
     "text": [
      "['<unk>', '<pad>', '으로', '했다', '에서', '하는', '이다', '있다', '하고', '있는']\n"
     ]
    }
   ],
   "source": [
    "print(TEXT.vocab.itos[:10])"
   ]
  },
  {
   "cell_type": "code",
   "execution_count": 10,
   "metadata": {},
   "outputs": [
    {
     "name": "stdout",
     "output_type": "stream",
     "text": [
      "defaultdict(None, {'IT/과학': 0, '경제': 1, '문화': 2, '미용/건강': 3, '사회': 4, '생활': 5, '스포츠': 6, '연예': 7, '정치': 8})\n"
     ]
    }
   ],
   "source": [
    "print(LABEL.vocab.stoi)"
   ]
  },
  {
   "cell_type": "markdown",
   "metadata": {},
   "source": [
    "## 4. 사전학습된 임베딩 모델 불러오기\n",
    "### FastText 형태소 모델 사용"
   ]
  },
  {
   "cell_type": "code",
   "execution_count": 11,
   "metadata": {},
   "outputs": [],
   "source": [
    "# 미리 저장해 둔 FastText 모델 불러오기\n",
    "from gensim.models.keyedvectors import KeyedVectors\n",
    "fasttext_model = KeyedVectors.load_word2vec_format('fasttext_morph_300.model', binary=False, encoding='utf-8')"
   ]
  },
  {
   "cell_type": "code",
   "execution_count": 12,
   "metadata": {},
   "outputs": [
    {
     "name": "stdout",
     "output_type": "stream",
     "text": [
      "Total NUMBER of VOCABS: 14356\n"
     ]
    }
   ],
   "source": [
    "i = 0\n",
    "w2vec = []\n",
    "# 위에서 구성한 본문 사전에 있는 단어들에 FastText 임베딩을 매칭시키는 과정\n",
    "for token, idx in TEXT.vocab.stoi.items():\n",
    "    if token in fasttext_model.key_to_index.keys():  # gensim 3.x까지는 fasttext_model.vocab.keys()\n",
    "        w2vec.append(fasttext_model[token])  \n",
    "        i+=1\n",
    "    else:\n",
    "        # 단어가 FastText 임베딩 모델에 없는 단어일 경우 랜덤한 300개의 숫자로 임베딩을 구성\n",
    "        w2vec.append(0.01*np.random.randn(300))\n",
    "\n",
    "pretrained_embeddings = torch.FloatTensor(w2vec)\n",
    "print('Total NUMBER of VOCABS:', i)"
   ]
  },
  {
   "cell_type": "code",
   "execution_count": 13,
   "metadata": {},
   "outputs": [
    {
     "name": "stdout",
     "output_type": "stream",
     "text": [
      "torch.Size([25002, 300])\n"
     ]
    }
   ],
   "source": [
    "# 위에서 설정한 25,000개의 단어와 <pad>, <unk>를 합하여 25,002개의 단어의 임베딩을 얻음\n",
    "print(pretrained_embeddings.shape)"
   ]
  },
  {
   "cell_type": "markdown",
   "metadata": {},
   "source": [
    "## 5. 기사 분류 모델 구축하기\n",
    "### 5.1. RNN 모델 사용 "
   ]
  },
  {
   "cell_type": "code",
   "execution_count": 14,
   "metadata": {},
   "outputs": [],
   "source": [
    "class RNN(nn.Module):\n",
    "    def __init__(self, vocab_size, embedding_dim, hidden_dim, output_dim, n_layers, bidirectional, dropout, pad_idx):\n",
    "        \n",
    "        super().__init__()\n",
    "        \n",
    "        self.embedding = nn.Embedding(vocab_size, embedding_dim)\n",
    "        \n",
    "        self.rnn = nn.LSTM(embedding_dim, hidden_dim, num_layers=n_layers, bidirectional=bidirectional, \n",
    "                           dropout=dropout, batch_first=True)\n",
    "\n",
    "        self.fc = nn.Linear(hidden_dim * 2, output_dim)\n",
    "        \n",
    "        self.dropout = nn.Dropout(dropout)\n",
    "        \n",
    "    def forward(self, text):\n",
    "        \n",
    "        embedded = self.dropout(self.embedding(text))\n",
    "\n",
    "        output, (hidden, cell) = self.rnn(embedded)\n",
    "        \n",
    "        hidden = self.dropout(torch.cat((hidden[-2,:,:], hidden[-1,:,:]), dim = 1))\n",
    "                \n",
    "        return self.fc(hidden)"
   ]
  },
  {
   "cell_type": "code",
   "execution_count": 15,
   "metadata": {},
   "outputs": [
    {
     "name": "stderr",
     "output_type": "stream",
     "text": [
      "/opt/conda/lib/python3.7/site-packages/torch/nn/modules/rnn.py:50: UserWarning: dropout option adds dropout after all but last recurrent layer, so non-zero dropout expects num_layers greater than 1, but got dropout=0.5 and num_layers=1\n",
      "  \"num_layers={}\".format(dropout, num_layers))\n"
     ]
    }
   ],
   "source": [
    "# Model hyper-parameters\n",
    "\n",
    "INPUT_DIM = len(TEXT.vocab)\n",
    "EMBEDDING_DIM = 300\n",
    "HIDDEN_DIM = 256\n",
    "OUTPUT_DIM = 9  # 정답 범주(label)의 개수\n",
    "N_LAYERS = 1 \n",
    "BIDIRECTIONAL = True\n",
    "DROPOUT = 0.5\n",
    "PAD_IDX = TEXT.vocab.stoi[TEXT.pad_token]\n",
    "\n",
    "model_rnn = RNN(INPUT_DIM, EMBEDDING_DIM, HIDDEN_DIM, OUTPUT_DIM, N_LAYERS, BIDIRECTIONAL, DROPOUT, PAD_IDX)"
   ]
  },
  {
   "cell_type": "markdown",
   "metadata": {},
   "source": [
    "### 위 4에서 구성한 단어 임베딩을 RNN 모델에 결합"
   ]
  },
  {
   "cell_type": "code",
   "execution_count": 16,
   "metadata": {},
   "outputs": [
    {
     "data": {
      "text/plain": [
       "tensor([[-4.7797e-03, -1.0752e-02,  1.2671e-02,  ...,  3.4374e-03,\n",
       "         -7.3378e-03,  1.8026e-02],\n",
       "        [ 3.9354e-03, -6.1916e-03,  9.5328e-03,  ...,  9.4941e-03,\n",
       "          2.7002e-02, -1.2536e-02],\n",
       "        [-3.5333e-01, -1.3169e+00,  8.0137e-01,  ...,  2.7663e-01,\n",
       "         -4.8837e-01, -1.1233e-02],\n",
       "        ...,\n",
       "        [ 6.3465e-03,  9.0572e-03, -1.1102e-02,  ...,  2.4965e-03,\n",
       "          7.4810e-03,  1.5614e-02],\n",
       "        [ 9.6836e-03, -9.7325e-04, -7.0971e-03,  ..., -1.0635e-02,\n",
       "         -1.8355e-03,  7.7656e-03],\n",
       "        [-6.6842e-04,  9.7742e-03, -3.5897e-03,  ...,  9.7389e-04,\n",
       "          1.7294e-02,  6.5750e-03]])"
      ]
     },
     "execution_count": 16,
     "metadata": {},
     "output_type": "execute_result"
    }
   ],
   "source": [
    "model_rnn.embedding.weight.data.copy_(pretrained_embeddings)"
   ]
  },
  {
   "cell_type": "code",
   "execution_count": 17,
   "metadata": {},
   "outputs": [],
   "source": [
    "# UNK, PAD 토큰 처리 (zero vector로 초기화)\n",
    "\n",
    "UNK_IDX = TEXT.vocab.stoi[TEXT.unk_token]\n",
    "\n",
    "model_rnn.embedding.weight.data[UNK_IDX] = torch.zeros(EMBEDDING_DIM)\n",
    "model_rnn.embedding.weight.data[PAD_IDX] = torch.zeros(EMBEDDING_DIM)"
   ]
  },
  {
   "cell_type": "code",
   "execution_count": 18,
   "metadata": {},
   "outputs": [
    {
     "name": "stdout",
     "output_type": "stream",
     "text": [
      "The model has 8,648,001 trainable parameters\n"
     ]
    }
   ],
   "source": [
    "# 분류 모델이 학습하는 패러미터의 수\n",
    "\n",
    "def count_parameters(model):\n",
    "    return sum(p.numel() for p in model.parameters() if p.requires_grad)\n",
    "\n",
    "print(f'The model has {count_parameters(model_rnn):,} trainable parameters')"
   ]
  },
  {
   "cell_type": "markdown",
   "metadata": {},
   "source": [
    "### 분류 모델 학습, 평가하기"
   ]
  },
  {
   "cell_type": "code",
   "execution_count": 19,
   "metadata": {},
   "outputs": [],
   "source": [
    "# 학습의 속도, 안정성 등을 최적화하기 위한 optimizer 설정\n",
    "optimizer = optim.Adam(model_rnn.parameters())\n",
    "\n",
    "# GPU가 있다면 GPU에서 모델 학습 및 평가 \n",
    "device = torch.device('cuda' if torch.cuda.is_available() else 'cpu')\n",
    "\n",
    "# 모델의 성능을 평가하기 위해 cross entropy loss 사용\n",
    "criterion = nn.CrossEntropyLoss()\n",
    "\n",
    "# 분류 모델과 loss 모델을 GPU(또는 CPU)에 세팅\n",
    "model_rnn = model_rnn.to(device)\n",
    "criterion = criterion.to(device)"
   ]
  },
  {
   "cell_type": "code",
   "execution_count": 20,
   "metadata": {},
   "outputs": [],
   "source": [
    "# 모델 학습을 위한 함수\n",
    "def train(model, iterator, optimizer, criterion):\n",
    "    \n",
    "    epoch_loss = 0\n",
    "    epoch_acc = 0\n",
    "    total = 0\n",
    "    \n",
    "    model.train()\n",
    "    \n",
    "    for batch in iterator:\n",
    "        \n",
    "        optimizer.zero_grad()\n",
    "        batch.News = batch.News[0].cuda()\n",
    "        batch.Topic = batch.Topic.cuda()\n",
    "        \n",
    "        predictions = model(batch.News).squeeze(1)\n",
    "        \n",
    "        loss = criterion(predictions, batch.Topic)\n",
    "\n",
    "        _, predicted = torch.max(predictions.data, 1)\n",
    "        \n",
    "        loss.backward()\n",
    "        \n",
    "        optimizer.step()\n",
    "        \n",
    "        epoch_loss += loss.item()\n",
    "        total += batch.Topic.size(0)\n",
    "        epoch_acc += (predicted == batch.Topic).sum().item()\n",
    "        \n",
    "    return epoch_loss, epoch_acc / total"
   ]
  },
  {
   "cell_type": "code",
   "execution_count": 21,
   "metadata": {},
   "outputs": [],
   "source": [
    "# 모델 평가를 위한 함수\n",
    "def evaluate(model, iterator, criterion):\n",
    "    \n",
    "    epoch_loss = 0\n",
    "    epoch_acc = 0\n",
    "    total = 0\n",
    "    \n",
    "    model.eval()\n",
    "\n",
    "    with torch.no_grad():\n",
    "        for batch in iterator:\n",
    "            batch.News = batch.News[0].cuda()\n",
    "            batch.Topic = batch.Topic.cuda()\n",
    "            predictions = model(batch.News).squeeze(1)\n",
    "            \n",
    "            loss = criterion(predictions, batch.Topic)\n",
    "            \n",
    "            _, predicted = torch.max(predictions.data, 1)\n",
    "\n",
    "            epoch_loss += loss.item()\n",
    "            total += batch.Topic.size(0)\n",
    "            epoch_acc += (predicted == batch.Topic).sum().item()\n",
    "        \n",
    "    return epoch_loss, epoch_acc / total"
   ]
  },
  {
   "cell_type": "code",
   "execution_count": 22,
   "metadata": {},
   "outputs": [],
   "source": [
    "import time\n",
    "\n",
    "def epoch_time(start_time, end_time):\n",
    "    elapsed_time = end_time - start_time\n",
    "    elapsed_mins = int(elapsed_time / 60)\n",
    "    elapsed_secs = int(elapsed_time - (elapsed_mins * 60))\n",
    "    return elapsed_mins, elapsed_secs"
   ]
  },
  {
   "cell_type": "code",
   "execution_count": 23,
   "metadata": {},
   "outputs": [
    {
     "name": "stdout",
     "output_type": "stream",
     "text": [
      "Epoch: 01 | Epoch Time: 0m 9s\n",
      "\tTrain Loss: 202.043 | Train Acc: 51.20%\n",
      "\t Test Loss: 42.524 |  Test Acc: 49.44%\n",
      "Epoch: 02 | Epoch Time: 0m 9s\n",
      "\tTrain Loss: 128.340 | Train Acc: 69.89%\n",
      "\t Test Loss: 49.854 |  Test Acc: 43.28%\n",
      "Epoch: 03 | Epoch Time: 0m 9s\n",
      "\tTrain Loss: 112.725 | Train Acc: 73.59%\n",
      "\t Test Loss: 45.289 |  Test Acc: 48.50%\n",
      "Epoch: 04 | Epoch Time: 0m 8s\n",
      "\tTrain Loss: 89.931 | Train Acc: 78.22%\n",
      "\t Test Loss: 47.422 |  Test Acc: 54.28%\n",
      "Epoch: 05 | Epoch Time: 0m 8s\n",
      "\tTrain Loss: 72.491 | Train Acc: 82.77%\n",
      "\t Test Loss: 54.152 |  Test Acc: 51.39%\n",
      "Epoch: 06 | Epoch Time: 0m 8s\n",
      "\tTrain Loss: 60.943 | Train Acc: 85.51%\n",
      "\t Test Loss: 47.304 |  Test Acc: 54.61%\n",
      "Epoch: 07 | Epoch Time: 0m 9s\n",
      "\tTrain Loss: 46.762 | Train Acc: 89.09%\n",
      "\t Test Loss: 53.396 |  Test Acc: 58.61%\n",
      "Epoch: 08 | Epoch Time: 0m 9s\n",
      "\tTrain Loss: 40.711 | Train Acc: 90.39%\n",
      "\t Test Loss: 44.548 |  Test Acc: 59.00%\n",
      "Epoch: 09 | Epoch Time: 0m 8s\n",
      "\tTrain Loss: 34.481 | Train Acc: 92.17%\n",
      "\t Test Loss: 71.053 |  Test Acc: 56.50%\n",
      "Epoch: 10 | Epoch Time: 0m 8s\n",
      "\tTrain Loss: 30.470 | Train Acc: 92.89%\n",
      "\t Test Loss: 50.499 |  Test Acc: 60.78%\n",
      "Epoch: 11 | Epoch Time: 0m 8s\n",
      "\tTrain Loss: 22.550 | Train Acc: 94.77%\n",
      "\t Test Loss: 46.107 |  Test Acc: 63.22%\n",
      "Epoch: 12 | Epoch Time: 0m 8s\n",
      "\tTrain Loss: 17.397 | Train Acc: 95.97%\n",
      "\t Test Loss: 56.956 |  Test Acc: 61.39%\n",
      "Epoch: 13 | Epoch Time: 0m 8s\n",
      "\tTrain Loss: 17.830 | Train Acc: 95.93%\n",
      "\t Test Loss: 51.516 |  Test Acc: 65.11%\n",
      "Epoch: 14 | Epoch Time: 0m 8s\n",
      "\tTrain Loss: 11.562 | Train Acc: 97.52%\n",
      "\t Test Loss: 52.381 |  Test Acc: 65.28%\n",
      "Epoch: 15 | Epoch Time: 0m 8s\n",
      "\tTrain Loss: 9.352 | Train Acc: 97.97%\n",
      "\t Test Loss: 51.644 |  Test Acc: 66.33%\n",
      "Epoch: 16 | Epoch Time: 0m 8s\n",
      "\tTrain Loss: 8.768 | Train Acc: 98.12%\n",
      "\t Test Loss: 61.368 |  Test Acc: 65.56%\n",
      "Epoch: 17 | Epoch Time: 0m 8s\n",
      "\tTrain Loss: 7.856 | Train Acc: 98.26%\n",
      "\t Test Loss: 60.873 |  Test Acc: 58.89%\n",
      "Epoch: 18 | Epoch Time: 0m 8s\n",
      "\tTrain Loss: 9.288 | Train Acc: 98.19%\n",
      "\t Test Loss: 54.671 |  Test Acc: 66.56%\n",
      "Epoch: 19 | Epoch Time: 0m 8s\n",
      "\tTrain Loss: 5.685 | Train Acc: 98.90%\n",
      "\t Test Loss: 58.575 |  Test Acc: 66.06%\n",
      "Epoch: 20 | Epoch Time: 0m 7s\n",
      "\tTrain Loss: 4.633 | Train Acc: 99.13%\n",
      "\t Test Loss: 51.864 |  Test Acc: 65.50%\n"
     ]
    }
   ],
   "source": [
    "N_EPOCHS = 20\n",
    "\n",
    "best_test_loss = float('inf')\n",
    "best_test_acc = 0\n",
    "\n",
    "train_loss = [0 for i in range(N_EPOCHS)]\n",
    "train_acc =[0 for i in range(N_EPOCHS)]\n",
    "test_loss = [0 for i in range(N_EPOCHS)]\n",
    "test_acc = [0 for i in range(N_EPOCHS)]\n",
    "\n",
    "i = 0\n",
    "\n",
    "for epoch in range(N_EPOCHS):\n",
    "\n",
    "    start_time = time.time()\n",
    "\n",
    "    # training data를 이용해 모델 학습\n",
    "    train_loss[i], train_acc[i] = train(model_rnn, train_iterator, optimizer, criterion)\n",
    "    # test data를 이용해 모델 평가\n",
    "    test_loss[i], test_acc[i] = evaluate(model_rnn, test_iterator, criterion)\n",
    "    \n",
    "    end_time = time.time()\n",
    "\n",
    "    epoch_mins, epoch_secs = epoch_time(start_time, end_time)\n",
    "    \n",
    "    # 모델 평가: 각 epoch에서 얻은 최고 성능을 저장\n",
    "    if test_loss[i] < best_test_loss:\n",
    "        best_test_loss = test_loss[i]\n",
    "    \n",
    "    if test_acc[i] > best_test_acc:\n",
    "        best_test_acc = test_acc[i]\n",
    "    \n",
    "    print(f'Epoch: {epoch+1:02} | Epoch Time: {epoch_mins}m {epoch_secs}s')\n",
    "    print(f'\\tTrain Loss: {train_loss[i]:.3f} | Train Acc: {train_acc[i]*100:.2f}%')\n",
    "    print(f'\\t Test Loss: {test_loss[i]:.3f} |  Test Acc: {test_acc[i]*100:.2f}%')\n",
    "\n",
    "    i+=1"
   ]
  },
  {
   "cell_type": "code",
   "execution_count": 24,
   "metadata": {},
   "outputs": [],
   "source": [
    "rnn_results = [test_loss, train_loss, test_acc, train_acc]"
   ]
  },
  {
   "cell_type": "code",
   "execution_count": 25,
   "metadata": {},
   "outputs": [
    {
     "data": {
      "image/png": "[encoded data removed]",
      "text/plain": [
       "<Figure size 720x360 with 1 Axes>"
      ]
     },
     "metadata": {
      "needs_background": "light"
     },
     "output_type": "display_data"
    },
    {
     "data": {
      "image/png": "[encoded data removed]",
      "text/plain": [
       "<Figure size 720x360 with 1 Axes>"
      ]
     },
     "metadata": {
      "needs_background": "light"
     },
     "output_type": "display_data"
    },
    {
     "name": "stdout",
     "output_type": "stream",
     "text": [
      "Best Test Acc: 66.56%    (Test Loss: 42.524)\n"
     ]
    }
   ],
   "source": [
    "import matplotlib.pyplot as plt\n",
    "\n",
    "def P_graph(test_loss, train_loss, test_acc, train_acc):\n",
    "    plt.figure(figsize=(10, 5))\n",
    "    x = range(1,N_EPOCHS+1)\n",
    "    y_te = test_loss\n",
    "    plt.plot(x,y_te,marker='o',label='Test Loss')\n",
    "    y_tr = train_loss\n",
    "    plt.plot(x,y_tr,marker='o',label='Train Loss')\n",
    "    plt.xlabel(\"EPOCHS\")\n",
    "    plt.ylabel(\"Loss\")\n",
    "    plt.legend()\n",
    "    plt.grid(True)\n",
    "    plt.show()   \n",
    "    \n",
    "    plt.figure(figsize=(10, 5))\n",
    "    x = range(1,N_EPOCHS+1)\n",
    "    y_te = test_acc\n",
    "    plt.plot(x,y_te,marker='o',label='Test Acc.')\n",
    "    y_tr = train_acc\n",
    "    plt.plot(x,y_tr,marker='o',label='Train Acc.')\n",
    "    plt.xlabel(\"EPOCHS\")\n",
    "    plt.ylabel(\"Accuracy\")\n",
    "    plt.legend()\n",
    "    plt.grid(True)\n",
    "    plt.show()\n",
    "\n",
    "P_graph(rnn_results[0], rnn_results[1], rnn_results[2], rnn_results[3])\n",
    "print(f'Best Test Acc: {best_test_acc*100:.2f}%    (Test Loss: {best_test_loss:.3f})')"
   ]
  },
  {
   "cell_type": "markdown",
   "metadata": {},
   "source": [
    "### 분류 모델 테스트"
   ]
  },
  {
   "cell_type": "code",
   "execution_count": 26,
   "metadata": {},
   "outputs": [],
   "source": [
    "def predict_news(model, sentence, min_len=5):\n",
    "    model.eval()\n",
    "\n",
    "    tokenized = [tok for tok in tokenizer(sentence.split())]\n",
    "    \n",
    "    if len(tokenized) < min_len:\n",
    "      tokenized += ['<pad>'] * (min_len - len(tokenized))\n",
    "\n",
    "    indexed = [TEXT.vocab.stoi[t] for t in tokenized]\n",
    "    tensor = torch.LongTensor(indexed).unsqueeze(0).to(device)\n",
    "    prediction = torch.sigmoid(model(tensor))\n",
    "    out = torch.mean(prediction, 0)\n",
    "    news_label = torch.max(out, 0)\n",
    "    \n",
    "    return {'Predicted Label': LABEL.vocab.itos[int(news_label.indices)], 'Sentence': sentence}"
   ]
  },
  {
   "cell_type": "code",
   "execution_count": 28,
   "metadata": {},
   "outputs": [
    {
     "name": "stdout",
     "output_type": "stream",
     "text": [
      "{'Predicted Label': '미용/건강', 'Sentence': '차진 식감과 부드러운 감촉을 모두 지닌 식빵, 결결이 찢어지는 크루아상, 둥글고 크게 구운 호밀빵 모두 모양새부터 알차고 단단했다. 디저트로 눈을 옮기면 국가 대표팀같이 뭐 하나 빼놓을 수 없는 케이크가 나란히 줄을 서 있었다.'}\n",
      "{'Predicted Label': '경제', 'Sentence': '정부는 2012년 예산의 공고안과 배정계획을 1월3일 국무회의에서 의결하고 연초부터 바로 집행에 들어간다. 세계 경제의 불확실성이 높아지고 경기가 둔화할 가능성이 높은 만큼 조기 집행에 박차를 가할 예정이다'}\n",
      "{'Predicted Label': '사회', 'Sentence': '국세청은 특히 서민생활에 피해를 주면서 폭리를 취하는 매점매석 농수산물 유통업체 등에 대한 추적조사를 강화하고, 지방청에 ‘민생침해 사업자 조사전담팀’을 꾸려 민생침해 탈세자에 대한 엄정 대응에 나설 계획이라고 밝혔다'}\n"
     ]
    }
   ],
   "source": [
    "sentence = []\n",
    "sentence.append(\"차진 식감과 부드러운 감촉을 모두 지닌 식빵, 결결이 찢어지는 크루아상, 둥글고 크게 구운 호밀빵 모두 모양새부터 알차고 단단했다. 디저트로 눈을 옮기면 국가 대표팀같이 뭐 하나 빼놓을 수 없는 케이크가 나란히 줄을 서 있었다.\")\n",
    "sentence.append(\"정부는 2012년 예산의 공고안과 배정계획을 1월3일 국무회의에서 의결하고 연초부터 바로 집행에 들어간다. 세계 경제의 불확실성이 높아지고 경기가 둔화할 가능성이 높은 만큼 조기 집행에 박차를 가할 예정이다\")\n",
    "sentence.append(\"국세청은 특히 서민생활에 피해를 주면서 폭리를 취하는 매점매석 농수산물 유통업체 등에 대한 추적조사를 강화하고, 지방청에 ‘민생침해 사업자 조사전담팀’을 꾸려 민생침해 탈세자에 대한 엄정 대응에 나설 계획이라고 밝혔다\")\n",
    "sentence.append(\"26일 제25회 부산국제영화제 갈라 프레젠테이션 부문 초청작 '스파이의 아내' 온라인 기자회견이 진행됐다. 작품을 연출한 구로사와 감독이 참석해 작품에 대한 이야기를 나눴다.\")\n",
    "sentence.append(\"70대 운전사가 몰던 25인승 어린이 통학버스가 주유소로 돌진해 차량 3대를 들이 받았다. 다행히 통학버스에 운전자 외에는 탑승자가 없어 큰 인명피해는 피했다. 운전자는 차량 결함을 주장하고 있으나, 경찰은 운전자 과실 여부도 조사 중이다.\")\n",
    "sentence.append(\"토트넘이 손흥민에게 주급 20만 파운드(약 3억원)-5년 재계약을 제안할 준비를 마쳤다.' 25일(한국시각) 영국 대중일간 더선의 헤드라인이다. 조제 무리뉴 토트넘 감독이 번리전을 앞두고 기자회견을 통해 구단에 토트넘에서의 손흥민의 장밋빛 미래를 확신하며 재계약을 요청한 직후 영국 현지 언론에선 손흥민 재계약 보도가 쏟아지고 있다.\")\n",
    "sentence.append(\"공연은 말 그대로 다채로움 그 자체였다. 발레극인지, 현대무용극인지, 전통극인지, 연극인지, 연극이면 다인극인지 1인극인지 모를 정도로 다양한 장르의 결합이 먼저 눈에 띈다.\")\n",
    "sentence.append(\"발이 아프면 걷는 자세가 나빠지고 자연스럽게 무릎, 골반, 허리에 이상이 생길 수 있다. 이를 예방하려면 평소 발바닥 근육을 스트레칭하고 강화하는 운동을 지속하는 게 중요하다.\")\n",
    "sentence.append(\"전기차 화재 사고가 연이어 발생하는 가운데 불타지 않는 SK이노베이션 배터리가 주목받는다. SK이노베이션의 배터리는 글로벌 배터리 업체 중 유일하게 단 한건의 화재도 일어나지 않았다. 이같은 비결이 자동차 안정성을 결정짓는 분리막 내재화에 있다는 평가가 나온다.\")\n",
    "\n",
    "raw_data = {'Labels': ['생활','정치','경제','문화','사회','스포츠','연예','미용/건강','IT/과학']}\n",
    "\n",
    "print(predict_news(model_rnn, sentence[0]))\n",
    "print(predict_news(model_rnn, sentence[1]))\n",
    "print(predict_news(model_rnn, sentence[2]))\n"
   ]
  },
  {
   "cell_type": "code",
   "execution_count": 29,
   "metadata": {},
   "outputs": [
    {
     "name": "stdout",
     "output_type": "stream",
     "text": [
      "Accuracy =  33.33 %\n"
     ]
    },
    {
     "data": {
      "text/html": [
       "<div>\n",
       "<style scoped>\n",
       "    .dataframe tbody tr th:only-of-type {\n",
       "        vertical-align: middle;\n",
       "    }\n",
       "\n",
       "    .dataframe tbody tr th {\n",
       "        vertical-align: top;\n",
       "    }\n",
       "\n",
       "    .dataframe thead th {\n",
       "        text-align: right;\n",
       "    }\n",
       "</style>\n",
       "<table border=\"1\" class=\"dataframe\">\n",
       "  <thead>\n",
       "    <tr style=\"text-align: right;\">\n",
       "      <th></th>\n",
       "      <th>Labels</th>\n",
       "      <th>Predicted Label</th>\n",
       "      <th>Sentence</th>\n",
       "    </tr>\n",
       "  </thead>\n",
       "  <tbody>\n",
       "    <tr>\n",
       "      <th>0</th>\n",
       "      <td>생활</td>\n",
       "      <td>미용/건강</td>\n",
       "      <td>차진 식감과 부드러운 감촉을 모두 지닌 식빵, 결결이 찢어지는 크루아상, 둥글고 크...</td>\n",
       "    </tr>\n",
       "    <tr>\n",
       "      <th>1</th>\n",
       "      <td>정치</td>\n",
       "      <td>경제</td>\n",
       "      <td>정부는 2012년 예산의 공고안과 배정계획을 1월3일 국무회의에서 의결하고 연초부터...</td>\n",
       "    </tr>\n",
       "    <tr>\n",
       "      <th>2</th>\n",
       "      <td>경제</td>\n",
       "      <td>사회</td>\n",
       "      <td>국세청은 특히 서민생활에 피해를 주면서 폭리를 취하는 매점매석 농수산물 유통업체 등...</td>\n",
       "    </tr>\n",
       "    <tr>\n",
       "      <th>3</th>\n",
       "      <td>문화</td>\n",
       "      <td>문화</td>\n",
       "      <td>26일 제25회 부산국제영화제 갈라 프레젠테이션 부문 초청작 '스파이의 아내' 온라...</td>\n",
       "    </tr>\n",
       "    <tr>\n",
       "      <th>4</th>\n",
       "      <td>사회</td>\n",
       "      <td>생활</td>\n",
       "      <td>70대 운전사가 몰던 25인승 어린이 통학버스가 주유소로 돌진해 차량 3대를 들이 ...</td>\n",
       "    </tr>\n",
       "    <tr>\n",
       "      <th>5</th>\n",
       "      <td>스포츠</td>\n",
       "      <td>스포츠</td>\n",
       "      <td>토트넘이 손흥민에게 주급 20만 파운드(약 3억원)-5년 재계약을 제안할 준비를 마...</td>\n",
       "    </tr>\n",
       "    <tr>\n",
       "      <th>6</th>\n",
       "      <td>연예</td>\n",
       "      <td>문화</td>\n",
       "      <td>공연은 말 그대로 다채로움 그 자체였다. 발레극인지, 현대무용극인지, 전통극인지, ...</td>\n",
       "    </tr>\n",
       "    <tr>\n",
       "      <th>7</th>\n",
       "      <td>미용/건강</td>\n",
       "      <td>미용/건강</td>\n",
       "      <td>발이 아프면 걷는 자세가 나빠지고 자연스럽게 무릎, 골반, 허리에 이상이 생길 수 ...</td>\n",
       "    </tr>\n",
       "    <tr>\n",
       "      <th>8</th>\n",
       "      <td>IT/과학</td>\n",
       "      <td>경제</td>\n",
       "      <td>전기차 화재 사고가 연이어 발생하는 가운데 불타지 않는 SK이노베이션 배터리가 주목...</td>\n",
       "    </tr>\n",
       "  </tbody>\n",
       "</table>\n",
       "</div>"
      ],
      "text/plain": [
       "  Labels Predicted Label                                           Sentence\n",
       "0     생활           미용/건강  차진 식감과 부드러운 감촉을 모두 지닌 식빵, 결결이 찢어지는 크루아상, 둥글고 크...\n",
       "1     정치              경제  정부는 2012년 예산의 공고안과 배정계획을 1월3일 국무회의에서 의결하고 연초부터...\n",
       "2     경제              사회  국세청은 특히 서민생활에 피해를 주면서 폭리를 취하는 매점매석 농수산물 유통업체 등...\n",
       "3     문화              문화  26일 제25회 부산국제영화제 갈라 프레젠테이션 부문 초청작 '스파이의 아내' 온라...\n",
       "4     사회              생활  70대 운전사가 몰던 25인승 어린이 통학버스가 주유소로 돌진해 차량 3대를 들이 ...\n",
       "5    스포츠             스포츠  토트넘이 손흥민에게 주급 20만 파운드(약 3억원)-5년 재계약을 제안할 준비를 마...\n",
       "6     연예              문화  공연은 말 그대로 다채로움 그 자체였다. 발레극인지, 현대무용극인지, 전통극인지, ...\n",
       "7  미용/건강           미용/건강  발이 아프면 걷는 자세가 나빠지고 자연스럽게 무릎, 골반, 허리에 이상이 생길 수 ...\n",
       "8  IT/과학              경제  전기차 화재 사고가 연이어 발생하는 가운데 불타지 않는 SK이노베이션 배터리가 주목..."
      ]
     },
     "execution_count": 29,
     "metadata": {},
     "output_type": "execute_result"
    }
   ],
   "source": [
    "# 위의 결과를 표(DataFrame)로 나타내기\n",
    "\n",
    "result = pd.DataFrame(raw_data)\n",
    "\n",
    "df = pd.DataFrame()\n",
    "for s in sentence:\n",
    "  df = df.append(predict_news(model_rnn, s), ignore_index=True)\n",
    "\n",
    "result = pd.concat([result,df],axis=1, join='inner')\n",
    "\n",
    "Accuracy = sum((result['Labels'] == result['Predicted Label'])==True)/len(result) * 100\n",
    "\n",
    "print(\"Accuracy = \",round(Accuracy,2),\"%\")\n",
    "\n",
    "result"
   ]
  },
  {
   "cell_type": "markdown",
   "metadata": {},
   "source": [
    "### 5.2. CNN 모델 사용"
   ]
  },
  {
   "cell_type": "code",
   "execution_count": 30,
   "metadata": {},
   "outputs": [],
   "source": [
    "# 3-layer CNN 모델 구성\n",
    "class CNN(nn.Module):\n",
    "    def __init__(self, vocab_size, embed_dim, n_filters, filter_size, output_dim, dropout, pad_idx):\n",
    "        super().__init__()\n",
    "        \n",
    "        # 룩업테이블\n",
    "        self.embedding = nn.Embedding(vocab_size, embed_dim, padding_idx=pad_idx)\n",
    "        \n",
    "        # cnn layers\n",
    "        self.conv_0 = nn.Conv2d(in_channels=1,\n",
    "                               out_channels=n_filters,\n",
    "                               kernel_size=(filter_size[0], embed_dim))\n",
    "        \n",
    "        self.conv_1 = nn.Conv2d(in_channels=1,\n",
    "                               out_channels=n_filters,\n",
    "                               kernel_size=(filter_size[1], embed_dim))\n",
    "        \n",
    "        self.conv_2 = nn.Conv2d(in_channels=1,\n",
    "                               out_channels=n_filters,\n",
    "                               kernel_size=(filter_size[2], embed_dim))\n",
    "        \n",
    "        self.norm0 = nn.BatchNorm1d(n_filters)\n",
    "        self.norm1 = nn.BatchNorm1d(n_filters)\n",
    "        self.norm2 = nn.BatchNorm1d(n_filters) \n",
    "        \n",
    "        self.prelu0 = nn.PReLU(n_filters)\n",
    "        self.prelu1 = nn.PReLU(n_filters)\n",
    "        self.prelu2 = nn.PReLU(n_filters)\n",
    "        \n",
    "        self.fc = nn.Linear(len(filter_size) * n_filters, output_dim)\n",
    "        self.dropout = nn.Dropout(dropout)\n",
    "\n",
    "    # x 모양 : [batch_size, sent length]\n",
    "    def forward(self, x):\n",
    "        \n",
    "        # word_embedding : [batch-size, sent_length, embed_dim]\n",
    "        word_embedding = self.embedding(x)     \n",
    "        \n",
    "        # [batch_size, 1, sent_length, embed dim ]\n",
    "        word_embedding = word_embedding.unsqueeze(1)\n",
    "        \n",
    "        # [batch size, n_filters, sent len - filter_sizes[n] + 1]\n",
    "        conved_0 = F.relu(self.norm0(self.conv_0(word_embedding).squeeze(3)))\n",
    "        conved_1 = F.relu(self.norm1(self.conv_1(word_embedding).squeeze(3)))        \n",
    "        conved_2 = F.relu(self.norm2(self.conv_2(word_embedding).squeeze(3)))        \n",
    "        \n",
    "        #pooled_n = [batch size, n_filters]\n",
    "        pooled_0 = F.max_pool1d(conved_0, conved_0.shape[2]).squeeze(2)\n",
    "        pooled_1 = F.max_pool1d(conved_1, conved_1.shape[2]).squeeze(2)\n",
    "        pooled_2 = F.max_pool1d(conved_2, conved_2.shape[2]).squeeze(2)\n",
    "        \n",
    "        # cat = [batch size, n filters * len(filter size)]\n",
    "        concat = self.dropout(torch.cat((pooled_0, pooled_1, pooled_2), dim=1))\n",
    "        scores = self.fc(concat)\n",
    "        return scores        "
   ]
  },
  {
   "cell_type": "code",
   "execution_count": 31,
   "metadata": {},
   "outputs": [],
   "source": [
    "INPUT_DIM = len(TEXT.vocab)\n",
    "EMBED_DIM = 300\n",
    "N_FILTERS = 128\n",
    "FILTER_SIZE = [5, 6, 7]\n",
    "OUTPUT_DIM = 9\n",
    "DROPOUT = 0.5\n",
    "PAD_IDX = TEXT.vocab.stoi[TEXT.pad_token]\n",
    "UNK_IDX = TEXT.vocab.stoi[TEXT.unk_token]\n",
    "\n",
    "model_cnn = CNN(INPUT_DIM, EMBED_DIM, N_FILTERS, FILTER_SIZE, OUTPUT_DIM, DROPOUT, PAD_IDX)"
   ]
  },
  {
   "cell_type": "code",
   "execution_count": 32,
   "metadata": {},
   "outputs": [
    {
     "data": {
      "text/plain": [
       "tensor([[-4.7797e-03, -1.0752e-02,  1.2671e-02,  ...,  3.4374e-03,\n",
       "         -7.3378e-03,  1.8026e-02],\n",
       "        [ 3.9354e-03, -6.1916e-03,  9.5328e-03,  ...,  9.4941e-03,\n",
       "          2.7002e-02, -1.2536e-02],\n",
       "        [-3.5333e-01, -1.3169e+00,  8.0137e-01,  ...,  2.7663e-01,\n",
       "         -4.8837e-01, -1.1233e-02],\n",
       "        ...,\n",
       "        [ 6.3465e-03,  9.0572e-03, -1.1102e-02,  ...,  2.4965e-03,\n",
       "          7.4810e-03,  1.5614e-02],\n",
       "        [ 9.6836e-03, -9.7325e-04, -7.0971e-03,  ..., -1.0635e-02,\n",
       "         -1.8355e-03,  7.7656e-03],\n",
       "        [-6.6842e-04,  9.7742e-03, -3.5897e-03,  ...,  9.7389e-04,\n",
       "          1.7294e-02,  6.5750e-03]])"
      ]
     },
     "execution_count": 32,
     "metadata": {},
     "output_type": "execute_result"
    }
   ],
   "source": [
    "# 위 4에서 구성한 단어 임베딩을 RNN 모델에 결합\n",
    "model_cnn.embedding.weight.data.copy_(pretrained_embeddings)"
   ]
  },
  {
   "cell_type": "code",
   "execution_count": 33,
   "metadata": {},
   "outputs": [],
   "source": [
    "# UNK, PAD 토큰 처리 (zero vector로 초기화)\n",
    "\n",
    "UNK_IDX = TEXT.vocab.stoi[TEXT.unk_token]\n",
    "\n",
    "model_cnn.embedding.weight.data[UNK_IDX] = torch.zeros(EMBED_DIM)\n",
    "model_cnn.embedding.weight.data[PAD_IDX] = torch.zeros(EMBED_DIM)"
   ]
  },
  {
   "cell_type": "code",
   "execution_count": 34,
   "metadata": {},
   "outputs": [
    {
     "name": "stdout",
     "output_type": "stream",
     "text": [
      "The model has 8,196,801 trainable parameters\n"
     ]
    }
   ],
   "source": [
    "# 분류 모델이 학습하는 패러미터의 수\n",
    "print(f'The model has {count_parameters(model_cnn):,} trainable parameters')"
   ]
  },
  {
   "cell_type": "markdown",
   "metadata": {},
   "source": [
    "### 분류 모델 학습, 평가하기"
   ]
  },
  {
   "cell_type": "code",
   "execution_count": 35,
   "metadata": {},
   "outputs": [],
   "source": [
    "# 학습의 속도, 안정성 등을 최적화하기 위한 optimizer 설정\n",
    "optimizer = optim.Adam(model_cnn.parameters())\n",
    "\n",
    "# GPU가 있다면 GPU에서 모델 학습 및 평가 \n",
    "device = torch.device('cuda' if torch.cuda.is_available() else 'cpu')\n",
    "\n",
    "# 모델의 성능을 평가하기 위해 cross entropy loss 사용\n",
    "criterion = nn.CrossEntropyLoss()\n",
    "\n",
    "# 분류 모델과 loss 모델을 GPU(또는 CPU)에 세팅\n",
    "model_cnn = model_cnn.to(device)\n",
    "criterion = criterion.to(device)"
   ]
  },
  {
   "cell_type": "code",
   "execution_count": 36,
   "metadata": {},
   "outputs": [
    {
     "name": "stdout",
     "output_type": "stream",
     "text": [
      "Epoch: 01 | Epoch Time: 0m 3s\n",
      "\tTrain Loss: 235.823 | Train Acc: 50.51%\n",
      "\t Test Loss: 22.469 |  Test Acc: 73.06%\n",
      "Epoch: 02 | Epoch Time: 0m 3s\n",
      "\tTrain Loss: 138.861 | Train Acc: 67.40%\n",
      "\t Test Loss: 19.267 |  Test Acc: 76.39%\n",
      "Epoch: 03 | Epoch Time: 0m 3s\n",
      "\tTrain Loss: 108.255 | Train Acc: 74.02%\n",
      "\t Test Loss: 18.261 |  Test Acc: 78.44%\n",
      "Epoch: 04 | Epoch Time: 0m 3s\n",
      "\tTrain Loss: 92.632 | Train Acc: 77.03%\n",
      "\t Test Loss: 18.437 |  Test Acc: 78.22%\n",
      "Epoch: 05 | Epoch Time: 0m 3s\n",
      "\tTrain Loss: 84.320 | Train Acc: 79.36%\n",
      "\t Test Loss: 17.924 |  Test Acc: 79.00%\n",
      "Epoch: 06 | Epoch Time: 0m 3s\n",
      "\tTrain Loss: 73.341 | Train Acc: 82.32%\n",
      "\t Test Loss: 17.201 |  Test Acc: 78.56%\n",
      "Epoch: 07 | Epoch Time: 0m 3s\n",
      "\tTrain Loss: 63.770 | Train Acc: 84.19%\n",
      "\t Test Loss: 16.698 |  Test Acc: 80.11%\n",
      "Epoch: 08 | Epoch Time: 0m 3s\n",
      "\tTrain Loss: 55.524 | Train Acc: 86.33%\n",
      "\t Test Loss: 17.620 |  Test Acc: 80.00%\n",
      "Epoch: 09 | Epoch Time: 0m 3s\n",
      "\tTrain Loss: 47.954 | Train Acc: 88.42%\n",
      "\t Test Loss: 16.745 |  Test Acc: 79.72%\n",
      "Epoch: 10 | Epoch Time: 0m 3s\n",
      "\tTrain Loss: 42.369 | Train Acc: 89.58%\n",
      "\t Test Loss: 16.149 |  Test Acc: 81.00%\n",
      "Epoch: 11 | Epoch Time: 0m 3s\n",
      "\tTrain Loss: 37.526 | Train Acc: 90.72%\n",
      "\t Test Loss: 16.449 |  Test Acc: 80.67%\n",
      "Epoch: 12 | Epoch Time: 0m 3s\n",
      "\tTrain Loss: 35.592 | Train Acc: 91.17%\n",
      "\t Test Loss: 16.367 |  Test Acc: 80.78%\n",
      "Epoch: 13 | Epoch Time: 0m 3s\n",
      "\tTrain Loss: 29.679 | Train Acc: 92.66%\n",
      "\t Test Loss: 16.657 |  Test Acc: 81.22%\n",
      "Epoch: 14 | Epoch Time: 0m 3s\n",
      "\tTrain Loss: 26.734 | Train Acc: 93.44%\n",
      "\t Test Loss: 17.526 |  Test Acc: 80.78%\n",
      "Epoch: 15 | Epoch Time: 0m 3s\n",
      "\tTrain Loss: 25.076 | Train Acc: 93.82%\n",
      "\t Test Loss: 16.884 |  Test Acc: 81.50%\n",
      "Epoch: 16 | Epoch Time: 0m 3s\n",
      "\tTrain Loss: 19.699 | Train Acc: 95.39%\n",
      "\t Test Loss: 16.430 |  Test Acc: 81.50%\n",
      "Epoch: 17 | Epoch Time: 0m 3s\n",
      "\tTrain Loss: 19.138 | Train Acc: 95.56%\n",
      "\t Test Loss: 16.657 |  Test Acc: 81.28%\n",
      "Epoch: 18 | Epoch Time: 0m 3s\n",
      "\tTrain Loss: 16.649 | Train Acc: 96.26%\n",
      "\t Test Loss: 16.954 |  Test Acc: 81.56%\n",
      "Epoch: 19 | Epoch Time: 0m 3s\n",
      "\tTrain Loss: 14.974 | Train Acc: 96.64%\n",
      "\t Test Loss: 17.665 |  Test Acc: 81.00%\n",
      "Epoch: 20 | Epoch Time: 0m 3s\n",
      "\tTrain Loss: 13.898 | Train Acc: 96.74%\n",
      "\t Test Loss: 17.083 |  Test Acc: 81.83%\n"
     ]
    }
   ],
   "source": [
    "N_EPOCHS = 20\n",
    "\n",
    "best_test_loss = float('inf')\n",
    "best_test_acc = 0\n",
    "\n",
    "train_loss = [0 for i in range(N_EPOCHS)]\n",
    "train_acc =[0 for i in range(N_EPOCHS)]\n",
    "test_loss = [0 for i in range(N_EPOCHS)]\n",
    "test_acc = [0 for i in range(N_EPOCHS)]\n",
    "\n",
    "i = 0\n",
    "\n",
    "for epoch in range(N_EPOCHS):\n",
    "\n",
    "    start_time = time.time()\n",
    "\n",
    "    # training data를 이용해 모델 학습\n",
    "    train_loss[i], train_acc[i] = train(model_cnn, train_iterator, optimizer, criterion)\n",
    "    # test data를 이용해 모델 평가\n",
    "    test_loss[i], test_acc[i] = evaluate(model_cnn, test_iterator, criterion)\n",
    "    \n",
    "    end_time = time.time()\n",
    "\n",
    "    epoch_mins, epoch_secs = epoch_time(start_time, end_time)\n",
    "    \n",
    "    # 모델 평가: 각 epoch에서 얻은 최고 성능을 저장\n",
    "    if test_loss[i] < best_test_loss:\n",
    "        best_test_loss = test_loss[i]\n",
    "    \n",
    "    if test_acc[i] > best_test_acc:\n",
    "        best_test_acc = test_acc[i]\n",
    "    \n",
    "    print(f'Epoch: {epoch+1:02} | Epoch Time: {epoch_mins}m {epoch_secs}s')\n",
    "    print(f'\\tTrain Loss: {train_loss[i]:.3f} | Train Acc: {train_acc[i]*100:.2f}%')\n",
    "    print(f'\\t Test Loss: {test_loss[i]:.3f} |  Test Acc: {test_acc[i]*100:.2f}%')\n",
    "\n",
    "    i+=1"
   ]
  },
  {
   "cell_type": "code",
   "execution_count": 37,
   "metadata": {},
   "outputs": [],
   "source": [
    "cnn_results = [test_loss, train_loss, test_acc, train_acc]"
   ]
  },
  {
   "cell_type": "code",
   "execution_count": 38,
   "metadata": {},
   "outputs": [
    {
     "data": {
      "image/png": "[encoded data removed]",
      "text/plain": [
       "<Figure size 720x360 with 1 Axes>"
      ]
     },
     "metadata": {
      "needs_background": "light"
     },
     "output_type": "display_data"
    },
    {
     "data": {
      "image/png": "[encoded data removed]",
      "text/plain": [
       "<Figure size 720x360 with 1 Axes>"
      ]
     },
     "metadata": {
      "needs_background": "light"
     },
     "output_type": "display_data"
    },
    {
     "name": "stdout",
     "output_type": "stream",
     "text": [
      "Best Test Acc: 81.83%    (Test Loss: 16.149)\n"
     ]
    }
   ],
   "source": [
    "P_graph(cnn_results[0], cnn_results[1], cnn_results[2], cnn_results[3])\n",
    "print(f'Best Test Acc: {best_test_acc*100:.2f}%    (Test Loss: {best_test_loss:.3f})')"
   ]
  },
  {
   "cell_type": "code",
   "execution_count": 39,
   "metadata": {},
   "outputs": [
    {
     "name": "stdout",
     "output_type": "stream",
     "text": [
      "{'Predicted Label': '생활', 'Sentence': '차진 식감과 부드러운 감촉을 모두 지닌 식빵, 결결이 찢어지는 크루아상, 둥글고 크게 구운 호밀빵 모두 모양새부터 알차고 단단했다. 디저트로 눈을 옮기면 국가 대표팀같이 뭐 하나 빼놓을 수 없는 케이크가 나란히 줄을 서 있었다.'}\n",
      "{'Predicted Label': '경제', 'Sentence': '정부는 2012년 예산의 공고안과 배정계획을 1월3일 국무회의에서 의결하고 연초부터 바로 집행에 들어간다. 세계 경제의 불확실성이 높아지고 경기가 둔화할 가능성이 높은 만큼 조기 집행에 박차를 가할 예정이다'}\n",
      "{'Predicted Label': '사회', 'Sentence': '국세청은 특히 서민생활에 피해를 주면서 폭리를 취하는 매점매석 농수산물 유통업체 등에 대한 추적조사를 강화하고, 지방청에 ‘민생침해 사업자 조사전담팀’을 꾸려 민생침해 탈세자에 대한 엄정 대응에 나설 계획이라고 밝혔다'}\n"
     ]
    }
   ],
   "source": [
    "sentence = []\n",
    "sentence.append(\"차진 식감과 부드러운 감촉을 모두 지닌 식빵, 결결이 찢어지는 크루아상, 둥글고 크게 구운 호밀빵 모두 모양새부터 알차고 단단했다. 디저트로 눈을 옮기면 국가 대표팀같이 뭐 하나 빼놓을 수 없는 케이크가 나란히 줄을 서 있었다.\")\n",
    "sentence.append(\"정부는 2012년 예산의 공고안과 배정계획을 1월3일 국무회의에서 의결하고 연초부터 바로 집행에 들어간다. 세계 경제의 불확실성이 높아지고 경기가 둔화할 가능성이 높은 만큼 조기 집행에 박차를 가할 예정이다\")\n",
    "sentence.append(\"국세청은 특히 서민생활에 피해를 주면서 폭리를 취하는 매점매석 농수산물 유통업체 등에 대한 추적조사를 강화하고, 지방청에 ‘민생침해 사업자 조사전담팀’을 꾸려 민생침해 탈세자에 대한 엄정 대응에 나설 계획이라고 밝혔다\")\n",
    "sentence.append(\"26일 제25회 부산국제영화제 갈라 프레젠테이션 부문 초청작 '스파이의 아내' 온라인 기자회견이 진행됐다. 작품을 연출한 구로사와 감독이 참석해 작품에 대한 이야기를 나눴다.\")\n",
    "sentence.append(\"70대 운전사가 몰던 25인승 어린이 통학버스가 주유소로 돌진해 차량 3대를 들이 받았다. 다행히 통학버스에 운전자 외에는 탑승자가 없어 큰 인명피해는 피했다. 운전자는 차량 결함을 주장하고 있으나, 경찰은 운전자 과실 여부도 조사 중이다.\")\n",
    "sentence.append(\"토트넘이 손흥민에게 주급 20만 파운드(약 3억원)-5년 재계약을 제안할 준비를 마쳤다.' 25일(한국시각) 영국 대중일간 더선의 헤드라인이다. 조제 무리뉴 토트넘 감독이 번리전을 앞두고 기자회견을 통해 구단에 토트넘에서의 손흥민의 장밋빛 미래를 확신하며 재계약을 요청한 직후 영국 현지 언론에선 손흥민 재계약 보도가 쏟아지고 있다.\")\n",
    "sentence.append(\"공연은 말 그대로 다채로움 그 자체였다. 발레극인지, 현대무용극인지, 전통극인지, 연극인지, 연극이면 다인극인지 1인극인지 모를 정도로 다양한 장르의 결합이 먼저 눈에 띈다.\")\n",
    "sentence.append(\"발이 아프면 걷는 자세가 나빠지고 자연스럽게 무릎, 골반, 허리에 이상이 생길 수 있다. 이를 예방하려면 평소 발바닥 근육을 스트레칭하고 강화하는 운동을 지속하는 게 중요하다.\")\n",
    "sentence.append(\"전기차 화재 사고가 연이어 발생하는 가운데 불타지 않는 SK이노베이션 배터리가 주목받는다. SK이노베이션의 배터리는 글로벌 배터리 업체 중 유일하게 단 한건의 화재도 일어나지 않았다. 이같은 비결이 자동차 안정성을 결정짓는 분리막 내재화에 있다는 평가가 나온다.\")\n",
    "\n",
    "raw_data = {'Labels': ['생활','정치','경제','문화','사회','스포츠','연예','미용/건강','IT/과학']}\n",
    "\n",
    "print(predict_news(model_cnn, sentence[0]))\n",
    "print(predict_news(model_cnn, sentence[1]))\n",
    "print(predict_news(model_cnn, sentence[2]))"
   ]
  },
  {
   "cell_type": "code",
   "execution_count": 40,
   "metadata": {},
   "outputs": [
    {
     "name": "stdout",
     "output_type": "stream",
     "text": [
      "Accuracy =  44.44 %\n"
     ]
    },
    {
     "data": {
      "text/html": [
       "<div>\n",
       "<style scoped>\n",
       "    .dataframe tbody tr th:only-of-type {\n",
       "        vertical-align: middle;\n",
       "    }\n",
       "\n",
       "    .dataframe tbody tr th {\n",
       "        vertical-align: top;\n",
       "    }\n",
       "\n",
       "    .dataframe thead th {\n",
       "        text-align: right;\n",
       "    }\n",
       "</style>\n",
       "<table border=\"1\" class=\"dataframe\">\n",
       "  <thead>\n",
       "    <tr style=\"text-align: right;\">\n",
       "      <th></th>\n",
       "      <th>Labels</th>\n",
       "      <th>Predicted Label</th>\n",
       "      <th>Sentence</th>\n",
       "    </tr>\n",
       "  </thead>\n",
       "  <tbody>\n",
       "    <tr>\n",
       "      <th>0</th>\n",
       "      <td>생활</td>\n",
       "      <td>생활</td>\n",
       "      <td>차진 식감과 부드러운 감촉을 모두 지닌 식빵, 결결이 찢어지는 크루아상, 둥글고 크...</td>\n",
       "    </tr>\n",
       "    <tr>\n",
       "      <th>1</th>\n",
       "      <td>정치</td>\n",
       "      <td>경제</td>\n",
       "      <td>정부는 2012년 예산의 공고안과 배정계획을 1월3일 국무회의에서 의결하고 연초부터...</td>\n",
       "    </tr>\n",
       "    <tr>\n",
       "      <th>2</th>\n",
       "      <td>경제</td>\n",
       "      <td>사회</td>\n",
       "      <td>국세청은 특히 서민생활에 피해를 주면서 폭리를 취하는 매점매석 농수산물 유통업체 등...</td>\n",
       "    </tr>\n",
       "    <tr>\n",
       "      <th>3</th>\n",
       "      <td>문화</td>\n",
       "      <td>문화</td>\n",
       "      <td>26일 제25회 부산국제영화제 갈라 프레젠테이션 부문 초청작 '스파이의 아내' 온라...</td>\n",
       "    </tr>\n",
       "    <tr>\n",
       "      <th>4</th>\n",
       "      <td>사회</td>\n",
       "      <td>생활</td>\n",
       "      <td>70대 운전사가 몰던 25인승 어린이 통학버스가 주유소로 돌진해 차량 3대를 들이 ...</td>\n",
       "    </tr>\n",
       "    <tr>\n",
       "      <th>5</th>\n",
       "      <td>스포츠</td>\n",
       "      <td>스포츠</td>\n",
       "      <td>토트넘이 손흥민에게 주급 20만 파운드(약 3억원)-5년 재계약을 제안할 준비를 마...</td>\n",
       "    </tr>\n",
       "    <tr>\n",
       "      <th>6</th>\n",
       "      <td>연예</td>\n",
       "      <td>문화</td>\n",
       "      <td>공연은 말 그대로 다채로움 그 자체였다. 발레극인지, 현대무용극인지, 전통극인지, ...</td>\n",
       "    </tr>\n",
       "    <tr>\n",
       "      <th>7</th>\n",
       "      <td>미용/건강</td>\n",
       "      <td>미용/건강</td>\n",
       "      <td>발이 아프면 걷는 자세가 나빠지고 자연스럽게 무릎, 골반, 허리에 이상이 생길 수 ...</td>\n",
       "    </tr>\n",
       "    <tr>\n",
       "      <th>8</th>\n",
       "      <td>IT/과학</td>\n",
       "      <td>경제</td>\n",
       "      <td>전기차 화재 사고가 연이어 발생하는 가운데 불타지 않는 SK이노베이션 배터리가 주목...</td>\n",
       "    </tr>\n",
       "  </tbody>\n",
       "</table>\n",
       "</div>"
      ],
      "text/plain": [
       "  Labels Predicted Label                                           Sentence\n",
       "0     생활              생활  차진 식감과 부드러운 감촉을 모두 지닌 식빵, 결결이 찢어지는 크루아상, 둥글고 크...\n",
       "1     정치              경제  정부는 2012년 예산의 공고안과 배정계획을 1월3일 국무회의에서 의결하고 연초부터...\n",
       "2     경제              사회  국세청은 특히 서민생활에 피해를 주면서 폭리를 취하는 매점매석 농수산물 유통업체 등...\n",
       "3     문화              문화  26일 제25회 부산국제영화제 갈라 프레젠테이션 부문 초청작 '스파이의 아내' 온라...\n",
       "4     사회              생활  70대 운전사가 몰던 25인승 어린이 통학버스가 주유소로 돌진해 차량 3대를 들이 ...\n",
       "5    스포츠             스포츠  토트넘이 손흥민에게 주급 20만 파운드(약 3억원)-5년 재계약을 제안할 준비를 마...\n",
       "6     연예              문화  공연은 말 그대로 다채로움 그 자체였다. 발레극인지, 현대무용극인지, 전통극인지, ...\n",
       "7  미용/건강           미용/건강  발이 아프면 걷는 자세가 나빠지고 자연스럽게 무릎, 골반, 허리에 이상이 생길 수 ...\n",
       "8  IT/과학              경제  전기차 화재 사고가 연이어 발생하는 가운데 불타지 않는 SK이노베이션 배터리가 주목..."
      ]
     },
     "execution_count": 40,
     "metadata": {},
     "output_type": "execute_result"
    }
   ],
   "source": [
    "# 위의 결과를 표(DataFrame)로 나타내기\n",
    "\n",
    "result = pd.DataFrame(raw_data)\n",
    "\n",
    "df = pd.DataFrame()\n",
    "for s in sentence:\n",
    "  df = df.append(predict_news(model_cnn, s), ignore_index=True)\n",
    "\n",
    "result = pd.concat([result,df],axis=1, join='inner')\n",
    "\n",
    "Accuracy = sum((result['Labels'] == result['Predicted Label'])==True)/len(result) * 100\n",
    "\n",
    "print(\"Accuracy = \",round(Accuracy,2),\"%\")\n",
    "\n",
    "result"
   ]
  },
  {
   "cell_type": "code",
   "execution_count": null,
   "metadata": {},
   "outputs": [],
   "source": []
  }
 ],
 "metadata": {
  "kernelspec": {
   "display_name": "Python 3",
   "language": "python",
   "name": "python3"
  },
  "language_info": {
   "codemirror_mode": {
    "name": "ipython",
    "version": 3
   },
   "file_extension": ".py",
   "mimetype": "text/x-python",
   "name": "python",
   "nbconvert_exporter": "python",
   "pygments_lexer": "ipython3",
   "version": "3.7.6"
  }
 },
 "nbformat": 4,
 "nbformat_minor": 2
}
