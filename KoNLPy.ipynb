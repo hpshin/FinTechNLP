{
 "cells": [
  {
   "cell_type": "markdown",
   "metadata": {},
   "source": [
    "# KoNLPy 형태소 분석기별 사용법"
   ]
  },
  {
   "cell_type": "code",
   "execution_count": 10,
   "metadata": {},
   "outputs": [
    {
     "name": "stdout",
     "output_type": "stream",
     "text": [
      "[[[('롯데마트', 'ncn'), ('의', 'jcm')], [('롯데마트의', 'ncn')], [('롯데마트', 'nqq'), ('의', 'jcm')], [('롯데마트의', 'nqq')]], [[('흑마늘', 'ncn')], [('흑마늘', 'nqq')]], [[('양념', 'ncn')]], [[('치킨', 'ncn'), ('이', 'jcc')], [('치킨', 'ncn'), ('이', 'jcs')], [('치킨', 'ncn'), ('이', 'ncn')]], [[('논란', 'ncpa'), ('이', 'jcc')], [('논란', 'ncpa'), ('이', 'jcs')], [('논란', 'ncpa'), ('이', 'ncn')]], [[('되', 'nbu'), ('고', 'jcj')], [('되', 'nbu'), ('이', 'jp'), ('고', 'ecc')], [('되', 'nbu'), ('이', 'jp'), ('고', 'ecs')], [('되', 'nbu'), ('이', 'jp'), ('고', 'ecx')], [('되', 'paa'), ('고', 'ecc')], [('되', 'paa'), ('고', 'ecs')], [('되', 'paa'), ('고', 'ecx')], [('되', 'pvg'), ('고', 'ecc')], [('되', 'pvg'), ('고', 'ecs')], [('되', 'pvg'), ('고', 'ecx')], [('되', 'px'), ('고', 'ecc')], [('되', 'px'), ('고', 'ecs')], [('되', 'px'), ('고', 'ecx')]], [[('있', 'paa'), ('다', 'ef')], [('있', 'px'), ('다', 'ef')]], [[('.', 'sf')], [('.', 'sy')]], [], [[('◇', 'ncn')], [('◇', 'nqq')]]]\n",
      "\n",
      "\n",
      "['롯데마트', '의', '흑마늘', '양념', '치킨', '이', '논란', '이', '되', '고', '있', '다', '.', '◇']\n",
      "\n",
      "\n",
      "['다람쥐', '쳇바퀴', '타고파', '◇']\n",
      "\n",
      "\n",
      "[('웃', 'P'), ('으면', 'E'), ('더', 'M'), ('행복', 'N'), ('하', 'X'), ('ㅂ니다', 'E'), ('!', 'S'), ('◇', 'N')]\n"
     ]
    }
   ],
   "source": [
    "from konlpy.tag import Hannanum\n",
    "hannanum = Hannanum() \n",
    " \n",
    "hannanum.analyze  #구(Phrase) 분석\n",
    "hannanum.morphs   #형태소 분석\n",
    "hannanum.nouns    #명사 분석\n",
    "hannanum.pos      #형태소 분석 태깅\n",
    " \n",
    "# 사용예시\n",
    "print(hannanum.analyze(u'롯데마트의 흑마늘 양념 치킨이 논란이 되고 있다.  ◇'))\n",
    "\n",
    "\n",
    "print(\"\\n\")\n",
    "print(hannanum.morphs(u'롯데마트의 흑마늘 양념 치킨이 논란이 되고 있다. ◇'))\n",
    "\n",
    "print(\"\\n\") \n",
    "print(hannanum.nouns(u'다람쥐 헌 쳇바퀴에 타고파  ◇'))\n",
    "['다람쥐', '쳇바퀴', '타고파']\n",
    "print(\"\\n\") \n",
    "print(hannanum.pos(u'웃으면 더 행복합니다!  ◇'))\n"
   ]
  },
  {
   "cell_type": "code",
   "execution_count": 11,
   "metadata": {},
   "outputs": [
    {
     "name": "stdout",
     "output_type": "stream",
     "text": [
      "['공부', '를', '하', '면', '하', 'ㄹ수록', '모르', '는', '것', '이', '많', '다는', '것', '을', '알', '게', '되', 'ㅂ니다', '.', '◇']\n",
      "\n",
      "\n",
      "['대학', '통계학', '이산', '이산수학', '수학', '등']\n",
      "\n",
      "\n",
      "[('다', 'MAG'), ('까먹', 'VV'), ('어', 'ECD'), ('버리', 'VXV'), ('었', 'EPT'), ('네요', 'EFN'), ('?', 'SF'), ('ㅋㅋ', 'EMO'), ('◇', 'SW')]\n",
      "\n",
      "\n",
      "['그래도 계속 공부합니다.', '재밌으니까! ◇']\n"
     ]
    }
   ],
   "source": [
    "from konlpy.tag import Kkma\n",
    "kkma = Kkma()\n",
    " \n",
    "kkma.morphs         #형태소 분석\n",
    "kkma.nouns          #명사 분석\n",
    "kkma.pos            #형태소 분석 태깅\n",
    "kkma.sentences      #문장 분석\n",
    " \n",
    "# 사용예시\n",
    "print(kkma.morphs(u'공부를 하면할수록 모르는게 많다는 것을 알게 됩니다.  ◇'))\n",
    "\n",
    "print(\"\\n\")\n",
    "print(kkma.nouns(u'대학에서 DB, 통계학, 이산수학 등을 배웠지만...  ◇'))\n",
    "print(\"\\n\")\n",
    " \n",
    "print(kkma.pos(u'다 까먹어버렸네요?ㅋㅋ  ◇'))\n",
    "print(\"\\n\")\n",
    "print(kkma.sentences(u'그래도 계속 공부합니다. 재밌으니까!  ◇'))\n"
   ]
  },
  {
   "cell_type": "code",
   "execution_count": 16,
   "metadata": {},
   "outputs": [
    {
     "ename": "java.lang.OutOfMemoryError",
     "evalue": "GC overhead limit exceeded",
     "output_type": "error",
     "traceback": [
      "\u001b[0;31m---------------------------------------------------------------------------\u001b[0m",
      "\u001b[0;31mjava.lang.OutOfMemoryError\u001b[0m                Traceback (most recent call last)",
      "\u001b[0;32m<ipython-input-16-749aa55fa5a2>\u001b[0m in \u001b[0;36m<module>\u001b[0;34m()\u001b[0m\n\u001b[1;32m      1\u001b[0m \u001b[0;32mfrom\u001b[0m \u001b[0mkonlpy\u001b[0m\u001b[0;34m.\u001b[0m\u001b[0mtag\u001b[0m \u001b[0;32mimport\u001b[0m \u001b[0mKomoran\u001b[0m\u001b[0;34m\u001b[0m\u001b[0;34m\u001b[0m\u001b[0m\n\u001b[0;32m----> 2\u001b[0;31m \u001b[0mkomoran\u001b[0m \u001b[0;34m=\u001b[0m \u001b[0mKomoran\u001b[0m\u001b[0;34m(\u001b[0m\u001b[0muserdic\u001b[0m\u001b[0;34m=\u001b[0m\u001b[0;34m'/tmp/dic.txt'\u001b[0m\u001b[0;34m)\u001b[0m\u001b[0;34m\u001b[0m\u001b[0;34m\u001b[0m\u001b[0m\n\u001b[0m\u001b[1;32m      3\u001b[0m \u001b[0;34m\u001b[0m\u001b[0m\n\u001b[1;32m      4\u001b[0m \u001b[0mkomoran\u001b[0m\u001b[0;34m.\u001b[0m\u001b[0mmorphs\u001b[0m    \u001b[0;31m#형태소 분석\u001b[0m\u001b[0;34m\u001b[0m\u001b[0;34m\u001b[0m\u001b[0m\n\u001b[1;32m      5\u001b[0m \u001b[0mkomoran\u001b[0m\u001b[0;34m.\u001b[0m\u001b[0mnouns\u001b[0m     \u001b[0;31m#명사 분석\u001b[0m\u001b[0;34m\u001b[0m\u001b[0;34m\u001b[0m\u001b[0m\n",
      "\u001b[0;32m/usr/local/lib/python3.6/dist-packages/konlpy/tag/_komoran.py\u001b[0m in \u001b[0;36m__init__\u001b[0;34m(self, jvmpath, userdic, modelpath, max_heap_size)\u001b[0m\n\u001b[1;32m    102\u001b[0m \u001b[0;34m\u001b[0m\u001b[0m\n\u001b[1;32m    103\u001b[0m         \u001b[0;32mtry\u001b[0m\u001b[0;34m:\u001b[0m\u001b[0;34m\u001b[0m\u001b[0;34m\u001b[0m\u001b[0m\n\u001b[0;32m--> 104\u001b[0;31m             \u001b[0mself\u001b[0m\u001b[0;34m.\u001b[0m\u001b[0mjki\u001b[0m \u001b[0;34m=\u001b[0m \u001b[0mkomoranJavaPackage\u001b[0m\u001b[0;34m.\u001b[0m\u001b[0mKomoran\u001b[0m\u001b[0;34m(\u001b[0m\u001b[0mself\u001b[0m\u001b[0;34m.\u001b[0m\u001b[0mmodelpath\u001b[0m\u001b[0;34m)\u001b[0m\u001b[0;34m\u001b[0m\u001b[0;34m\u001b[0m\u001b[0m\n\u001b[0m\u001b[1;32m    105\u001b[0m         \u001b[0;32mexcept\u001b[0m \u001b[0mTypeError\u001b[0m\u001b[0;34m:\u001b[0m  \u001b[0;31m# Package kr.lucypark.komoran.KomoranInterface is not Callable\u001b[0m\u001b[0;34m\u001b[0m\u001b[0;34m\u001b[0m\u001b[0m\n\u001b[1;32m    106\u001b[0m             \u001b[0;32mraise\u001b[0m \u001b[0mIOError\u001b[0m\u001b[0;34m(\u001b[0m\u001b[0;34m\"Cannot access komoran-dic. Please leave an issue at https://github.com/konlpy/konlpy/issues\"\u001b[0m\u001b[0;34m)\u001b[0m\u001b[0;34m\u001b[0m\u001b[0;34m\u001b[0m\u001b[0m\n",
      "\u001b[0;32m/home/hpshin/.local/lib/python3.6/site-packages/jpype/_jobject.py\u001b[0m in \u001b[0;36m__init__\u001b[0;34m(self, *args)\u001b[0m\n\u001b[1;32m     93\u001b[0m             \u001b[0mobject\u001b[0m\u001b[0;34m.\u001b[0m\u001b[0m__setattr__\u001b[0m\u001b[0;34m(\u001b[0m\u001b[0mself\u001b[0m\u001b[0;34m,\u001b[0m \u001b[0;34m'__javavalue__'\u001b[0m\u001b[0;34m,\u001b[0m \u001b[0margs\u001b[0m\u001b[0;34m[\u001b[0m\u001b[0;36m0\u001b[0m\u001b[0;34m]\u001b[0m\u001b[0;34m)\u001b[0m\u001b[0;34m\u001b[0m\u001b[0;34m\u001b[0m\u001b[0m\n\u001b[1;32m     94\u001b[0m         \u001b[0;32melif\u001b[0m \u001b[0;32mnot\u001b[0m \u001b[0mhasattr\u001b[0m\u001b[0;34m(\u001b[0m\u001b[0mself\u001b[0m\u001b[0;34m,\u001b[0m \u001b[0;34m'__javavalue__'\u001b[0m\u001b[0;34m)\u001b[0m\u001b[0;34m:\u001b[0m\u001b[0;34m\u001b[0m\u001b[0;34m\u001b[0m\u001b[0m\n\u001b[0;32m---> 95\u001b[0;31m             \u001b[0mjv\u001b[0m \u001b[0;34m=\u001b[0m \u001b[0mself\u001b[0m\u001b[0;34m.\u001b[0m\u001b[0m__class__\u001b[0m\u001b[0;34m.\u001b[0m\u001b[0m__javaclass__\u001b[0m\u001b[0;34m.\u001b[0m\u001b[0mnewInstance\u001b[0m\u001b[0;34m(\u001b[0m\u001b[0;34m*\u001b[0m\u001b[0margs\u001b[0m\u001b[0;34m)\u001b[0m\u001b[0;34m\u001b[0m\u001b[0;34m\u001b[0m\u001b[0m\n\u001b[0m\u001b[1;32m     96\u001b[0m             \u001b[0mobject\u001b[0m\u001b[0;34m.\u001b[0m\u001b[0m__setattr__\u001b[0m\u001b[0;34m(\u001b[0m\u001b[0mself\u001b[0m\u001b[0;34m,\u001b[0m \u001b[0;34m'__javavalue__'\u001b[0m\u001b[0;34m,\u001b[0m \u001b[0mjv\u001b[0m\u001b[0;34m)\u001b[0m\u001b[0;34m\u001b[0m\u001b[0;34m\u001b[0m\u001b[0m\n\u001b[1;32m     97\u001b[0m         \u001b[0msuper\u001b[0m\u001b[0;34m(\u001b[0m\u001b[0mJObject\u001b[0m\u001b[0;34m,\u001b[0m \u001b[0mself\u001b[0m\u001b[0;34m)\u001b[0m\u001b[0;34m.\u001b[0m\u001b[0m__init__\u001b[0m\u001b[0;34m(\u001b[0m\u001b[0;34m)\u001b[0m\u001b[0;34m\u001b[0m\u001b[0;34m\u001b[0m\u001b[0m\n",
      "\u001b[0;31mjava.lang.OutOfMemoryError\u001b[0m: GC overhead limit exceeded"
     ]
    }
   ],
   "source": [
    "from konlpy.tag import Komoran\n",
    "komoran = Komoran(userdic='/tmp/dic.txt')\n",
    " \n",
    "komoran.morphs    #형태소 분석\n",
    "komoran.nouns     #명사 분석\n",
    "komoran.pos       #형태소 분석 태깅\n",
    " \n",
    "# 사용예시\n",
    "print(komoran.morphs(u'우왕 코모란도 오픈소스가 되었어요  '))\n",
    "print(\"\\n\")\n",
    " \n",
    "print(komoran.nouns(u'오픈소스에 관심 많은 멋진 개발자님들! '))\n",
    "print(\"\\n\")\n",
    " \n",
    "print(komoran.pos(u'혹시 바람과 함께 사라지다 봤어? '))\n",
    "print(\"\\n\")"
   ]
  },
  {
   "cell_type": "code",
   "execution_count": 14,
   "metadata": {},
   "outputs": [
    {
     "name": "stdout",
     "output_type": "stream",
     "text": [
      "['단독', '입찰', '보다', '복수', '입찰', '의', '경우']\n",
      "\n",
      "\n",
      "['항공기', '체계', '종합', '개발', '경험']\n",
      "\n",
      "\n",
      "['날카로운 분석', '날카로운 분석과 신뢰감', '날카로운 분석과 신뢰감 있는 진행', '분석', '신뢰', '진행']\n",
      "\n",
      "\n",
      "[('이', 'Determiner'), ('것', 'Noun'), ('도', 'Josa'), ('되나욬', 'Noun'), ('ㅋㅋ', 'KoreanParticle')]\n",
      "\n",
      "\n"
     ]
    }
   ],
   "source": [
    "from konlpy.tag import Okt\n",
    "okt = Okt()\n",
    " \n",
    "okt.morphs     #형태소 분석\n",
    "okt.nouns      #명사 분석\n",
    "okt.phrases    #구(Phrase) 분석\n",
    "okt.pos        #형태소 분석 태깅\n",
    " \n",
    "# 사용예시\n",
    "print(okt.morphs(u'단독입찰보다 복수입찰의 경우'))\n",
    "print(\"\\n\")\n",
    " \n",
    "print(okt.nouns(u'유일하게 항공기 체계 종합개발 경험을 갖고 있는 KAI는'))\n",
    "print(\"\\n\")\n",
    " \n",
    "print(okt.phrases(u'날카로운 분석과 신뢰감 있는 진행으로'))\n",
    "print(\"\\n\")\n",
    " \n",
    "print(okt.pos(u'이것도 되나욬ㅋㅋ'))\n",
    "print(\"\\n\")"
   ]
  },
  {
   "cell_type": "code",
   "execution_count": 15,
   "metadata": {},
   "outputs": [
    {
     "name": "stdout",
     "output_type": "stream",
     "text": [
      "['단독', '입찰', '보다', '복수', '입찰', '의', '경우']\n",
      "\n",
      "\n",
      "['유일', '항공기', '체계', '종합', '개발', '경험']\n",
      "\n",
      "\n",
      "[('이것', 'NP'), ('도', 'JX'), ('되', 'VV'), ('나', 'EC'), ('욬ㅋㅋ', 'UNKNOWN')]\n",
      "\n",
      "\n"
     ]
    }
   ],
   "source": [
    "from konlpy.tag import Mecab\n",
    "mecab = Mecab()\n",
    " \n",
    "mecab.morphs     #형태소 분석\n",
    "mecab.nouns      #명사 분석   #구(Phrase) 분석\n",
    "mecab.pos        #형태소 분석 태깅\n",
    " \n",
    "# 사용예시\n",
    "print(mecab.morphs(u'단독입찰보다 복수입찰의 경우'))\n",
    "print(\"\\n\")\n",
    " \n",
    "print(mecab.nouns(u'유일하게 항공기 체계 종합개발 경험을 갖고 있는 KAI는'))\n",
    "print(\"\\n\")\n",
    " \n",
    "print(mecab.pos(u'이것도 되나욬ㅋㅋ'))\n",
    "print(\"\\n\")"
   ]
  },
  {
   "cell_type": "code",
   "execution_count": null,
   "metadata": {},
   "outputs": [],
   "source": [
    "konlpy.utils.concordance(찾을 단어, 전체문장, show=False) \n",
    "#concordance 단어색인(해당 단어가 쓰인 부분(index) 찾음)\n",
    "#show = True 인 경우 단어 색인과 함께 포함된 문장 반환\n",
    " \n",
    "konlpy.utils.pprint(obj) #유니코드 문자 출력\n",
    " \n",
    "konlpy.utils.read_json(filename, encoding=u'utf-8') # json 파일 읽음\n",
    "konlpy.utils.read_txt(filename, encoding=u'utf-8')  # txt 파일 읽음\n",
    "konlpy.utils.csvread(f, encoding=u'utf-8')          # csv 파일 읽음\n",
    "konlpy.utils.csvwrite(data, f)                      # csv파일로 쓰기 가능\n",
    "konlpy.utils.hex2char( h )                 #16진수 문자를 유니코드 문자로 변환"
   ]
  }
 ],
 "metadata": {
  "kernelspec": {
   "display_name": "Python 3",
   "language": "python",
   "name": "python3"
  },
  "language_info": {
   "codemirror_mode": {
    "name": "ipython",
    "version": 3
   },
   "file_extension": ".py",
   "mimetype": "text/x-python",
   "name": "python",
   "nbconvert_exporter": "python",
   "pygments_lexer": "ipython3",
   "version": "3.6.8"
  }
 },
 "nbformat": 4,
 "nbformat_minor": 2
}
